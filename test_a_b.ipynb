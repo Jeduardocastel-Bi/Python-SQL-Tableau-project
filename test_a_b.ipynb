{
 "cells": [
  {
   "cell_type": "markdown",
   "id": "43bd8bc2-b9dd-437f-a1b9-78c75e9f969e",
   "metadata": {},
   "source": [
    "# **Test A/B**\n",
    "\n",
    "## **Descripción del ejercicio**\n",
    "\n",
    "En el presente proyecto se realizarà un anàlisis de dos grupos A y B, con el fin de determinar si los cambios realizados en el grupo B son significativamente mejores en cuanto a eficacia y generaciòn de ventas que el grupo A."
   ]
  },
  {
   "cell_type": "markdown",
   "id": "3625bc31-7014-4c3f-b9a8-4fe46baed983",
   "metadata": {},
   "source": [
    "**Descripción técnica**\n",
    "\n",
    "\t• Nombre de la prueba: recommender_system_test\n",
    "\t• Grupos: А (control), B (nuevo embudo de pago)\n",
    "\t• Fecha de lanzamiento: 2020-12-07\n",
    "\t• Fecha en la que dejaron de aceptar nuevos usuarios: 2020-12-21\n",
    "\t• Fecha de finalización: 2021-01-01\n",
    "\t• Audiencia: 15% de los nuevos usuarios de la región de la UE\n",
    "\t• Propósito de la prueba: probar cambios relacionados con la introducción de un sistema de recomendaciones mejorado\n",
    "\t• Resultado esperado: dentro de los 14 días posteriores a la inscripción, los usuarios mostrarán una mejor conversión en vistas de la página del producto (el evento product_page), instancias de agregar artículos al carrito de compras (product_cart) y compras (purchase). En cada etapa del embudo product_page → product_cart → purchase, habrá al menos un 10% de aumento.\n",
    "\t• Número previsto de participantes de la prueba: 6 000\n"
   ]
  },
  {
   "cell_type": "markdown",
   "id": "aac3333c-6c54-4541-8750-44887f002673",
   "metadata": {},
   "source": [
    "**Descripciòn de los datos**\n",
    "\n",
    "\t• ab_project_marketing_events_us.csv — el calendario de eventos de marketing para 2020\n",
    "\t• final_ab_new_users_upd_us.csv — todos los usuarios que se registraron en la tienda en línea desde el 7 hasta el 21 de diciembre de 2020\n",
    "\t• final_ab_events_upd_us.csv — todos los eventos de los nuevos usuarios en el período comprendido entre el 7 de diciembre de 2020 y el 1 de enero de 2021\n",
    "\t• final_ab_participants_upd_us.csv — tabla con los datos de los participantes de la prueba\n",
    " \n",
    "    Estructura ab_project__marketing_events_us.csv:\n",
    "\t• name — el nombre del evento de marketing\n",
    "\t• regions — regiones donde se llevará a cabo la campaña publicitaria\n",
    "\t• start_dt — fecha de inicio de la campaña\n",
    "\t• finish_dt — fecha de finalización de la campaña\n",
    " \n",
    "    Estructura final_ab_new_users_upd_us.csv:\n",
    "\t• user_id\n",
    "\t• first_date — fecha de inscripción\n",
    "\t• region\n",
    "\t• device — dispositivo utilizado para la inscripción\n",
    " \n",
    "    Estructura final_ab_events_upd_us.csv:\n",
    "\t• user_id\n",
    "\t• event_dt — fecha y hora del evento\n",
    "\t• event_name — nombre del tipo de evento\n",
    "\t• details — datos adicionales sobre el evento (por ejemplo, el pedido total en USD para los eventos purchase)\n",
    " \n",
    "    Estructura final_ab_participants_upd_us.csv:\n",
    "\t• user_id\n",
    "\t• ab_test — nombre de la prueba\n",
    "\t• group — el grupo de prueba al que pertenecía el usuario\n"
   ]
  },
  {
   "cell_type": "markdown",
   "id": "6172b424-37fd-46a9-b76c-fc0ab72806dc",
   "metadata": {},
   "source": [
    "Descomposiciòn del proyecto:\n",
    "\n",
    "1. Importar las librerias\n",
    "2. Cargar y explorar los datasets\n",
    "3. Analisis Exploratorio de los datos (EDA)\n",
    "4. Evaluar los resultados de la prueba A/B:\n",
    "5. Conclusiones"
   ]
  },
  {
   "cell_type": "markdown",
   "id": "a2826e3f-ecfb-48f3-be45-284154a5998a",
   "metadata": {},
   "source": [
    "# 1. Importar librerias"
   ]
  },
  {
   "cell_type": "code",
   "execution_count": 83,
   "id": "438a9692-89ae-4c44-9fa1-89455de63c80",
   "metadata": {},
   "outputs": [],
   "source": [
    "import pandas as pd\n",
    "import numpy as np\n",
    "import matplotlib.pyplot as plt\n",
    "from scipy.stats import mannwhitneyu\n",
    "import seaborn as sns\n"
   ]
  },
  {
   "cell_type": "markdown",
   "id": "b6dde3e1-3657-40cd-b278-07927215f17c",
   "metadata": {},
   "source": [
    "# 2. Cargar y explorar los datasets"
   ]
  },
  {
   "cell_type": "code",
   "execution_count": 10,
   "id": "b475234f-b35f-4613-ac04-140326417863",
   "metadata": {},
   "outputs": [],
   "source": [
    "marketing_events_calendar = pd.read_csv('ab_project_marketing_events_us.csv')\n",
    "customers = pd.read_csv('final_ab_new_users_upd_us.csv')\n",
    "events = pd.read_csv('final_ab_events_upd_us.csv')\n",
    "test_participants = pd.read_csv('final_ab_participants_upd_us.csv')"
   ]
  },
  {
   "cell_type": "markdown",
   "id": "ae2b02d3-ca58-4cb7-945d-4abb296740ce",
   "metadata": {},
   "source": [
    "## Dataset: Calendario de eventos de marketing"
   ]
  },
  {
   "cell_type": "code",
   "execution_count": 11,
   "id": "130ac73e-32fc-429d-9aee-0e387bea7a05",
   "metadata": {},
   "outputs": [
    {
     "data": {
      "text/html": [
       "<div>\n",
       "<style scoped>\n",
       "    .dataframe tbody tr th:only-of-type {\n",
       "        vertical-align: middle;\n",
       "    }\n",
       "\n",
       "    .dataframe tbody tr th {\n",
       "        vertical-align: top;\n",
       "    }\n",
       "\n",
       "    .dataframe thead th {\n",
       "        text-align: right;\n",
       "    }\n",
       "</style>\n",
       "<table border=\"1\" class=\"dataframe\">\n",
       "  <thead>\n",
       "    <tr style=\"text-align: right;\">\n",
       "      <th></th>\n",
       "      <th>name</th>\n",
       "      <th>regions</th>\n",
       "      <th>start_dt</th>\n",
       "      <th>finish_dt</th>\n",
       "    </tr>\n",
       "  </thead>\n",
       "  <tbody>\n",
       "    <tr>\n",
       "      <th>0</th>\n",
       "      <td>Christmas&amp;New Year Promo</td>\n",
       "      <td>EU, N.America</td>\n",
       "      <td>2020-12-25</td>\n",
       "      <td>2021-01-03</td>\n",
       "    </tr>\n",
       "    <tr>\n",
       "      <th>1</th>\n",
       "      <td>St. Valentine's Day Giveaway</td>\n",
       "      <td>EU, CIS, APAC, N.America</td>\n",
       "      <td>2020-02-14</td>\n",
       "      <td>2020-02-16</td>\n",
       "    </tr>\n",
       "    <tr>\n",
       "      <th>2</th>\n",
       "      <td>St. Patric's Day Promo</td>\n",
       "      <td>EU, N.America</td>\n",
       "      <td>2020-03-17</td>\n",
       "      <td>2020-03-19</td>\n",
       "    </tr>\n",
       "    <tr>\n",
       "      <th>3</th>\n",
       "      <td>Easter Promo</td>\n",
       "      <td>EU, CIS, APAC, N.America</td>\n",
       "      <td>2020-04-12</td>\n",
       "      <td>2020-04-19</td>\n",
       "    </tr>\n",
       "    <tr>\n",
       "      <th>4</th>\n",
       "      <td>4th of July Promo</td>\n",
       "      <td>N.America</td>\n",
       "      <td>2020-07-04</td>\n",
       "      <td>2020-07-11</td>\n",
       "    </tr>\n",
       "    <tr>\n",
       "      <th>5</th>\n",
       "      <td>Black Friday Ads Campaign</td>\n",
       "      <td>EU, CIS, APAC, N.America</td>\n",
       "      <td>2020-11-26</td>\n",
       "      <td>2020-12-01</td>\n",
       "    </tr>\n",
       "    <tr>\n",
       "      <th>6</th>\n",
       "      <td>Chinese New Year Promo</td>\n",
       "      <td>APAC</td>\n",
       "      <td>2020-01-25</td>\n",
       "      <td>2020-02-07</td>\n",
       "    </tr>\n",
       "    <tr>\n",
       "      <th>7</th>\n",
       "      <td>Labor day (May 1st) Ads Campaign</td>\n",
       "      <td>EU, CIS, APAC</td>\n",
       "      <td>2020-05-01</td>\n",
       "      <td>2020-05-03</td>\n",
       "    </tr>\n",
       "    <tr>\n",
       "      <th>8</th>\n",
       "      <td>International Women's Day Promo</td>\n",
       "      <td>EU, CIS, APAC</td>\n",
       "      <td>2020-03-08</td>\n",
       "      <td>2020-03-10</td>\n",
       "    </tr>\n",
       "    <tr>\n",
       "      <th>9</th>\n",
       "      <td>Victory Day CIS (May 9th) Event</td>\n",
       "      <td>CIS</td>\n",
       "      <td>2020-05-09</td>\n",
       "      <td>2020-05-11</td>\n",
       "    </tr>\n",
       "    <tr>\n",
       "      <th>10</th>\n",
       "      <td>CIS New Year Gift Lottery</td>\n",
       "      <td>CIS</td>\n",
       "      <td>2020-12-30</td>\n",
       "      <td>2021-01-07</td>\n",
       "    </tr>\n",
       "    <tr>\n",
       "      <th>11</th>\n",
       "      <td>Dragon Boat Festival Giveaway</td>\n",
       "      <td>APAC</td>\n",
       "      <td>2020-06-25</td>\n",
       "      <td>2020-07-01</td>\n",
       "    </tr>\n",
       "    <tr>\n",
       "      <th>12</th>\n",
       "      <td>Single's Day Gift Promo</td>\n",
       "      <td>APAC</td>\n",
       "      <td>2020-11-11</td>\n",
       "      <td>2020-11-12</td>\n",
       "    </tr>\n",
       "    <tr>\n",
       "      <th>13</th>\n",
       "      <td>Chinese Moon Festival</td>\n",
       "      <td>APAC</td>\n",
       "      <td>2020-10-01</td>\n",
       "      <td>2020-10-07</td>\n",
       "    </tr>\n",
       "  </tbody>\n",
       "</table>\n",
       "</div>"
      ],
      "text/plain": [
       "                                name                   regions    start_dt  \\\n",
       "0           Christmas&New Year Promo             EU, N.America  2020-12-25   \n",
       "1       St. Valentine's Day Giveaway  EU, CIS, APAC, N.America  2020-02-14   \n",
       "2             St. Patric's Day Promo             EU, N.America  2020-03-17   \n",
       "3                       Easter Promo  EU, CIS, APAC, N.America  2020-04-12   \n",
       "4                  4th of July Promo                 N.America  2020-07-04   \n",
       "5          Black Friday Ads Campaign  EU, CIS, APAC, N.America  2020-11-26   \n",
       "6             Chinese New Year Promo                      APAC  2020-01-25   \n",
       "7   Labor day (May 1st) Ads Campaign             EU, CIS, APAC  2020-05-01   \n",
       "8    International Women's Day Promo             EU, CIS, APAC  2020-03-08   \n",
       "9    Victory Day CIS (May 9th) Event                       CIS  2020-05-09   \n",
       "10         CIS New Year Gift Lottery                       CIS  2020-12-30   \n",
       "11     Dragon Boat Festival Giveaway                      APAC  2020-06-25   \n",
       "12           Single's Day Gift Promo                      APAC  2020-11-11   \n",
       "13             Chinese Moon Festival                      APAC  2020-10-01   \n",
       "\n",
       "     finish_dt  \n",
       "0   2021-01-03  \n",
       "1   2020-02-16  \n",
       "2   2020-03-19  \n",
       "3   2020-04-19  \n",
       "4   2020-07-11  \n",
       "5   2020-12-01  \n",
       "6   2020-02-07  \n",
       "7   2020-05-03  \n",
       "8   2020-03-10  \n",
       "9   2020-05-11  \n",
       "10  2021-01-07  \n",
       "11  2020-07-01  \n",
       "12  2020-11-12  \n",
       "13  2020-10-07  "
      ]
     },
     "execution_count": 11,
     "metadata": {},
     "output_type": "execute_result"
    }
   ],
   "source": [
    "marketing_events_calendar"
   ]
  },
  {
   "cell_type": "code",
   "execution_count": 12,
   "id": "7c68ae00-561f-42f0-a255-c024c11d9986",
   "metadata": {},
   "outputs": [],
   "source": [
    "def analisis_exploratorio_df(data):\n",
    "    print(data.shape)\n",
    "    print()\n",
    "    print(data.info())\n",
    "    print()\n",
    "    print(data.describe())\n",
    "    print()\n",
    "    print('valores ausentes:',)\n",
    "    print(data.isna().sum())\n",
    "    print()\n",
    "    print('filas duplicadas:', data.duplicated().sum())"
   ]
  },
  {
   "cell_type": "code",
   "execution_count": 13,
   "id": "3438e714-541a-4383-a751-104a66912706",
   "metadata": {},
   "outputs": [
    {
     "name": "stdout",
     "output_type": "stream",
     "text": [
      "(14, 4)\n",
      "\n",
      "<class 'pandas.core.frame.DataFrame'>\n",
      "RangeIndex: 14 entries, 0 to 13\n",
      "Data columns (total 4 columns):\n",
      " #   Column     Non-Null Count  Dtype \n",
      "---  ------     --------------  ----- \n",
      " 0   name       14 non-null     object\n",
      " 1   regions    14 non-null     object\n",
      " 2   start_dt   14 non-null     object\n",
      " 3   finish_dt  14 non-null     object\n",
      "dtypes: object(4)\n",
      "memory usage: 580.0+ bytes\n",
      "None\n",
      "\n",
      "                            name regions    start_dt   finish_dt\n",
      "count                         14      14          14          14\n",
      "unique                        14       6          14          14\n",
      "top     Christmas&New Year Promo    APAC  2020-12-25  2021-01-03\n",
      "freq                           1       4           1           1\n",
      "\n",
      "valores ausentes:\n",
      "name         0\n",
      "regions      0\n",
      "start_dt     0\n",
      "finish_dt    0\n",
      "dtype: int64\n",
      "\n",
      "filas duplicadas: 0\n"
     ]
    }
   ],
   "source": [
    "analisis_exploratorio_df(marketing_events_calendar)"
   ]
  },
  {
   "cell_type": "code",
   "execution_count": 14,
   "id": "c33b0cf6-a583-489a-8fb1-2ee5e543da9f",
   "metadata": {},
   "outputs": [],
   "source": [
    "# Convertir columnas a tipo datetime\n",
    "marketing_events_calendar['start_dt'] = pd.to_datetime(marketing_events_calendar['start_dt'])\n",
    "marketing_events_calendar['finish_dt'] = pd.to_datetime(marketing_events_calendar['finish_dt'])"
   ]
  },
  {
   "cell_type": "code",
   "execution_count": 15,
   "id": "136562d9-bd67-4292-9e2b-5b584e38fad2",
   "metadata": {},
   "outputs": [
    {
     "name": "stdout",
     "output_type": "stream",
     "text": [
      "<class 'pandas.core.frame.DataFrame'>\n",
      "RangeIndex: 14 entries, 0 to 13\n",
      "Data columns (total 4 columns):\n",
      " #   Column     Non-Null Count  Dtype         \n",
      "---  ------     --------------  -----         \n",
      " 0   name       14 non-null     object        \n",
      " 1   regions    14 non-null     object        \n",
      " 2   start_dt   14 non-null     datetime64[ns]\n",
      " 3   finish_dt  14 non-null     datetime64[ns]\n",
      "dtypes: datetime64[ns](2), object(2)\n",
      "memory usage: 580.0+ bytes\n"
     ]
    }
   ],
   "source": [
    "marketing_events_calendar.info()"
   ]
  },
  {
   "cell_type": "markdown",
   "id": "b3a1bac8-f6a0-4301-96d2-76906ca5f1e6",
   "metadata": {},
   "source": [
    "**Conclusion dataset Marketing** En el dataset de (marketing_events_calendar), se evidencio que tiene 14 filas y 4 columnas, en las cuales no se encontraron valores ausentes ni duplicados. Sin embargo se modifico el formato de object a datetime en las columnas: start_dt y finish_dt, para poder realizar adecuadamente el análsis de los datos"
   ]
  },
  {
   "cell_type": "markdown",
   "id": "c881779b-85b2-4051-9b5a-cb86867848ee",
   "metadata": {},
   "source": [
    "## Dataset: Customers"
   ]
  },
  {
   "cell_type": "code",
   "execution_count": 16,
   "id": "773b82f4-79f9-4984-9d00-22cdbf9fd234",
   "metadata": {},
   "outputs": [
    {
     "data": {
      "text/html": [
       "<div>\n",
       "<style scoped>\n",
       "    .dataframe tbody tr th:only-of-type {\n",
       "        vertical-align: middle;\n",
       "    }\n",
       "\n",
       "    .dataframe tbody tr th {\n",
       "        vertical-align: top;\n",
       "    }\n",
       "\n",
       "    .dataframe thead th {\n",
       "        text-align: right;\n",
       "    }\n",
       "</style>\n",
       "<table border=\"1\" class=\"dataframe\">\n",
       "  <thead>\n",
       "    <tr style=\"text-align: right;\">\n",
       "      <th></th>\n",
       "      <th>user_id</th>\n",
       "      <th>first_date</th>\n",
       "      <th>region</th>\n",
       "      <th>device</th>\n",
       "    </tr>\n",
       "  </thead>\n",
       "  <tbody>\n",
       "    <tr>\n",
       "      <th>0</th>\n",
       "      <td>D72A72121175D8BE</td>\n",
       "      <td>2020-12-07</td>\n",
       "      <td>EU</td>\n",
       "      <td>PC</td>\n",
       "    </tr>\n",
       "    <tr>\n",
       "      <th>1</th>\n",
       "      <td>F1C668619DFE6E65</td>\n",
       "      <td>2020-12-07</td>\n",
       "      <td>N.America</td>\n",
       "      <td>Android</td>\n",
       "    </tr>\n",
       "    <tr>\n",
       "      <th>2</th>\n",
       "      <td>2E1BF1D4C37EA01F</td>\n",
       "      <td>2020-12-07</td>\n",
       "      <td>EU</td>\n",
       "      <td>PC</td>\n",
       "    </tr>\n",
       "    <tr>\n",
       "      <th>3</th>\n",
       "      <td>50734A22C0C63768</td>\n",
       "      <td>2020-12-07</td>\n",
       "      <td>EU</td>\n",
       "      <td>iPhone</td>\n",
       "    </tr>\n",
       "    <tr>\n",
       "      <th>4</th>\n",
       "      <td>E1BDDCE0DAFA2679</td>\n",
       "      <td>2020-12-07</td>\n",
       "      <td>N.America</td>\n",
       "      <td>iPhone</td>\n",
       "    </tr>\n",
       "    <tr>\n",
       "      <th>...</th>\n",
       "      <td>...</td>\n",
       "      <td>...</td>\n",
       "      <td>...</td>\n",
       "      <td>...</td>\n",
       "    </tr>\n",
       "    <tr>\n",
       "      <th>58698</th>\n",
       "      <td>1DB53B933257165D</td>\n",
       "      <td>2020-12-20</td>\n",
       "      <td>EU</td>\n",
       "      <td>Android</td>\n",
       "    </tr>\n",
       "    <tr>\n",
       "      <th>58699</th>\n",
       "      <td>538643EB4527ED03</td>\n",
       "      <td>2020-12-20</td>\n",
       "      <td>EU</td>\n",
       "      <td>Mac</td>\n",
       "    </tr>\n",
       "    <tr>\n",
       "      <th>58700</th>\n",
       "      <td>7ADEE837D5D8CBBD</td>\n",
       "      <td>2020-12-20</td>\n",
       "      <td>EU</td>\n",
       "      <td>PC</td>\n",
       "    </tr>\n",
       "    <tr>\n",
       "      <th>58701</th>\n",
       "      <td>1C7D23927835213F</td>\n",
       "      <td>2020-12-20</td>\n",
       "      <td>EU</td>\n",
       "      <td>iPhone</td>\n",
       "    </tr>\n",
       "    <tr>\n",
       "      <th>58702</th>\n",
       "      <td>8F04273BB2860229</td>\n",
       "      <td>2020-12-20</td>\n",
       "      <td>EU</td>\n",
       "      <td>Android</td>\n",
       "    </tr>\n",
       "  </tbody>\n",
       "</table>\n",
       "<p>58703 rows × 4 columns</p>\n",
       "</div>"
      ],
      "text/plain": [
       "                user_id  first_date     region   device\n",
       "0      D72A72121175D8BE  2020-12-07         EU       PC\n",
       "1      F1C668619DFE6E65  2020-12-07  N.America  Android\n",
       "2      2E1BF1D4C37EA01F  2020-12-07         EU       PC\n",
       "3      50734A22C0C63768  2020-12-07         EU   iPhone\n",
       "4      E1BDDCE0DAFA2679  2020-12-07  N.America   iPhone\n",
       "...                 ...         ...        ...      ...\n",
       "58698  1DB53B933257165D  2020-12-20         EU  Android\n",
       "58699  538643EB4527ED03  2020-12-20         EU      Mac\n",
       "58700  7ADEE837D5D8CBBD  2020-12-20         EU       PC\n",
       "58701  1C7D23927835213F  2020-12-20         EU   iPhone\n",
       "58702  8F04273BB2860229  2020-12-20         EU  Android\n",
       "\n",
       "[58703 rows x 4 columns]"
      ]
     },
     "execution_count": 16,
     "metadata": {},
     "output_type": "execute_result"
    }
   ],
   "source": [
    "customers"
   ]
  },
  {
   "cell_type": "code",
   "execution_count": 17,
   "id": "1127a888-760c-4ce7-a5b7-32220b1f1f5d",
   "metadata": {},
   "outputs": [
    {
     "name": "stdout",
     "output_type": "stream",
     "text": [
      "(58703, 4)\n",
      "\n",
      "<class 'pandas.core.frame.DataFrame'>\n",
      "RangeIndex: 58703 entries, 0 to 58702\n",
      "Data columns (total 4 columns):\n",
      " #   Column      Non-Null Count  Dtype \n",
      "---  ------      --------------  ----- \n",
      " 0   user_id     58703 non-null  object\n",
      " 1   first_date  58703 non-null  object\n",
      " 2   region      58703 non-null  object\n",
      " 3   device      58703 non-null  object\n",
      "dtypes: object(4)\n",
      "memory usage: 1.8+ MB\n",
      "None\n",
      "\n",
      "                 user_id  first_date region   device\n",
      "count              58703       58703  58703    58703\n",
      "unique             58703          17      4        4\n",
      "top     D72A72121175D8BE  2020-12-21     EU  Android\n",
      "freq                   1        6077  43396    26159\n",
      "\n",
      "valores ausentes:\n",
      "user_id       0\n",
      "first_date    0\n",
      "region        0\n",
      "device        0\n",
      "dtype: int64\n",
      "\n",
      "filas duplicadas: 0\n"
     ]
    }
   ],
   "source": [
    "analisis_exploratorio_df(customers)"
   ]
  },
  {
   "cell_type": "code",
   "execution_count": 18,
   "id": "a3957a09-4ce7-455c-85b9-bd0b813c3d74",
   "metadata": {},
   "outputs": [],
   "source": [
    "# Convertir columnas a tipo datetime\n",
    "\n",
    "customers['first_date'] = pd.to_datetime(customers['first_date'])"
   ]
  },
  {
   "cell_type": "code",
   "execution_count": 19,
   "id": "2f2a8da4-e309-4f17-a42c-47f1f5937e8e",
   "metadata": {},
   "outputs": [
    {
     "name": "stdout",
     "output_type": "stream",
     "text": [
      "<class 'pandas.core.frame.DataFrame'>\n",
      "RangeIndex: 58703 entries, 0 to 58702\n",
      "Data columns (total 4 columns):\n",
      " #   Column      Non-Null Count  Dtype         \n",
      "---  ------      --------------  -----         \n",
      " 0   user_id     58703 non-null  object        \n",
      " 1   first_date  58703 non-null  datetime64[ns]\n",
      " 2   region      58703 non-null  object        \n",
      " 3   device      58703 non-null  object        \n",
      "dtypes: datetime64[ns](1), object(3)\n",
      "memory usage: 1.8+ MB\n"
     ]
    }
   ],
   "source": [
    "customers.info()"
   ]
  },
  {
   "cell_type": "markdown",
   "id": "dcd83d9f-0d0a-42aa-a810-8ead99ae3290",
   "metadata": {},
   "source": [
    "**Conclusion dataset Customers** En el dataset de (customers), contiene 58.703 filas en 4 columnas, en las cuales no se encontraron valores ausentes ni duplicados. Sin embargo se modifico el formato de object a datetime en la columna: first_date, para poder realizar adecuadamente el análsis de los datos"
   ]
  },
  {
   "cell_type": "markdown",
   "id": "86254f73-b74c-47ef-814b-070e3d64d2ac",
   "metadata": {},
   "source": [
    "## Dataset: events"
   ]
  },
  {
   "cell_type": "code",
   "execution_count": 20,
   "id": "c6dbd177-05d6-42c2-b911-a8bedd814e4d",
   "metadata": {},
   "outputs": [
    {
     "data": {
      "text/html": [
       "<div>\n",
       "<style scoped>\n",
       "    .dataframe tbody tr th:only-of-type {\n",
       "        vertical-align: middle;\n",
       "    }\n",
       "\n",
       "    .dataframe tbody tr th {\n",
       "        vertical-align: top;\n",
       "    }\n",
       "\n",
       "    .dataframe thead th {\n",
       "        text-align: right;\n",
       "    }\n",
       "</style>\n",
       "<table border=\"1\" class=\"dataframe\">\n",
       "  <thead>\n",
       "    <tr style=\"text-align: right;\">\n",
       "      <th></th>\n",
       "      <th>user_id</th>\n",
       "      <th>event_dt</th>\n",
       "      <th>event_name</th>\n",
       "      <th>details</th>\n",
       "    </tr>\n",
       "  </thead>\n",
       "  <tbody>\n",
       "    <tr>\n",
       "      <th>0</th>\n",
       "      <td>E1BDDCE0DAFA2679</td>\n",
       "      <td>2020-12-07 20:22:03</td>\n",
       "      <td>purchase</td>\n",
       "      <td>99.99</td>\n",
       "    </tr>\n",
       "    <tr>\n",
       "      <th>1</th>\n",
       "      <td>7B6452F081F49504</td>\n",
       "      <td>2020-12-07 09:22:53</td>\n",
       "      <td>purchase</td>\n",
       "      <td>9.99</td>\n",
       "    </tr>\n",
       "    <tr>\n",
       "      <th>2</th>\n",
       "      <td>9CD9F34546DF254C</td>\n",
       "      <td>2020-12-07 12:59:29</td>\n",
       "      <td>purchase</td>\n",
       "      <td>4.99</td>\n",
       "    </tr>\n",
       "    <tr>\n",
       "      <th>3</th>\n",
       "      <td>96F27A054B191457</td>\n",
       "      <td>2020-12-07 04:02:40</td>\n",
       "      <td>purchase</td>\n",
       "      <td>4.99</td>\n",
       "    </tr>\n",
       "    <tr>\n",
       "      <th>4</th>\n",
       "      <td>1FD7660FDF94CA1F</td>\n",
       "      <td>2020-12-07 10:15:09</td>\n",
       "      <td>purchase</td>\n",
       "      <td>4.99</td>\n",
       "    </tr>\n",
       "    <tr>\n",
       "      <th>...</th>\n",
       "      <td>...</td>\n",
       "      <td>...</td>\n",
       "      <td>...</td>\n",
       "      <td>...</td>\n",
       "    </tr>\n",
       "    <tr>\n",
       "      <th>423756</th>\n",
       "      <td>245E85F65C358E08</td>\n",
       "      <td>2020-12-30 19:35:55</td>\n",
       "      <td>login</td>\n",
       "      <td>NaN</td>\n",
       "    </tr>\n",
       "    <tr>\n",
       "      <th>423757</th>\n",
       "      <td>9385A108F5A0A7A7</td>\n",
       "      <td>2020-12-30 10:54:15</td>\n",
       "      <td>login</td>\n",
       "      <td>NaN</td>\n",
       "    </tr>\n",
       "    <tr>\n",
       "      <th>423758</th>\n",
       "      <td>DB650B7559AC6EAC</td>\n",
       "      <td>2020-12-30 10:59:09</td>\n",
       "      <td>login</td>\n",
       "      <td>NaN</td>\n",
       "    </tr>\n",
       "    <tr>\n",
       "      <th>423759</th>\n",
       "      <td>F80C9BDDEA02E53C</td>\n",
       "      <td>2020-12-30 09:53:39</td>\n",
       "      <td>login</td>\n",
       "      <td>NaN</td>\n",
       "    </tr>\n",
       "    <tr>\n",
       "      <th>423760</th>\n",
       "      <td>7AEC61159B672CC5</td>\n",
       "      <td>2020-12-30 11:36:13</td>\n",
       "      <td>login</td>\n",
       "      <td>NaN</td>\n",
       "    </tr>\n",
       "  </tbody>\n",
       "</table>\n",
       "<p>423761 rows × 4 columns</p>\n",
       "</div>"
      ],
      "text/plain": [
       "                 user_id             event_dt event_name  details\n",
       "0       E1BDDCE0DAFA2679  2020-12-07 20:22:03   purchase    99.99\n",
       "1       7B6452F081F49504  2020-12-07 09:22:53   purchase     9.99\n",
       "2       9CD9F34546DF254C  2020-12-07 12:59:29   purchase     4.99\n",
       "3       96F27A054B191457  2020-12-07 04:02:40   purchase     4.99\n",
       "4       1FD7660FDF94CA1F  2020-12-07 10:15:09   purchase     4.99\n",
       "...                  ...                  ...        ...      ...\n",
       "423756  245E85F65C358E08  2020-12-30 19:35:55      login      NaN\n",
       "423757  9385A108F5A0A7A7  2020-12-30 10:54:15      login      NaN\n",
       "423758  DB650B7559AC6EAC  2020-12-30 10:59:09      login      NaN\n",
       "423759  F80C9BDDEA02E53C  2020-12-30 09:53:39      login      NaN\n",
       "423760  7AEC61159B672CC5  2020-12-30 11:36:13      login      NaN\n",
       "\n",
       "[423761 rows x 4 columns]"
      ]
     },
     "execution_count": 20,
     "metadata": {},
     "output_type": "execute_result"
    }
   ],
   "source": [
    "events"
   ]
  },
  {
   "cell_type": "code",
   "execution_count": 21,
   "id": "58e7a5b8-73f4-4e13-b711-609f87fa991b",
   "metadata": {},
   "outputs": [
    {
     "name": "stdout",
     "output_type": "stream",
     "text": [
      "(423761, 4)\n",
      "\n",
      "<class 'pandas.core.frame.DataFrame'>\n",
      "RangeIndex: 423761 entries, 0 to 423760\n",
      "Data columns (total 4 columns):\n",
      " #   Column      Non-Null Count   Dtype  \n",
      "---  ------      --------------   -----  \n",
      " 0   user_id     423761 non-null  object \n",
      " 1   event_dt    423761 non-null  object \n",
      " 2   event_name  423761 non-null  object \n",
      " 3   details     60314 non-null   float64\n",
      "dtypes: float64(1), object(3)\n",
      "memory usage: 12.9+ MB\n",
      "None\n",
      "\n",
      "            details\n",
      "count  60314.000000\n",
      "mean      23.881219\n",
      "std       72.228884\n",
      "min        4.990000\n",
      "25%        4.990000\n",
      "50%        4.990000\n",
      "75%        9.990000\n",
      "max      499.990000\n",
      "\n",
      "valores ausentes:\n",
      "user_id            0\n",
      "event_dt           0\n",
      "event_name         0\n",
      "details       363447\n",
      "dtype: int64\n",
      "\n",
      "filas duplicadas: 0\n"
     ]
    }
   ],
   "source": [
    "analisis_exploratorio_df(events)"
   ]
  },
  {
   "cell_type": "code",
   "execution_count": 22,
   "id": "dd37763b-43c2-4004-9516-e20fbdb0fe6f",
   "metadata": {},
   "outputs": [],
   "source": [
    "# Convertir columnas a tipo datetime\n",
    "\n",
    "events['event_dt'] = pd.to_datetime(events['event_dt'])"
   ]
  },
  {
   "cell_type": "code",
   "execution_count": 23,
   "id": "07381a1c-b1e3-45d5-8f22-0f209f1c3fd2",
   "metadata": {},
   "outputs": [
    {
     "data": {
      "text/html": [
       "<div>\n",
       "<style scoped>\n",
       "    .dataframe tbody tr th:only-of-type {\n",
       "        vertical-align: middle;\n",
       "    }\n",
       "\n",
       "    .dataframe tbody tr th {\n",
       "        vertical-align: top;\n",
       "    }\n",
       "\n",
       "    .dataframe thead th {\n",
       "        text-align: right;\n",
       "    }\n",
       "</style>\n",
       "<table border=\"1\" class=\"dataframe\">\n",
       "  <thead>\n",
       "    <tr style=\"text-align: right;\">\n",
       "      <th></th>\n",
       "      <th>user_id</th>\n",
       "      <th>event_dt</th>\n",
       "      <th>event_name</th>\n",
       "      <th>details</th>\n",
       "    </tr>\n",
       "  </thead>\n",
       "  <tbody>\n",
       "    <tr>\n",
       "      <th>60314</th>\n",
       "      <td>2E1BF1D4C37EA01F</td>\n",
       "      <td>2020-12-07 09:05:47</td>\n",
       "      <td>product_cart</td>\n",
       "      <td>NaN</td>\n",
       "    </tr>\n",
       "    <tr>\n",
       "      <th>60315</th>\n",
       "      <td>50734A22C0C63768</td>\n",
       "      <td>2020-12-07 13:24:03</td>\n",
       "      <td>product_cart</td>\n",
       "      <td>NaN</td>\n",
       "    </tr>\n",
       "    <tr>\n",
       "      <th>60316</th>\n",
       "      <td>5EB159DA9DC94DBA</td>\n",
       "      <td>2020-12-07 22:54:02</td>\n",
       "      <td>product_cart</td>\n",
       "      <td>NaN</td>\n",
       "    </tr>\n",
       "    <tr>\n",
       "      <th>60317</th>\n",
       "      <td>084A22B980BA8169</td>\n",
       "      <td>2020-12-07 15:25:55</td>\n",
       "      <td>product_cart</td>\n",
       "      <td>NaN</td>\n",
       "    </tr>\n",
       "    <tr>\n",
       "      <th>60318</th>\n",
       "      <td>0FC21E6F8FAA8DEC</td>\n",
       "      <td>2020-12-07 06:56:27</td>\n",
       "      <td>product_cart</td>\n",
       "      <td>NaN</td>\n",
       "    </tr>\n",
       "    <tr>\n",
       "      <th>...</th>\n",
       "      <td>...</td>\n",
       "      <td>...</td>\n",
       "      <td>...</td>\n",
       "      <td>...</td>\n",
       "    </tr>\n",
       "    <tr>\n",
       "      <th>423756</th>\n",
       "      <td>245E85F65C358E08</td>\n",
       "      <td>2020-12-30 19:35:55</td>\n",
       "      <td>login</td>\n",
       "      <td>NaN</td>\n",
       "    </tr>\n",
       "    <tr>\n",
       "      <th>423757</th>\n",
       "      <td>9385A108F5A0A7A7</td>\n",
       "      <td>2020-12-30 10:54:15</td>\n",
       "      <td>login</td>\n",
       "      <td>NaN</td>\n",
       "    </tr>\n",
       "    <tr>\n",
       "      <th>423758</th>\n",
       "      <td>DB650B7559AC6EAC</td>\n",
       "      <td>2020-12-30 10:59:09</td>\n",
       "      <td>login</td>\n",
       "      <td>NaN</td>\n",
       "    </tr>\n",
       "    <tr>\n",
       "      <th>423759</th>\n",
       "      <td>F80C9BDDEA02E53C</td>\n",
       "      <td>2020-12-30 09:53:39</td>\n",
       "      <td>login</td>\n",
       "      <td>NaN</td>\n",
       "    </tr>\n",
       "    <tr>\n",
       "      <th>423760</th>\n",
       "      <td>7AEC61159B672CC5</td>\n",
       "      <td>2020-12-30 11:36:13</td>\n",
       "      <td>login</td>\n",
       "      <td>NaN</td>\n",
       "    </tr>\n",
       "  </tbody>\n",
       "</table>\n",
       "<p>363447 rows × 4 columns</p>\n",
       "</div>"
      ],
      "text/plain": [
       "                 user_id            event_dt    event_name  details\n",
       "60314   2E1BF1D4C37EA01F 2020-12-07 09:05:47  product_cart      NaN\n",
       "60315   50734A22C0C63768 2020-12-07 13:24:03  product_cart      NaN\n",
       "60316   5EB159DA9DC94DBA 2020-12-07 22:54:02  product_cart      NaN\n",
       "60317   084A22B980BA8169 2020-12-07 15:25:55  product_cart      NaN\n",
       "60318   0FC21E6F8FAA8DEC 2020-12-07 06:56:27  product_cart      NaN\n",
       "...                  ...                 ...           ...      ...\n",
       "423756  245E85F65C358E08 2020-12-30 19:35:55         login      NaN\n",
       "423757  9385A108F5A0A7A7 2020-12-30 10:54:15         login      NaN\n",
       "423758  DB650B7559AC6EAC 2020-12-30 10:59:09         login      NaN\n",
       "423759  F80C9BDDEA02E53C 2020-12-30 09:53:39         login      NaN\n",
       "423760  7AEC61159B672CC5 2020-12-30 11:36:13         login      NaN\n",
       "\n",
       "[363447 rows x 4 columns]"
      ]
     },
     "execution_count": 23,
     "metadata": {},
     "output_type": "execute_result"
    }
   ],
   "source": [
    "# Revisar los valores ausentes de: details\n",
    "\n",
    "missing_details = events[events['details'].isna()]\n",
    "missing_details\n"
   ]
  },
  {
   "cell_type": "markdown",
   "id": "a502d56e-cecb-4437-92f3-4e1b056e967f",
   "metadata": {},
   "source": [
    "**Conclusion dataset events** : puede observar que solo hay valores en 'details' especificamente en el evento 'purchase' donde muestra el valor en USD para los eventos. Para los otros eventos: 'purchase', 'product_cart', 'product_page', 'login' no aparecen datos en details. Sin embargo, no se puede eliminar los datos con NaN ya que eliminaria los datos de las otros eventos que si vamos a necesitar posteriormente en el analisis, por ende se manejará los valores ausentes rellenandolos\n",
    "con **'0'**"
   ]
  },
  {
   "cell_type": "code",
   "execution_count": 24,
   "id": "365bc682-3a0e-445c-8772-92d602ad6786",
   "metadata": {},
   "outputs": [],
   "source": [
    "# Se modifica los NaN por un 0\n",
    "\n",
    "events['details'] = events['details'].fillna(0)"
   ]
  },
  {
   "cell_type": "code",
   "execution_count": 25,
   "id": "9d87682a-d99f-453c-b885-d37557c52d32",
   "metadata": {},
   "outputs": [
    {
     "data": {
      "text/html": [
       "<div>\n",
       "<style scoped>\n",
       "    .dataframe tbody tr th:only-of-type {\n",
       "        vertical-align: middle;\n",
       "    }\n",
       "\n",
       "    .dataframe tbody tr th {\n",
       "        vertical-align: top;\n",
       "    }\n",
       "\n",
       "    .dataframe thead th {\n",
       "        text-align: right;\n",
       "    }\n",
       "</style>\n",
       "<table border=\"1\" class=\"dataframe\">\n",
       "  <thead>\n",
       "    <tr style=\"text-align: right;\">\n",
       "      <th></th>\n",
       "      <th>user_id</th>\n",
       "      <th>event_dt</th>\n",
       "      <th>event_name</th>\n",
       "      <th>details</th>\n",
       "    </tr>\n",
       "  </thead>\n",
       "  <tbody>\n",
       "    <tr>\n",
       "      <th>0</th>\n",
       "      <td>E1BDDCE0DAFA2679</td>\n",
       "      <td>2020-12-07 20:22:03</td>\n",
       "      <td>purchase</td>\n",
       "      <td>99.99</td>\n",
       "    </tr>\n",
       "    <tr>\n",
       "      <th>1</th>\n",
       "      <td>7B6452F081F49504</td>\n",
       "      <td>2020-12-07 09:22:53</td>\n",
       "      <td>purchase</td>\n",
       "      <td>9.99</td>\n",
       "    </tr>\n",
       "    <tr>\n",
       "      <th>2</th>\n",
       "      <td>9CD9F34546DF254C</td>\n",
       "      <td>2020-12-07 12:59:29</td>\n",
       "      <td>purchase</td>\n",
       "      <td>4.99</td>\n",
       "    </tr>\n",
       "    <tr>\n",
       "      <th>3</th>\n",
       "      <td>96F27A054B191457</td>\n",
       "      <td>2020-12-07 04:02:40</td>\n",
       "      <td>purchase</td>\n",
       "      <td>4.99</td>\n",
       "    </tr>\n",
       "    <tr>\n",
       "      <th>4</th>\n",
       "      <td>1FD7660FDF94CA1F</td>\n",
       "      <td>2020-12-07 10:15:09</td>\n",
       "      <td>purchase</td>\n",
       "      <td>4.99</td>\n",
       "    </tr>\n",
       "    <tr>\n",
       "      <th>...</th>\n",
       "      <td>...</td>\n",
       "      <td>...</td>\n",
       "      <td>...</td>\n",
       "      <td>...</td>\n",
       "    </tr>\n",
       "    <tr>\n",
       "      <th>423756</th>\n",
       "      <td>245E85F65C358E08</td>\n",
       "      <td>2020-12-30 19:35:55</td>\n",
       "      <td>login</td>\n",
       "      <td>0.00</td>\n",
       "    </tr>\n",
       "    <tr>\n",
       "      <th>423757</th>\n",
       "      <td>9385A108F5A0A7A7</td>\n",
       "      <td>2020-12-30 10:54:15</td>\n",
       "      <td>login</td>\n",
       "      <td>0.00</td>\n",
       "    </tr>\n",
       "    <tr>\n",
       "      <th>423758</th>\n",
       "      <td>DB650B7559AC6EAC</td>\n",
       "      <td>2020-12-30 10:59:09</td>\n",
       "      <td>login</td>\n",
       "      <td>0.00</td>\n",
       "    </tr>\n",
       "    <tr>\n",
       "      <th>423759</th>\n",
       "      <td>F80C9BDDEA02E53C</td>\n",
       "      <td>2020-12-30 09:53:39</td>\n",
       "      <td>login</td>\n",
       "      <td>0.00</td>\n",
       "    </tr>\n",
       "    <tr>\n",
       "      <th>423760</th>\n",
       "      <td>7AEC61159B672CC5</td>\n",
       "      <td>2020-12-30 11:36:13</td>\n",
       "      <td>login</td>\n",
       "      <td>0.00</td>\n",
       "    </tr>\n",
       "  </tbody>\n",
       "</table>\n",
       "<p>423761 rows × 4 columns</p>\n",
       "</div>"
      ],
      "text/plain": [
       "                 user_id            event_dt event_name  details\n",
       "0       E1BDDCE0DAFA2679 2020-12-07 20:22:03   purchase    99.99\n",
       "1       7B6452F081F49504 2020-12-07 09:22:53   purchase     9.99\n",
       "2       9CD9F34546DF254C 2020-12-07 12:59:29   purchase     4.99\n",
       "3       96F27A054B191457 2020-12-07 04:02:40   purchase     4.99\n",
       "4       1FD7660FDF94CA1F 2020-12-07 10:15:09   purchase     4.99\n",
       "...                  ...                 ...        ...      ...\n",
       "423756  245E85F65C358E08 2020-12-30 19:35:55      login     0.00\n",
       "423757  9385A108F5A0A7A7 2020-12-30 10:54:15      login     0.00\n",
       "423758  DB650B7559AC6EAC 2020-12-30 10:59:09      login     0.00\n",
       "423759  F80C9BDDEA02E53C 2020-12-30 09:53:39      login     0.00\n",
       "423760  7AEC61159B672CC5 2020-12-30 11:36:13      login     0.00\n",
       "\n",
       "[423761 rows x 4 columns]"
      ]
     },
     "execution_count": 25,
     "metadata": {},
     "output_type": "execute_result"
    }
   ],
   "source": [
    "events"
   ]
  },
  {
   "cell_type": "code",
   "execution_count": 26,
   "id": "737a35a2-8dbf-4697-b4d5-77b0a882623e",
   "metadata": {},
   "outputs": [
    {
     "name": "stdout",
     "output_type": "stream",
     "text": [
      "<class 'pandas.core.frame.DataFrame'>\n",
      "RangeIndex: 423761 entries, 0 to 423760\n",
      "Data columns (total 4 columns):\n",
      " #   Column      Non-Null Count   Dtype         \n",
      "---  ------      --------------   -----         \n",
      " 0   user_id     423761 non-null  object        \n",
      " 1   event_dt    423761 non-null  datetime64[ns]\n",
      " 2   event_name  423761 non-null  object        \n",
      " 3   details     423761 non-null  float64       \n",
      "dtypes: datetime64[ns](1), float64(1), object(2)\n",
      "memory usage: 12.9+ MB\n"
     ]
    }
   ],
   "source": [
    "# Se corrobora que ya no hayan valores ausentes:\n",
    "\n",
    "events.info()"
   ]
  },
  {
   "cell_type": "code",
   "execution_count": 27,
   "id": "5374ca4d-437c-4e89-9910-215892394712",
   "metadata": {},
   "outputs": [
    {
     "name": "stdout",
     "output_type": "stream",
     "text": [
      "Valores únicos en 'event_name':\n"
     ]
    },
    {
     "data": {
      "text/plain": [
       "array(['purchase', 'product_cart', 'product_page', 'login'], dtype=object)"
      ]
     },
     "execution_count": 27,
     "metadata": {},
     "output_type": "execute_result"
    }
   ],
   "source": [
    "# # Obtener valores únicos de la columna 'event_name'\n",
    "\n",
    "unique_event_names = events['event_name'].unique()\n",
    "print(\"Valores únicos en 'event_name':\")\n",
    "unique_event_names"
   ]
  },
  {
   "cell_type": "markdown",
   "id": "5582199a-c9e4-40ec-a951-4f3a99389ed5",
   "metadata": {},
   "source": [
    "## Dataset: test_participants"
   ]
  },
  {
   "cell_type": "code",
   "execution_count": 28,
   "id": "08b8e4b9-33f5-4151-99bf-1bdf0dc24260",
   "metadata": {},
   "outputs": [
    {
     "data": {
      "text/html": [
       "<div>\n",
       "<style scoped>\n",
       "    .dataframe tbody tr th:only-of-type {\n",
       "        vertical-align: middle;\n",
       "    }\n",
       "\n",
       "    .dataframe tbody tr th {\n",
       "        vertical-align: top;\n",
       "    }\n",
       "\n",
       "    .dataframe thead th {\n",
       "        text-align: right;\n",
       "    }\n",
       "</style>\n",
       "<table border=\"1\" class=\"dataframe\">\n",
       "  <thead>\n",
       "    <tr style=\"text-align: right;\">\n",
       "      <th></th>\n",
       "      <th>user_id</th>\n",
       "      <th>group</th>\n",
       "      <th>ab_test</th>\n",
       "    </tr>\n",
       "  </thead>\n",
       "  <tbody>\n",
       "    <tr>\n",
       "      <th>0</th>\n",
       "      <td>D1ABA3E2887B6A73</td>\n",
       "      <td>A</td>\n",
       "      <td>recommender_system_test</td>\n",
       "    </tr>\n",
       "    <tr>\n",
       "      <th>1</th>\n",
       "      <td>A7A3664BD6242119</td>\n",
       "      <td>A</td>\n",
       "      <td>recommender_system_test</td>\n",
       "    </tr>\n",
       "    <tr>\n",
       "      <th>2</th>\n",
       "      <td>DABC14FDDFADD29E</td>\n",
       "      <td>A</td>\n",
       "      <td>recommender_system_test</td>\n",
       "    </tr>\n",
       "    <tr>\n",
       "      <th>3</th>\n",
       "      <td>04988C5DF189632E</td>\n",
       "      <td>A</td>\n",
       "      <td>recommender_system_test</td>\n",
       "    </tr>\n",
       "    <tr>\n",
       "      <th>4</th>\n",
       "      <td>4FF2998A348C484F</td>\n",
       "      <td>A</td>\n",
       "      <td>recommender_system_test</td>\n",
       "    </tr>\n",
       "    <tr>\n",
       "      <th>...</th>\n",
       "      <td>...</td>\n",
       "      <td>...</td>\n",
       "      <td>...</td>\n",
       "    </tr>\n",
       "    <tr>\n",
       "      <th>14520</th>\n",
       "      <td>1D302F8688B91781</td>\n",
       "      <td>B</td>\n",
       "      <td>interface_eu_test</td>\n",
       "    </tr>\n",
       "    <tr>\n",
       "      <th>14521</th>\n",
       "      <td>3DE51B726983B657</td>\n",
       "      <td>A</td>\n",
       "      <td>interface_eu_test</td>\n",
       "    </tr>\n",
       "    <tr>\n",
       "      <th>14522</th>\n",
       "      <td>F501F79D332BE86C</td>\n",
       "      <td>A</td>\n",
       "      <td>interface_eu_test</td>\n",
       "    </tr>\n",
       "    <tr>\n",
       "      <th>14523</th>\n",
       "      <td>63FBE257B05F2245</td>\n",
       "      <td>A</td>\n",
       "      <td>interface_eu_test</td>\n",
       "    </tr>\n",
       "    <tr>\n",
       "      <th>14524</th>\n",
       "      <td>79F9ABFB029CF724</td>\n",
       "      <td>B</td>\n",
       "      <td>interface_eu_test</td>\n",
       "    </tr>\n",
       "  </tbody>\n",
       "</table>\n",
       "<p>14525 rows × 3 columns</p>\n",
       "</div>"
      ],
      "text/plain": [
       "                user_id group                  ab_test\n",
       "0      D1ABA3E2887B6A73     A  recommender_system_test\n",
       "1      A7A3664BD6242119     A  recommender_system_test\n",
       "2      DABC14FDDFADD29E     A  recommender_system_test\n",
       "3      04988C5DF189632E     A  recommender_system_test\n",
       "4      4FF2998A348C484F     A  recommender_system_test\n",
       "...                 ...   ...                      ...\n",
       "14520  1D302F8688B91781     B        interface_eu_test\n",
       "14521  3DE51B726983B657     A        interface_eu_test\n",
       "14522  F501F79D332BE86C     A        interface_eu_test\n",
       "14523  63FBE257B05F2245     A        interface_eu_test\n",
       "14524  79F9ABFB029CF724     B        interface_eu_test\n",
       "\n",
       "[14525 rows x 3 columns]"
      ]
     },
     "execution_count": 28,
     "metadata": {},
     "output_type": "execute_result"
    }
   ],
   "source": [
    "test_participants"
   ]
  },
  {
   "cell_type": "code",
   "execution_count": 29,
   "id": "6e37b02a-4bae-40d0-931b-7eaa1b1a7086",
   "metadata": {},
   "outputs": [
    {
     "name": "stdout",
     "output_type": "stream",
     "text": [
      "(14525, 3)\n",
      "\n",
      "<class 'pandas.core.frame.DataFrame'>\n",
      "RangeIndex: 14525 entries, 0 to 14524\n",
      "Data columns (total 3 columns):\n",
      " #   Column   Non-Null Count  Dtype \n",
      "---  ------   --------------  ----- \n",
      " 0   user_id  14525 non-null  object\n",
      " 1   group    14525 non-null  object\n",
      " 2   ab_test  14525 non-null  object\n",
      "dtypes: object(3)\n",
      "memory usage: 340.6+ KB\n",
      "None\n",
      "\n",
      "                 user_id  group            ab_test\n",
      "count              14525  14525              14525\n",
      "unique             13638      2                  2\n",
      "top     307C06C0E6F09B93      A  interface_eu_test\n",
      "freq                   2   8214              10850\n",
      "\n",
      "valores ausentes:\n",
      "user_id    0\n",
      "group      0\n",
      "ab_test    0\n",
      "dtype: int64\n",
      "\n",
      "filas duplicadas: 0\n"
     ]
    }
   ],
   "source": [
    "analisis_exploratorio_df(test_participants)"
   ]
  },
  {
   "cell_type": "markdown",
   "id": "a49a1ac4-b668-4289-9490-1ff1a7f94f86",
   "metadata": {},
   "source": [
    "**Conclusion dataset test_participants** Contiene 14.525 filas en 3 columnas, en las cuales no se encontraron valores ausentes ni duplicados. No hay necesidad de modificar los tipos de datos."
   ]
  },
  {
   "cell_type": "markdown",
   "id": "fa757591-9224-41af-acc6-a85278fb6f79",
   "metadata": {},
   "source": [
    "## 3. Analisis Exploratorio de los datos (EDA)"
   ]
  },
  {
   "cell_type": "markdown",
   "id": "3e0ce472-eccf-48f4-913d-04cfc33ef294",
   "metadata": {},
   "source": [
    "### Etapas del Embudo de ventas\n",
    "\n",
    "Los eventos del embudo de ventas son: 'login' 'product_page' 'product_cart' 'purchase'. Se realizarà un anàlisis para cada etapa."
   ]
  },
  {
   "cell_type": "markdown",
   "id": "abd13ee6-3097-457e-95fd-6f7eef9d68ab",
   "metadata": {},
   "source": [
    "**Cantidad de usuarios en cada etapa**"
   ]
  },
  {
   "cell_type": "code",
   "execution_count": 30,
   "id": "80beef8e-6d77-468a-aa0c-20896b045298",
   "metadata": {},
   "outputs": [
    {
     "data": {
      "text/html": [
       "<div>\n",
       "<style scoped>\n",
       "    .dataframe tbody tr th:only-of-type {\n",
       "        vertical-align: middle;\n",
       "    }\n",
       "\n",
       "    .dataframe tbody tr th {\n",
       "        vertical-align: top;\n",
       "    }\n",
       "\n",
       "    .dataframe thead th {\n",
       "        text-align: right;\n",
       "    }\n",
       "</style>\n",
       "<table border=\"1\" class=\"dataframe\">\n",
       "  <thead>\n",
       "    <tr style=\"text-align: right;\">\n",
       "      <th></th>\n",
       "      <th>user_id</th>\n",
       "      <th>event_dt</th>\n",
       "      <th>event_name</th>\n",
       "      <th>details</th>\n",
       "    </tr>\n",
       "  </thead>\n",
       "  <tbody>\n",
       "    <tr>\n",
       "      <th>0</th>\n",
       "      <td>E1BDDCE0DAFA2679</td>\n",
       "      <td>2020-12-07 20:22:03</td>\n",
       "      <td>purchase</td>\n",
       "      <td>99.99</td>\n",
       "    </tr>\n",
       "    <tr>\n",
       "      <th>1</th>\n",
       "      <td>7B6452F081F49504</td>\n",
       "      <td>2020-12-07 09:22:53</td>\n",
       "      <td>purchase</td>\n",
       "      <td>9.99</td>\n",
       "    </tr>\n",
       "    <tr>\n",
       "      <th>2</th>\n",
       "      <td>9CD9F34546DF254C</td>\n",
       "      <td>2020-12-07 12:59:29</td>\n",
       "      <td>purchase</td>\n",
       "      <td>4.99</td>\n",
       "    </tr>\n",
       "    <tr>\n",
       "      <th>3</th>\n",
       "      <td>96F27A054B191457</td>\n",
       "      <td>2020-12-07 04:02:40</td>\n",
       "      <td>purchase</td>\n",
       "      <td>4.99</td>\n",
       "    </tr>\n",
       "    <tr>\n",
       "      <th>4</th>\n",
       "      <td>1FD7660FDF94CA1F</td>\n",
       "      <td>2020-12-07 10:15:09</td>\n",
       "      <td>purchase</td>\n",
       "      <td>4.99</td>\n",
       "    </tr>\n",
       "    <tr>\n",
       "      <th>...</th>\n",
       "      <td>...</td>\n",
       "      <td>...</td>\n",
       "      <td>...</td>\n",
       "      <td>...</td>\n",
       "    </tr>\n",
       "    <tr>\n",
       "      <th>423756</th>\n",
       "      <td>245E85F65C358E08</td>\n",
       "      <td>2020-12-30 19:35:55</td>\n",
       "      <td>login</td>\n",
       "      <td>0.00</td>\n",
       "    </tr>\n",
       "    <tr>\n",
       "      <th>423757</th>\n",
       "      <td>9385A108F5A0A7A7</td>\n",
       "      <td>2020-12-30 10:54:15</td>\n",
       "      <td>login</td>\n",
       "      <td>0.00</td>\n",
       "    </tr>\n",
       "    <tr>\n",
       "      <th>423758</th>\n",
       "      <td>DB650B7559AC6EAC</td>\n",
       "      <td>2020-12-30 10:59:09</td>\n",
       "      <td>login</td>\n",
       "      <td>0.00</td>\n",
       "    </tr>\n",
       "    <tr>\n",
       "      <th>423759</th>\n",
       "      <td>F80C9BDDEA02E53C</td>\n",
       "      <td>2020-12-30 09:53:39</td>\n",
       "      <td>login</td>\n",
       "      <td>0.00</td>\n",
       "    </tr>\n",
       "    <tr>\n",
       "      <th>423760</th>\n",
       "      <td>7AEC61159B672CC5</td>\n",
       "      <td>2020-12-30 11:36:13</td>\n",
       "      <td>login</td>\n",
       "      <td>0.00</td>\n",
       "    </tr>\n",
       "  </tbody>\n",
       "</table>\n",
       "<p>423761 rows × 4 columns</p>\n",
       "</div>"
      ],
      "text/plain": [
       "                 user_id            event_dt event_name  details\n",
       "0       E1BDDCE0DAFA2679 2020-12-07 20:22:03   purchase    99.99\n",
       "1       7B6452F081F49504 2020-12-07 09:22:53   purchase     9.99\n",
       "2       9CD9F34546DF254C 2020-12-07 12:59:29   purchase     4.99\n",
       "3       96F27A054B191457 2020-12-07 04:02:40   purchase     4.99\n",
       "4       1FD7660FDF94CA1F 2020-12-07 10:15:09   purchase     4.99\n",
       "...                  ...                 ...        ...      ...\n",
       "423756  245E85F65C358E08 2020-12-30 19:35:55      login     0.00\n",
       "423757  9385A108F5A0A7A7 2020-12-30 10:54:15      login     0.00\n",
       "423758  DB650B7559AC6EAC 2020-12-30 10:59:09      login     0.00\n",
       "423759  F80C9BDDEA02E53C 2020-12-30 09:53:39      login     0.00\n",
       "423760  7AEC61159B672CC5 2020-12-30 11:36:13      login     0.00\n",
       "\n",
       "[423761 rows x 4 columns]"
      ]
     },
     "execution_count": 30,
     "metadata": {},
     "output_type": "execute_result"
    }
   ],
   "source": [
    "# Filtrar eventos relevantes para el embudo\n",
    "\n",
    "funnel_stages = events[events['event_name'].isin(['login', 'product_page', 'product_cart', 'purchase'])]\n",
    "funnel_stages"
   ]
  },
  {
   "cell_type": "code",
   "execution_count": 31,
   "id": "9b501da3-3a40-4d5d-8988-48782ba27d6f",
   "metadata": {},
   "outputs": [
    {
     "name": "stdout",
     "output_type": "stream",
     "text": [
      "Usuarios únicos en cada etapa del embudo:\n"
     ]
    },
    {
     "data": {
      "text/plain": [
       "event_name\n",
       "login           58696\n",
       "product_page    38929\n",
       "purchase        19568\n",
       "product_cart    19284\n",
       "Name: user_id, dtype: int64"
      ]
     },
     "execution_count": 31,
     "metadata": {},
     "output_type": "execute_result"
    }
   ],
   "source": [
    "# Número de usuarios únicos en cada etapa\n",
    "\n",
    "stage_counts = funnel_stages.groupby('event_name')['user_id'].nunique().sort_values(ascending=False)\n",
    "print(\"Usuarios únicos en cada etapa del embudo:\")\n",
    "stage_counts"
   ]
  },
  {
   "cell_type": "markdown",
   "id": "5310ea17-eb0a-461e-a35c-7518652a3296",
   "metadata": {},
   "source": [
    "**Tasas de conversión entre etapas**\n",
    "\n",
    "Se calcularà la tasa de conversion de todas las etapas:\n",
    "\n",
    "    login to product_page\n",
    "    product_page to product_card\n",
    "    product_card to purchase"
   ]
  },
  {
   "cell_type": "code",
   "execution_count": 32,
   "id": "899514f9-a77f-40d9-a6c5-0e79310575ec",
   "metadata": {},
   "outputs": [],
   "source": [
    "# Usuarios únicos por etapa\n",
    "login_users = stage_counts.get('login', 0)\n",
    "product_page_users = stage_counts.get('product_page', 0)\n",
    "product_cart_users = stage_counts.get('product_cart', 0)\n",
    "purchase_users = stage_counts.get('purchase', 0)"
   ]
  },
  {
   "cell_type": "code",
   "execution_count": 33,
   "id": "e59aac65-a334-4f97-90aa-e3738a63ab6d",
   "metadata": {},
   "outputs": [
    {
     "name": "stdout",
     "output_type": "stream",
     "text": [
      "Tasa de conversión de login a product_page: 66.32%\n"
     ]
    }
   ],
   "source": [
    "# Tasas de conversión\n",
    "conversion_login_to_page = product_page_users / login_users * 100 if login_users > 0 else 0\n",
    "\n",
    "print(f\"Tasa de conversión de login a product_page: {conversion_login_to_page:.2f}%\")"
   ]
  },
  {
   "cell_type": "code",
   "execution_count": 34,
   "id": "40d2b5f0-0484-4d88-966b-101a6fe75678",
   "metadata": {},
   "outputs": [
    {
     "name": "stdout",
     "output_type": "stream",
     "text": [
      "Tasa de conversión de product_page a product_cart: 49.54%\n"
     ]
    }
   ],
   "source": [
    "conversion_page_to_cart = product_cart_users / product_page_users * 100 if product_page_users > 0 else 0\n",
    "print(f\"Tasa de conversión de product_page a product_cart: {conversion_page_to_cart:.2f}%\")"
   ]
  },
  {
   "cell_type": "code",
   "execution_count": 35,
   "id": "bd87fb79-894c-4e19-ae2f-fbe24cd41784",
   "metadata": {},
   "outputs": [
    {
     "name": "stdout",
     "output_type": "stream",
     "text": [
      "Tasa de conversión de product_cart a purchase: 101.47%\n"
     ]
    }
   ],
   "source": [
    "conversion_cart_to_purchase = purchase_users / product_cart_users * 100 if product_cart_users > 0 else 0\n",
    "print(f\"Tasa de conversión de product_cart a purchase: {conversion_cart_to_purchase:.2f}%\")"
   ]
  },
  {
   "cell_type": "markdown",
   "id": "beff788d-02ec-4f11-bdb4-176747995c36",
   "metadata": {},
   "source": [
    "**Visualizaciòn del Embudo**"
   ]
  },
  {
   "cell_type": "code",
   "execution_count": 36,
   "id": "32a6690a-3d1f-446e-8ea3-f0af3b351d75",
   "metadata": {},
   "outputs": [
    {
     "data": {
      "image/png": "[encoded data removed]",
      "text/plain": [
       "<Figure size 800x500 with 1 Axes>"
      ]
     },
     "metadata": {},
     "output_type": "display_data"
    }
   ],
   "source": [
    "# Datos del embudo\n",
    "stages = ['login', 'product_page', 'product_card', 'purchase']\n",
    "values = [login_users, product_page_users, product_cart_users, purchase_users]\n",
    "\n",
    "plt.figure(figsize=(8, 5))\n",
    "plt.bar(stages, values, color=['red', 'blue', 'orange', 'green'])\n",
    "plt.title('Embudo de Conversión Completo')\n",
    "plt.xlabel('Etapas del Embudo')\n",
    "plt.ylabel('Número de Usuarios Únicos')\n",
    "plt.show()"
   ]
  },
  {
   "cell_type": "markdown",
   "id": "82b3cbd8-3352-46b2-833f-e7040a29b58c",
   "metadata": {},
   "source": [
    "En total se analizaron 136.477 usuarios de los cuales 58.696 llegaron a la etapa de Login, 38.929 llegaron a la pagina del producto, es decir un 66% de los usuarios pasaron esta etapa. 19.568 llegaron al carrito de compra, es decir un 49% de los clientes y de esos clientes, 19.284 llegaron a la compra, lo que equivale que porcentaje un 100% de los clientes llegan a la compra. Lo anterior es muy bueno para la compañia ya que lo que indica que es que tiene clientes fieles y un producto muy bueno, en el que los clientes no deben tomar tanto la decision de comprarlo o no, sino que ellos van directo a la pagina de compras y la efectuan. "
   ]
  },
  {
   "cell_type": "markdown",
   "id": "c1ef52b0-e632-4ec4-84eb-14a643a4587e",
   "metadata": {},
   "source": [
    "## Análisis por grupos A / B"
   ]
  },
  {
   "cell_type": "code",
   "execution_count": 37,
   "id": "2ae708bf-70f3-4705-82da-e3a880686bfe",
   "metadata": {},
   "outputs": [
    {
     "data": {
      "text/html": [
       "<div>\n",
       "<style scoped>\n",
       "    .dataframe tbody tr th:only-of-type {\n",
       "        vertical-align: middle;\n",
       "    }\n",
       "\n",
       "    .dataframe tbody tr th {\n",
       "        vertical-align: top;\n",
       "    }\n",
       "\n",
       "    .dataframe thead th {\n",
       "        text-align: right;\n",
       "    }\n",
       "</style>\n",
       "<table border=\"1\" class=\"dataframe\">\n",
       "  <thead>\n",
       "    <tr style=\"text-align: right;\">\n",
       "      <th></th>\n",
       "      <th>user_id</th>\n",
       "      <th>event_dt</th>\n",
       "      <th>event_name</th>\n",
       "      <th>details</th>\n",
       "      <th>group</th>\n",
       "    </tr>\n",
       "  </thead>\n",
       "  <tbody>\n",
       "    <tr>\n",
       "      <th>0</th>\n",
       "      <td>96F27A054B191457</td>\n",
       "      <td>2020-12-07 04:02:40</td>\n",
       "      <td>purchase</td>\n",
       "      <td>4.99</td>\n",
       "      <td>B</td>\n",
       "    </tr>\n",
       "    <tr>\n",
       "      <th>1</th>\n",
       "      <td>831887FE7F2D6CBA</td>\n",
       "      <td>2020-12-07 06:50:29</td>\n",
       "      <td>purchase</td>\n",
       "      <td>4.99</td>\n",
       "      <td>A</td>\n",
       "    </tr>\n",
       "    <tr>\n",
       "      <th>2</th>\n",
       "      <td>A92195E3CFB83DBD</td>\n",
       "      <td>2020-12-07 00:32:07</td>\n",
       "      <td>purchase</td>\n",
       "      <td>4.99</td>\n",
       "      <td>A</td>\n",
       "    </tr>\n",
       "    <tr>\n",
       "      <th>3</th>\n",
       "      <td>354D653172FF2A2D</td>\n",
       "      <td>2020-12-07 15:45:11</td>\n",
       "      <td>purchase</td>\n",
       "      <td>4.99</td>\n",
       "      <td>A</td>\n",
       "    </tr>\n",
       "    <tr>\n",
       "      <th>4</th>\n",
       "      <td>7FCD34F47C13A9AC</td>\n",
       "      <td>2020-12-07 22:06:13</td>\n",
       "      <td>purchase</td>\n",
       "      <td>9.99</td>\n",
       "      <td>B</td>\n",
       "    </tr>\n",
       "    <tr>\n",
       "      <th>...</th>\n",
       "      <td>...</td>\n",
       "      <td>...</td>\n",
       "      <td>...</td>\n",
       "      <td>...</td>\n",
       "      <td>...</td>\n",
       "    </tr>\n",
       "    <tr>\n",
       "      <th>102833</th>\n",
       "      <td>75845C83258FBF73</td>\n",
       "      <td>2020-12-30 06:42:52</td>\n",
       "      <td>login</td>\n",
       "      <td>0.00</td>\n",
       "      <td>B</td>\n",
       "    </tr>\n",
       "    <tr>\n",
       "      <th>102834</th>\n",
       "      <td>4584E51B99DE51AE</td>\n",
       "      <td>2020-12-30 07:39:32</td>\n",
       "      <td>login</td>\n",
       "      <td>0.00</td>\n",
       "      <td>A</td>\n",
       "    </tr>\n",
       "    <tr>\n",
       "      <th>102835</th>\n",
       "      <td>9DF4F595A906A0BA</td>\n",
       "      <td>2020-12-30 18:28:55</td>\n",
       "      <td>login</td>\n",
       "      <td>0.00</td>\n",
       "      <td>B</td>\n",
       "    </tr>\n",
       "    <tr>\n",
       "      <th>102836</th>\n",
       "      <td>6181F3835EBE66BF</td>\n",
       "      <td>2020-12-30 12:00:00</td>\n",
       "      <td>login</td>\n",
       "      <td>0.00</td>\n",
       "      <td>A</td>\n",
       "    </tr>\n",
       "    <tr>\n",
       "      <th>102837</th>\n",
       "      <td>F80C9BDDEA02E53C</td>\n",
       "      <td>2020-12-30 09:53:39</td>\n",
       "      <td>login</td>\n",
       "      <td>0.00</td>\n",
       "      <td>A</td>\n",
       "    </tr>\n",
       "  </tbody>\n",
       "</table>\n",
       "<p>102838 rows × 5 columns</p>\n",
       "</div>"
      ],
      "text/plain": [
       "                 user_id            event_dt event_name  details group\n",
       "0       96F27A054B191457 2020-12-07 04:02:40   purchase     4.99     B\n",
       "1       831887FE7F2D6CBA 2020-12-07 06:50:29   purchase     4.99     A\n",
       "2       A92195E3CFB83DBD 2020-12-07 00:32:07   purchase     4.99     A\n",
       "3       354D653172FF2A2D 2020-12-07 15:45:11   purchase     4.99     A\n",
       "4       7FCD34F47C13A9AC 2020-12-07 22:06:13   purchase     9.99     B\n",
       "...                  ...                 ...        ...      ...   ...\n",
       "102833  75845C83258FBF73 2020-12-30 06:42:52      login     0.00     B\n",
       "102834  4584E51B99DE51AE 2020-12-30 07:39:32      login     0.00     A\n",
       "102835  9DF4F595A906A0BA 2020-12-30 18:28:55      login     0.00     B\n",
       "102836  6181F3835EBE66BF 2020-12-30 12:00:00      login     0.00     A\n",
       "102837  F80C9BDDEA02E53C 2020-12-30 09:53:39      login     0.00     A\n",
       "\n",
       "[102838 rows x 5 columns]"
      ]
     },
     "execution_count": 37,
     "metadata": {},
     "output_type": "execute_result"
    }
   ],
   "source": [
    "# Combinar la tabla de eventos con los participantes del test A/B  para obtener el grupo de cada usuario:\n",
    "\n",
    "events_with_groups = events.merge(test_participants[['user_id', 'group']], on='user_id', how='inner')\n",
    "events_with_groups"
   ]
  },
  {
   "cell_type": "code",
   "execution_count": 38,
   "id": "3dd37ced-eb8f-460b-9f25-368e0421baf1",
   "metadata": {},
   "outputs": [
    {
     "data": {
      "text/html": [
       "<div>\n",
       "<style scoped>\n",
       "    .dataframe tbody tr th:only-of-type {\n",
       "        vertical-align: middle;\n",
       "    }\n",
       "\n",
       "    .dataframe tbody tr th {\n",
       "        vertical-align: top;\n",
       "    }\n",
       "\n",
       "    .dataframe thead th {\n",
       "        text-align: right;\n",
       "    }\n",
       "</style>\n",
       "<table border=\"1\" class=\"dataframe\">\n",
       "  <thead>\n",
       "    <tr style=\"text-align: right;\">\n",
       "      <th></th>\n",
       "      <th>user_id</th>\n",
       "      <th>event_dt</th>\n",
       "      <th>event_name</th>\n",
       "      <th>details</th>\n",
       "      <th>group</th>\n",
       "    </tr>\n",
       "  </thead>\n",
       "  <tbody>\n",
       "    <tr>\n",
       "      <th>1</th>\n",
       "      <td>831887FE7F2D6CBA</td>\n",
       "      <td>2020-12-07 06:50:29</td>\n",
       "      <td>purchase</td>\n",
       "      <td>4.99</td>\n",
       "      <td>A</td>\n",
       "    </tr>\n",
       "    <tr>\n",
       "      <th>2</th>\n",
       "      <td>A92195E3CFB83DBD</td>\n",
       "      <td>2020-12-07 00:32:07</td>\n",
       "      <td>purchase</td>\n",
       "      <td>4.99</td>\n",
       "      <td>A</td>\n",
       "    </tr>\n",
       "    <tr>\n",
       "      <th>3</th>\n",
       "      <td>354D653172FF2A2D</td>\n",
       "      <td>2020-12-07 15:45:11</td>\n",
       "      <td>purchase</td>\n",
       "      <td>4.99</td>\n",
       "      <td>A</td>\n",
       "    </tr>\n",
       "    <tr>\n",
       "      <th>5</th>\n",
       "      <td>0313C457F07C339E</td>\n",
       "      <td>2020-12-07 13:10:48</td>\n",
       "      <td>purchase</td>\n",
       "      <td>9.99</td>\n",
       "      <td>A</td>\n",
       "    </tr>\n",
       "    <tr>\n",
       "      <th>6</th>\n",
       "      <td>3C5DD0288AC4FE23</td>\n",
       "      <td>2020-12-07 19:42:40</td>\n",
       "      <td>purchase</td>\n",
       "      <td>4.99</td>\n",
       "      <td>A</td>\n",
       "    </tr>\n",
       "    <tr>\n",
       "      <th>...</th>\n",
       "      <td>...</td>\n",
       "      <td>...</td>\n",
       "      <td>...</td>\n",
       "      <td>...</td>\n",
       "      <td>...</td>\n",
       "    </tr>\n",
       "    <tr>\n",
       "      <th>102831</th>\n",
       "      <td>DD4352CDCF8C3D57</td>\n",
       "      <td>2020-12-30 12:42:56</td>\n",
       "      <td>login</td>\n",
       "      <td>0.00</td>\n",
       "      <td>A</td>\n",
       "    </tr>\n",
       "    <tr>\n",
       "      <th>102832</th>\n",
       "      <td>5C31C0607EFC3C98</td>\n",
       "      <td>2020-12-30 01:56:08</td>\n",
       "      <td>login</td>\n",
       "      <td>0.00</td>\n",
       "      <td>A</td>\n",
       "    </tr>\n",
       "    <tr>\n",
       "      <th>102834</th>\n",
       "      <td>4584E51B99DE51AE</td>\n",
       "      <td>2020-12-30 07:39:32</td>\n",
       "      <td>login</td>\n",
       "      <td>0.00</td>\n",
       "      <td>A</td>\n",
       "    </tr>\n",
       "    <tr>\n",
       "      <th>102836</th>\n",
       "      <td>6181F3835EBE66BF</td>\n",
       "      <td>2020-12-30 12:00:00</td>\n",
       "      <td>login</td>\n",
       "      <td>0.00</td>\n",
       "      <td>A</td>\n",
       "    </tr>\n",
       "    <tr>\n",
       "      <th>102837</th>\n",
       "      <td>F80C9BDDEA02E53C</td>\n",
       "      <td>2020-12-30 09:53:39</td>\n",
       "      <td>login</td>\n",
       "      <td>0.00</td>\n",
       "      <td>A</td>\n",
       "    </tr>\n",
       "  </tbody>\n",
       "</table>\n",
       "<p>58705 rows × 5 columns</p>\n",
       "</div>"
      ],
      "text/plain": [
       "                 user_id            event_dt event_name  details group\n",
       "1       831887FE7F2D6CBA 2020-12-07 06:50:29   purchase     4.99     A\n",
       "2       A92195E3CFB83DBD 2020-12-07 00:32:07   purchase     4.99     A\n",
       "3       354D653172FF2A2D 2020-12-07 15:45:11   purchase     4.99     A\n",
       "5       0313C457F07C339E 2020-12-07 13:10:48   purchase     9.99     A\n",
       "6       3C5DD0288AC4FE23 2020-12-07 19:42:40   purchase     4.99     A\n",
       "...                  ...                 ...        ...      ...   ...\n",
       "102831  DD4352CDCF8C3D57 2020-12-30 12:42:56      login     0.00     A\n",
       "102832  5C31C0607EFC3C98 2020-12-30 01:56:08      login     0.00     A\n",
       "102834  4584E51B99DE51AE 2020-12-30 07:39:32      login     0.00     A\n",
       "102836  6181F3835EBE66BF 2020-12-30 12:00:00      login     0.00     A\n",
       "102837  F80C9BDDEA02E53C 2020-12-30 09:53:39      login     0.00     A\n",
       "\n",
       "[58705 rows x 5 columns]"
      ]
     },
     "execution_count": 38,
     "metadata": {},
     "output_type": "execute_result"
    }
   ],
   "source": [
    "# Filtrar los datos por cada grupo A\n",
    "group_a = events_with_groups[events_with_groups['group'] == 'A']\n",
    "group_a"
   ]
  },
  {
   "cell_type": "code",
   "execution_count": 39,
   "id": "fa918035-068e-4594-8cec-f9c2b615d6db",
   "metadata": {},
   "outputs": [
    {
     "data": {
      "text/html": [
       "<div>\n",
       "<style scoped>\n",
       "    .dataframe tbody tr th:only-of-type {\n",
       "        vertical-align: middle;\n",
       "    }\n",
       "\n",
       "    .dataframe tbody tr th {\n",
       "        vertical-align: top;\n",
       "    }\n",
       "\n",
       "    .dataframe thead th {\n",
       "        text-align: right;\n",
       "    }\n",
       "</style>\n",
       "<table border=\"1\" class=\"dataframe\">\n",
       "  <thead>\n",
       "    <tr style=\"text-align: right;\">\n",
       "      <th></th>\n",
       "      <th>user_id</th>\n",
       "      <th>event_dt</th>\n",
       "      <th>event_name</th>\n",
       "      <th>details</th>\n",
       "      <th>group</th>\n",
       "    </tr>\n",
       "  </thead>\n",
       "  <tbody>\n",
       "    <tr>\n",
       "      <th>0</th>\n",
       "      <td>96F27A054B191457</td>\n",
       "      <td>2020-12-07 04:02:40</td>\n",
       "      <td>purchase</td>\n",
       "      <td>4.99</td>\n",
       "      <td>B</td>\n",
       "    </tr>\n",
       "    <tr>\n",
       "      <th>4</th>\n",
       "      <td>7FCD34F47C13A9AC</td>\n",
       "      <td>2020-12-07 22:06:13</td>\n",
       "      <td>purchase</td>\n",
       "      <td>9.99</td>\n",
       "      <td>B</td>\n",
       "    </tr>\n",
       "    <tr>\n",
       "      <th>7</th>\n",
       "      <td>C39E95E709714A06</td>\n",
       "      <td>2020-12-07 09:07:20</td>\n",
       "      <td>purchase</td>\n",
       "      <td>4.99</td>\n",
       "      <td>B</td>\n",
       "    </tr>\n",
       "    <tr>\n",
       "      <th>8</th>\n",
       "      <td>78B3AFBB700310CC</td>\n",
       "      <td>2020-12-07 23:44:09</td>\n",
       "      <td>purchase</td>\n",
       "      <td>4.99</td>\n",
       "      <td>B</td>\n",
       "    </tr>\n",
       "    <tr>\n",
       "      <th>9</th>\n",
       "      <td>80CEAF824A1F3E28</td>\n",
       "      <td>2020-12-07 15:54:06</td>\n",
       "      <td>purchase</td>\n",
       "      <td>499.99</td>\n",
       "      <td>B</td>\n",
       "    </tr>\n",
       "    <tr>\n",
       "      <th>...</th>\n",
       "      <td>...</td>\n",
       "      <td>...</td>\n",
       "      <td>...</td>\n",
       "      <td>...</td>\n",
       "      <td>...</td>\n",
       "    </tr>\n",
       "    <tr>\n",
       "      <th>102828</th>\n",
       "      <td>8CE3B6FD918462B4</td>\n",
       "      <td>2020-12-29 17:55:44</td>\n",
       "      <td>login</td>\n",
       "      <td>0.00</td>\n",
       "      <td>B</td>\n",
       "    </tr>\n",
       "    <tr>\n",
       "      <th>102829</th>\n",
       "      <td>2C29721DDDA76B2A</td>\n",
       "      <td>2020-12-29 05:58:20</td>\n",
       "      <td>login</td>\n",
       "      <td>0.00</td>\n",
       "      <td>B</td>\n",
       "    </tr>\n",
       "    <tr>\n",
       "      <th>102830</th>\n",
       "      <td>DD4352CDCF8C3D57</td>\n",
       "      <td>2020-12-30 12:42:56</td>\n",
       "      <td>login</td>\n",
       "      <td>0.00</td>\n",
       "      <td>B</td>\n",
       "    </tr>\n",
       "    <tr>\n",
       "      <th>102833</th>\n",
       "      <td>75845C83258FBF73</td>\n",
       "      <td>2020-12-30 06:42:52</td>\n",
       "      <td>login</td>\n",
       "      <td>0.00</td>\n",
       "      <td>B</td>\n",
       "    </tr>\n",
       "    <tr>\n",
       "      <th>102835</th>\n",
       "      <td>9DF4F595A906A0BA</td>\n",
       "      <td>2020-12-30 18:28:55</td>\n",
       "      <td>login</td>\n",
       "      <td>0.00</td>\n",
       "      <td>B</td>\n",
       "    </tr>\n",
       "  </tbody>\n",
       "</table>\n",
       "<p>44133 rows × 5 columns</p>\n",
       "</div>"
      ],
      "text/plain": [
       "                 user_id            event_dt event_name  details group\n",
       "0       96F27A054B191457 2020-12-07 04:02:40   purchase     4.99     B\n",
       "4       7FCD34F47C13A9AC 2020-12-07 22:06:13   purchase     9.99     B\n",
       "7       C39E95E709714A06 2020-12-07 09:07:20   purchase     4.99     B\n",
       "8       78B3AFBB700310CC 2020-12-07 23:44:09   purchase     4.99     B\n",
       "9       80CEAF824A1F3E28 2020-12-07 15:54:06   purchase   499.99     B\n",
       "...                  ...                 ...        ...      ...   ...\n",
       "102828  8CE3B6FD918462B4 2020-12-29 17:55:44      login     0.00     B\n",
       "102829  2C29721DDDA76B2A 2020-12-29 05:58:20      login     0.00     B\n",
       "102830  DD4352CDCF8C3D57 2020-12-30 12:42:56      login     0.00     B\n",
       "102833  75845C83258FBF73 2020-12-30 06:42:52      login     0.00     B\n",
       "102835  9DF4F595A906A0BA 2020-12-30 18:28:55      login     0.00     B\n",
       "\n",
       "[44133 rows x 5 columns]"
      ]
     },
     "execution_count": 39,
     "metadata": {},
     "output_type": "execute_result"
    }
   ],
   "source": [
    "# Filtrar los datos por cada grupo B\n",
    "\n",
    "group_b = events_with_groups[events_with_groups['group'] == 'B']\n",
    "group_b "
   ]
  },
  {
   "cell_type": "markdown",
   "id": "b50641ba-8c96-4560-9dba-bfee1b515b47",
   "metadata": {},
   "source": [
    "## **Cantidad de usuarios en cada etapa Por Grupo A/B**"
   ]
  },
  {
   "cell_type": "markdown",
   "id": "6c98bcea-8224-4ecb-8afa-b51f0bf823f4",
   "metadata": {},
   "source": [
    "**Grupo A**"
   ]
  },
  {
   "cell_type": "code",
   "execution_count": 40,
   "id": "4fd1a23b-a4fb-44d7-a058-57a0fff16d7c",
   "metadata": {},
   "outputs": [
    {
     "name": "stdout",
     "output_type": "stream",
     "text": [
      "Grupo A:\n",
      "Login: 7873, Product Page: 5208, Product Cart: 2483, Purchase: 2682\n"
     ]
    }
   ],
   "source": [
    "# Calcular usuarios únicos en cada etapa del embudo para el grupo A\n",
    "\n",
    "group_a_login = group_a[group_a['event_name'] == 'login']['user_id'].nunique()\n",
    "group_a_product_page = group_a[group_a['event_name'] == 'product_page']['user_id'].nunique()\n",
    "group_a_product_cart = group_a[group_a['event_name'] == 'product_cart']['user_id'].nunique()\n",
    "group_a_purchase = group_a[group_a['event_name'] == 'purchase']['user_id'].nunique()\n",
    "\n",
    "print(\"Grupo A:\")\n",
    "print(f\"Login: {group_a_login}, Product Page: {group_a_product_page}, Product Cart: {group_a_product_cart}, Purchase: {group_a_purchase}\")"
   ]
  },
  {
   "cell_type": "code",
   "execution_count": 41,
   "id": "1da1cf2a-e29d-4c33-aafe-7f21cb8401e9",
   "metadata": {},
   "outputs": [
    {
     "data": {
      "image/png": "[encoded data removed]",
      "text/plain": [
       "<Figure size 800x600 with 1 Axes>"
      ]
     },
     "metadata": {},
     "output_type": "display_data"
    }
   ],
   "source": [
    "# Datos de usuarios únicos en cada etapa\n",
    "etapas = ['Login', 'Página del Producto', 'Carrito de Compras', 'Compra']\n",
    "usuarios = [group_a_login, group_a_product_page, group_a_product_cart, group_a_purchase]\n",
    "\n",
    "# Crear el gráfico de barras\n",
    "plt.figure(figsize=(8, 6))\n",
    "plt.bar(etapas, usuarios, color='royalblue')\n",
    "\n",
    "# Agregar títulos y etiquetas\n",
    "plt.title('Usuarios Únicos en Cada Etapa del Embudo - Grupo A')\n",
    "plt.xlabel('Etapa')\n",
    "plt.ylabel('Número de Usuarios')\n",
    "plt.xticks(rotation=45)\n",
    "plt.show()"
   ]
  },
  {
   "cell_type": "markdown",
   "id": "19484f2a-99fb-4583-854e-b25ad6ae2963",
   "metadata": {},
   "source": [
    "**Tasa de Conversion del Grupo A**"
   ]
  },
  {
   "cell_type": "code",
   "execution_count": 42,
   "id": "82800f67-9a8b-4081-8948-9ba2f962fd96",
   "metadata": {},
   "outputs": [
    {
     "name": "stdout",
     "output_type": "stream",
     "text": [
      "Tasas de conversión Grupo A:\n",
      "De login a product_page: 66.15%\n",
      "De product_page a product_cart: 47.68%\n",
      "De product_cart a purchase: 108.01%\n"
     ]
    }
   ],
   "source": [
    "\n",
    "# Calcular tasas de conversión para el grupo A\n",
    "group_a_login_to_page = (group_a_product_page / group_a_login) * 100\n",
    "group_a_page_to_cart = (group_a_product_cart / group_a_product_page) * 100\n",
    "group_a_cart_to_purchase = (group_a_purchase / group_a_product_cart) * 100\n",
    "\n",
    "# Imprimir los resultados\n",
    "print(\"Tasas de conversión Grupo A:\")\n",
    "print(f\"De login a product_page: {group_a_login_to_page:.2f}%\")\n",
    "print(f\"De product_page a product_cart: {group_a_page_to_cart:.2f}%\")\n",
    "print(f\"De product_cart a purchase: {group_a_cart_to_purchase:.2f}%\")"
   ]
  },
  {
   "cell_type": "markdown",
   "id": "22842a32-0cbb-4601-86b7-4f597b89aa80",
   "metadata": {},
   "source": [
    "**Conclusion del Grupo A:**  \n",
    "\n",
    "* De login a product_page: \n",
    "Se puede identificar que de los 58.705 clientes que participaron en el Grupo A, 7873 llegaron a la pagina de Login, 5.208 llegaron a la pagina del producto, lo que equivale que el 66.15% de los usuarios mostraron interes al explorar el producto. Es importante analizar por qué el 33.85% restante no avanzó a la página del producto. Tal vez la interfaz después del inicio de sesión no sea intuitiva o no presente incentivos claros para continuar.\n",
    "\n",
    "* De product_page a product_cart:\n",
    "De los 5208 usuarios que visitaron la página del producto, el 47.68% (2.483) agregaron un producto al carrito. Los demas clientes tal vez no agregaron el producto al carrito por el precio, por falta de interes, falta información o problemas de navegacion. \n",
    "\n",
    "* De product_cart a purchase:\n",
    "Este resultado es atipico, ya que indica que el número de compras (2.682) supera al número de usuarios que agregaron productos al carrito (2.483).Puede ser que algunos usuarios hayan comprado directamente sin pasar por la etapa del carrito o que compraran múltiples veces."
   ]
  },
  {
   "cell_type": "markdown",
   "id": "23f99cb1-d3e2-4372-99fd-3eefbd334282",
   "metadata": {},
   "source": [
    "**Grupo B**"
   ]
  },
  {
   "cell_type": "code",
   "execution_count": 43,
   "id": "4c56a490-45ba-4088-bf68-91f01e71b036",
   "metadata": {},
   "outputs": [
    {
     "name": "stdout",
     "output_type": "stream",
     "text": [
      "\n",
      "Grupo B:\n",
      "Login: 6204, Product Page: 3986, Product Cart: 2037, Purchase: 2008\n"
     ]
    }
   ],
   "source": [
    "# Calcular usuarios únicos en cada etapa del embudo para el grupo B\n",
    "group_b_login = group_b[group_b['event_name'] == 'login']['user_id'].nunique()\n",
    "group_b_product_page = group_b[group_b['event_name'] == 'product_page']['user_id'].nunique()\n",
    "group_b_product_cart = group_b[group_b['event_name'] == 'product_cart']['user_id'].nunique()\n",
    "group_b_purchase = group_b[group_b['event_name'] == 'purchase']['user_id'].nunique()\n",
    "\n",
    "print(\"\\nGrupo B:\")\n",
    "print(f\"Login: {group_b_login}, Product Page: {group_b_product_page}, Product Cart: {group_b_product_cart}, Purchase: {group_b_purchase}\")"
   ]
  },
  {
   "cell_type": "code",
   "execution_count": 44,
   "id": "addbdd29-16c8-43bb-81a9-008549e72164",
   "metadata": {},
   "outputs": [
    {
     "data": {
      "image/png": "[encoded data removed]",
      "text/plain": [
       "<Figure size 800x600 with 1 Axes>"
      ]
     },
     "metadata": {},
     "output_type": "display_data"
    }
   ],
   "source": [
    "# Datos de usuarios únicos en cada etapa\n",
    "etapas = ['Login', 'Página del Producto', 'Carrito de Compras', 'Compra']\n",
    "usuarios = [group_b_login, group_b_product_page, group_b_product_cart, group_b_purchase]\n",
    "\n",
    "# Crear el gráfico de barras\n",
    "plt.figure(figsize=(8, 6))\n",
    "plt.bar(etapas, usuarios, color='red')\n",
    "\n",
    "# Agregar títulos y etiquetas\n",
    "plt.title('Usuarios Únicos en Cada Etapa del Embudo - Grupo B')\n",
    "plt.xlabel('Etapa')\n",
    "plt.ylabel('Número de Usuarios')\n",
    "plt.xticks(rotation=45)\n",
    "plt.show()"
   ]
  },
  {
   "cell_type": "markdown",
   "id": "dbc6b4f1-e7f8-44ab-8845-30cbcdb562e9",
   "metadata": {},
   "source": [
    "**Tasa de Conversion del Grupo B**"
   ]
  },
  {
   "cell_type": "code",
   "execution_count": 45,
   "id": "bc73e68b-25de-48f7-b74b-45604ef81507",
   "metadata": {},
   "outputs": [
    {
     "name": "stdout",
     "output_type": "stream",
     "text": [
      "Tasas de conversión Grupo B:\n",
      "De login a product_page: 64.25%\n",
      "De product_page a product_cart: 51.10%\n",
      "De product_cart a purchase: 98.58%\n"
     ]
    }
   ],
   "source": [
    "# Calcular tasas de conversión para el grupo B\n",
    "group_b_login_to_page = (group_b_product_page / group_b_login) * 100\n",
    "group_b_page_to_cart = (group_b_product_cart / group_b_product_page) * 100\n",
    "group_b_cart_to_purchase = (group_b_purchase / group_b_product_cart) * 100\n",
    "\n",
    "# Imprimir los resultados\n",
    "print(\"Tasas de conversión Grupo B:\")\n",
    "print(f\"De login a product_page: {group_b_login_to_page:.2f}%\")\n",
    "print(f\"De product_page a product_cart: {group_b_page_to_cart:.2f}%\")\n",
    "print(f\"De product_cart a purchase: {group_b_cart_to_purchase:.2f}%\")"
   ]
  },
  {
   "cell_type": "markdown",
   "id": "18a5f8b9-6079-45cf-9c56-e53d3bd6a03e",
   "metadata": {},
   "source": [
    "**Conclusion del Grupo B:**  \n",
    "\n",
    "* **De login a product_page:** \n",
    "Se puede identificar que de los 44.103  clientes que participaron en el Grupo B, solo 6.204 usuarios llegaron a la pagina de Login, 3.986 avanzaron a la pagina del producto, lo que equivale que el 64.25% de los usuarios mostraron interes al explorar el producto. Esta tasa es similar a la del grupo A (66.15%), lo que sugiere que el nuevo embudo no afectó significativamente el interés inicial en explorar los productos.\n",
    "\n",
    "* **De product_page a product_cart:**\n",
    "Aquí se observa que el 51.10% de los usuarios que vieron la página del producto (3.986) agregaron artículos al carrito (2.037). Esta tasa es más alta que la del grupo A, lo que podría indicar que el nuevo embudo de pagos motiva más a los usuarios a agregar productos al carrito.\n",
    "\n",
    "* **De product_cart a purchase:**\n",
    "Esta tasa muestra que casi todos los usuarios que agregaron productos al carrito (2.037) completaron la compra (2.008), lo que equivale a un 98.58%. En este grupo no se observo lo que paso en el grupo B, es decir ningun usuario se salto la etapa del carrito de compra.\n",
    "\n",
    "El grupo B, que utiliza el nuevo embudo de pagos, muestra un desempeño muy positivo: Mayor conversión en la etapa de agregar al carrito (51.10% vs. 47.68%), sugiriendo que el nuevo proceso facilita o motiva más esta acción. Ademas, Menor abandono en la etapa final (98.58% vs. 108.01%), lo que podría reflejar una experiencia de pago más rápida y sin fricciones."
   ]
  },
  {
   "cell_type": "markdown",
   "id": "cb28a0e7-f558-4954-924d-db6b3ddfdf02",
   "metadata": {},
   "source": [
    "## ¿El número de eventos por usuario está distribuido equitativamente entre las muestras?"
   ]
  },
  {
   "cell_type": "code",
   "execution_count": 46,
   "id": "cde305de-2b56-4081-9a18-ea116f54e29f",
   "metadata": {},
   "outputs": [],
   "source": [
    "# Calcular el número de eventos por usuario para cada grupo\n",
    "\n",
    "events_per_user_a = group_a.groupby('user_id')['event_name'].count()\n",
    "events_per_user_b = group_b.groupby('user_id')['event_name'].count()"
   ]
  },
  {
   "cell_type": "code",
   "execution_count": 47,
   "id": "3ec5bacc-3cf4-4dfe-ac67-cf146db90834",
   "metadata": {},
   "outputs": [
    {
     "data": {
      "image/png": "[encoded data removed]",
      "text/plain": [
       "<Figure size 640x480 with 1 Axes>"
      ]
     },
     "metadata": {},
     "output_type": "display_data"
    }
   ],
   "source": [
    "# Visualizar las distribuciones con histogramas\n",
    "# Histograma para el grupo A\n",
    "plt.hist(events_per_user_a, bins=20, alpha=0.6, color='blue', label='Grupo A')\n",
    "\n",
    "# Histograma para el grupo B\n",
    "plt.hist(events_per_user_b, bins=20, alpha=0.6, color='red', label='Grupo B')\n",
    "\n",
    "# Personalizar el gráfico\n",
    "plt.title('Distribución del Número de Eventos por Usuario', fontsize=14)\n",
    "plt.xlabel('Número de Eventos', fontsize=12)\n",
    "plt.ylabel('Frecuencia', fontsize=12)\n",
    "plt.legend()\n",
    "plt.grid(axis='y', linestyle='--', alpha=0.7)\n",
    "plt.tight_layout()\n",
    "\n",
    "# Mostrar el gráfico\n",
    "plt.show()\n"
   ]
  },
  {
   "cell_type": "markdown",
   "id": "97522c4f-1f01-49d9-8ec3-04c6dd50c067",
   "metadata": {},
   "source": [
    "Ambos grupos tienen distribuciones con forma similar, indicando que la mayoría de los usuarios realizan un número bajo de eventos (entre 1 y 10 eventos).\n",
    "\n",
    "* Grupo A (azul): Tiene una mayor frecuencia de usuarios con 5-10 eventos, mostrando picos más altos en comparación con el grupo B.\n",
    "* Grupo B (naranja):Aunque sigue una distribución similar, su frecuencia es ligeramente menor en los niveles más altos de eventos (más de 10 eventos).\n",
    "Esto podría implicar que el nuevo embudo fomenta interacciones más rápidas y directas, reduciendo la necesidad de realizar múltiples eventos.\n",
    "\n",
    "\n",
    "En conclusion, la menor cantidad de eventos en el grupo B podría estar relacionada con un proceso más optimizado y eficiente, como el nuevo embudo de pagos, que requiere menos pasos para completar las acciones."
   ]
  },
  {
   "cell_type": "code",
   "execution_count": 48,
   "id": "5df049a5-7d34-4f70-b27a-c482e759609b",
   "metadata": {},
   "outputs": [
    {
     "name": "stdout",
     "output_type": "stream",
     "text": [
      "Resumen estadístico para el grupo A:\n",
      "count    7874.000000\n",
      "mean        7.455550\n",
      "std         4.475159\n",
      "min         1.000000\n",
      "25%         4.000000\n",
      "50%         6.000000\n",
      "75%         9.000000\n",
      "max        40.000000\n",
      "Name: event_name, dtype: float64\n",
      "\n",
      "Resumen estadístico para el grupo B:\n",
      "count    6205.000000\n",
      "mean        7.112490\n",
      "std         4.246201\n",
      "min         1.000000\n",
      "25%         4.000000\n",
      "50%         6.000000\n",
      "75%         9.000000\n",
      "max        36.000000\n",
      "Name: event_name, dtype: float64\n"
     ]
    }
   ],
   "source": [
    "# Resumen estadístico de los eventos por usuario para cada grupo\n",
    "\n",
    "summary_a = events_per_user_a.describe()\n",
    "summary_b = events_per_user_b.describe()\n",
    "\n",
    "print(\"Resumen estadístico para el grupo A:\")\n",
    "print(summary_a)\n",
    "print(\"\\nResumen estadístico para el grupo B:\")\n",
    "print(summary_b)"
   ]
  },
  {
   "cell_type": "markdown",
   "id": "a5ac22c0-a22a-4e14-9a04-abd7dc87b121",
   "metadata": {},
   "source": [
    "Conclusion del resumen estadistico por Grupo:\n",
    "\n",
    "* Grupo A: Los usuarios realizan minimo 1 evento y maximo 40 eventos. En promedio, los usuarios realizan alrededor de 7 eventos.25%: 4 eventos (el 25% de los usuarios realizó 4 eventos o menos).El 50% (mediana): 6 eventos (la mitad de los usuarios realizó 6 eventos o menos). En el 75%: 9 eventos (el 75% de los usuarios realizó 9 eventos o menos).\n",
    "\n",
    "* Grupo B:Los usuarios de este grupo, realizaron menos eventos respecto al grupo A, realizaron minimo 1 evento y maximo 36. Los cuartiles son iguales que el grupo A.\n",
    "\n",
    "En conclusión: Teniendo en cuenta que el Grupo B, tiene menos eventos realizados por los usuarios, esto indica que el nuevo embudo de pagos reduce la cantidad de interacciones necesarias para completar el proceso. "
   ]
  },
  {
   "cell_type": "code",
   "execution_count": 49,
   "id": "c5380c44-010d-482e-91c1-6c1ab35dea35",
   "metadata": {},
   "outputs": [
    {
     "data": {
      "image/png": "[encoded data removed]",
      "text/plain": [
       "<Figure size 1000x600 with 1 Axes>"
      ]
     },
     "metadata": {},
     "output_type": "display_data"
    }
   ],
   "source": [
    "# Graficar los percentiles:\n",
    "# Crear el conjunto de datos\n",
    "data = {'Grupo A': events_per_user_a, 'Grupo B': events_per_user_b}\n",
    "\n",
    "# Crear un DataFrame para graficar\n",
    "import pandas as pd\n",
    "df = pd.DataFrame(data)\n",
    "\n",
    "# Crear el boxplot\n",
    "plt.figure(figsize=(10, 6))\n",
    "sns.boxplot(data=df, palette=[\"lightsteelblue\", \"lightcoral\"])\n",
    "\n",
    "# Personalizar el gráfico\n",
    "plt.title('Distribución de Eventos por Usuario (Percentiles y Outliers)', fontsize=14)\n",
    "plt.ylabel('Número de Eventos', fontsize=12)\n",
    "plt.xlabel('Grupo', fontsize=12)\n",
    "plt.grid(axis='y', linestyle='--', alpha=0.7)\n",
    "\n",
    "# Mostrar el gráfico\n",
    "plt.tight_layout()\n",
    "plt.show()"
   ]
  },
  {
   "cell_type": "markdown",
   "id": "a0f2b5a2-d21a-4938-b983-d84d630483dc",
   "metadata": {},
   "source": [
    "Esta grafica muestra la distribucion del número de eventos por usuario en los grupos A y B. Ademas de los outliers que son los usuarios con un número de eventos mayor que el resto , los cuales se pueden evidencial en mayor medida en el grupo A. En el grupo B, indica un comportamiento mas consistente y controlado con menos cantidad de eventos."
   ]
  },
  {
   "cell_type": "markdown",
   "id": "11621cec-b44b-4bcb-b7cd-f052f1e90faa",
   "metadata": {},
   "source": [
    "La prueba de Mann-Whitney U se utiliza para comparar si dos muestras independientes provienen de la misma distribución. En este caso, se aplicó para analizar si las distribuciones del número de eventos por usuario en los grupos A y B son estadísticamente diferentes. Con el resultado de la prueba hay evidencia estadísticamente significativa para afirmar que las distribuciones del número de eventos por usuario en los grupos A y B Si son diferentes.\n",
    "Esto sugiere que el nuevo embudo de pagos (Grupo B) genera un patrón de comportamiento diferente al del embudo original (Grupo A)."
   ]
  },
  {
   "cell_type": "markdown",
   "id": "09b2c5db-1f7c-489a-add4-b9a638ea3fb3",
   "metadata": {},
   "source": [
    "## ¿Hay usuarios que están presentes en ambas muestras?"
   ]
  },
  {
   "cell_type": "code",
   "execution_count": 50,
   "id": "454b8b95-1947-40f8-a6d4-952cbada43c0",
   "metadata": {},
   "outputs": [],
   "source": [
    "# Identificar usuarios en cada grupo\n",
    "users_a = set(group_a['user_id'])\n",
    "users_b = set(group_b['user_id'])"
   ]
  },
  {
   "cell_type": "code",
   "execution_count": 51,
   "id": "e86075dc-8194-43c1-9942-365c863bef2f",
   "metadata": {},
   "outputs": [
    {
     "name": "stdout",
     "output_type": "stream",
     "text": [
      "Número de usuarios presentes en ambas muestras: 441\n"
     ]
    }
   ],
   "source": [
    "# Encontrar intersección entre ambos grupos\n",
    "overlap_users = users_a.intersection(users_b)\n",
    "\n",
    "# Número de usuarios en ambas muestras\n",
    "print(f\"Número de usuarios presentes en ambas muestras: {len(overlap_users)}\")"
   ]
  },
  {
   "cell_type": "markdown",
   "id": "e80d78a4-aa25-49ae-8083-50f82d529eea",
   "metadata": {},
   "source": [
    "## ¿Cómo se distribuye el número de eventos entre los días?\n"
   ]
  },
  {
   "cell_type": "code",
   "execution_count": 52,
   "id": "454b5d74-a72e-4558-8b08-b2e653c78cad",
   "metadata": {},
   "outputs": [
    {
     "name": "stdout",
     "output_type": "stream",
     "text": [
      "    event_date  event_count\n",
      "0   2020-12-07        11385\n",
      "1   2020-12-08        12547\n",
      "2   2020-12-09        12122\n",
      "3   2020-12-10        14077\n",
      "4   2020-12-11        13864\n",
      "5   2020-12-12        17634\n",
      "6   2020-12-13        20985\n",
      "7   2020-12-14        26184\n",
      "8   2020-12-15        23469\n",
      "9   2020-12-16        20909\n",
      "10  2020-12-17        21751\n",
      "11  2020-12-18        22871\n",
      "12  2020-12-19        24273\n",
      "13  2020-12-20        26425\n",
      "14  2020-12-21        32559\n",
      "15  2020-12-22        29472\n",
      "16  2020-12-23        26108\n",
      "17  2020-12-24        19399\n",
      "18  2020-12-26        14058\n",
      "19  2020-12-27        12420\n",
      "20  2020-12-28        11014\n",
      "21  2020-12-29        10146\n",
      "22  2020-12-30           89\n"
     ]
    }
   ],
   "source": [
    "# Extraer la fecha sin la hora\n",
    "events['event_date'] = events['event_dt'].dt.date\n",
    "\n",
    "# Agrupar por fecha y contar eventos\n",
    "events_per_day = events.groupby('event_date').size().reset_index(name='event_count')\n",
    "\n",
    "# Ordenar por fecha (opcional)\n",
    "events_per_day = events_per_day.sort_values(by='event_date')\n",
    "\n",
    "# Mostrar la distribución\n",
    "print(events_per_day)"
   ]
  },
  {
   "cell_type": "code",
   "execution_count": 61,
   "id": "b3742ead-5e99-4e91-b27e-133dc14ae293",
   "metadata": {},
   "outputs": [
    {
     "data": {
      "image/png": "[encoded data removed]",
      "text/plain": [
       "<Figure size 1200x600 with 1 Axes>"
      ]
     },
     "metadata": {},
     "output_type": "display_data"
    }
   ],
   "source": [
    "# Grafica de la distribución de los eventos entre los días\n",
    "\n",
    "plt.figure(figsize=(12, 6))\n",
    "plt.plot(events_per_day['event_date'], events_per_day['event_count'], marker='o')\n",
    "plt.title('Distribución de eventos por día')\n",
    "plt.xlabel('Fecha')\n",
    "plt.ylabel('Número de eventos')\n",
    "plt.xticks(rotation=45)\n",
    "plt.grid(True)\n",
    "plt.show()"
   ]
  },
  {
   "cell_type": "markdown",
   "id": "5e1b7c56-16ec-4971-b673-b041639205f6",
   "metadata": {},
   "source": [
    "En la grafica se puede observar que la fecha de lanzamiento de la prueba fue el 7 de diciembre y hay dos picos importantes durante la realización de la prueba, comenzando el 14 de diciembre hasta el 26 de diciembre, siendo el 21 de diciembre el dia en el que se evidenciaron la mayor cantidad de eventos."
   ]
  },
  {
   "cell_type": "markdown",
   "id": "c0482a5c-b644-4f33-a310-082f522f2eb2",
   "metadata": {},
   "source": [
    "## ¿Hay alguna peculiaridad en los datos que hay que tener en cuenta antes de iniciar la prueba A/B?"
   ]
  },
  {
   "cell_type": "markdown",
   "id": "d91afa98-5a6f-4ae9-92ca-74a37992e917",
   "metadata": {},
   "source": [
    "Con el analisis de los datos, es importante darse cuenta que en el proyecto indican que se dejaron de aceptar usuarios el 21 de diciembre, pero se observa eventos hasta el 29 de diciembre, lo cual es importante tenerlo presente en las conclusiones finales "
   ]
  },
  {
   "cell_type": "markdown",
   "id": "181acda1-5b97-4681-a60d-f063b0e1338e",
   "metadata": {},
   "source": [
    "## 4.  Evaluar los resultados de la prueba A/B:"
   ]
  },
  {
   "cell_type": "markdown",
   "id": "3c38d8c2-057e-43d1-baf7-404c954616ab",
   "metadata": {},
   "source": [
    "Tal y como se mencionò anteriormente, se puede concluir en el analisis de los resultados de la prueba A/B: que:\n",
    "\n",
    "* El grupo A: más usuarios realizaron compras de los que añadieron productos al carrito (posiblemente porque algunos usuarios compraron más de un artículo), ya que se saltaron la etapa de la pagina del carrito. Por eso se observa que la tasa de compra es mayor que la del grupo B.\n",
    "* El grupo B: Mejor desempeño de conversion para que las personas añadan productos al carrito, respecto al grupo A.\n",
    "\n",
    "Sin embargo se realizarà la prueba Z, para verificar si las diferencias son significatifvas. "
   ]
  },
  {
   "cell_type": "markdown",
   "id": "89b0a90e-d182-4ea8-b43b-7be810041c0e",
   "metadata": {},
   "source": [
    "## Prueba Z\n"
   ]
  },
  {
   "cell_type": "markdown",
   "id": "6d87e21e-ce3b-4dad-ba01-e012c1b0a8b4",
   "metadata": {},
   "source": [
    "**Prueba Z de las conversion de Product_page a product_cart**"
   ]
  },
  {
   "cell_type": "code",
   "execution_count": 77,
   "id": "fd488c47-3d3b-4770-9a79-c268c0682e13",
   "metadata": {},
   "outputs": [
    {
     "name": "stdout",
     "output_type": "stream",
     "text": [
      "Product Cart - Estadístico Z: -2.6427600309462336\n",
      "Product Cart - Valor p: 0.008223329415643077\n"
     ]
    }
   ],
   "source": [
    "# Datos para product_cart\n",
    "success_a_cart = conversion.loc['A', 'product_cart']  # Éxitos en grupo A (product_cart)\n",
    "success_b_cart = conversion.loc['B', 'product_cart']  # Éxitos en grupo B (product_cart)\n",
    "\n",
    "n_a = len(test_participants[test_participants['group'] == 'A'])  # Tamaño del grupo A\n",
    "n_b = len(test_participants[test_participants['group'] == 'B'])  # Tamaño del grupo B\n",
    "\n",
    "# Proporciones\n",
    "p1_cart = success_a_cart / n_a\n",
    "p2_cart = success_b_cart / n_b\n",
    "\n",
    "# Proporción combinada\n",
    "p_combined_cart = (success_a_cart + success_b_cart) / (n_a + n_b)\n",
    "\n",
    "# Estadístico Z\n",
    "z_score_cart = (p1_cart - p2_cart) / np.sqrt(p_combined_cart * (1 - p_combined_cart) * (1/n_a + 1/n_b))\n",
    "\n",
    "# Valor p (dos colas)\n",
    "p_value_cart = 2 * (1 - norm.cdf(abs(z_score_cart)))\n",
    "\n",
    "print(f\"Product Cart - Estadístico Z: {z_score_cart}\")\n",
    "print(f\"Product Cart - Valor p: {p_value_cart}\")"
   ]
  },
  {
   "cell_type": "markdown",
   "id": "2f19c25e-bf19-4bab-9b0f-a64033614bad",
   "metadata": {},
   "source": [
    "**En conclusion**: Si Existe una diferencia significativa entre los grupos A y B en la tasa de conversión de la página del producto (product_page) a agregar al carrito (product_cart).\n",
    "El resultado sugiere que el grupo B (nuevo embudo) tiene una mayor conversión en esta etapa del embudo en comparación con el grupo A (control)."
   ]
  },
  {
   "cell_type": "markdown",
   "id": "76cd705f-a237-4f80-b190-aae0777ed53f",
   "metadata": {},
   "source": [
    "**Prueba Z de las conversion de  product_cart a purchase**"
   ]
  },
  {
   "cell_type": "code",
   "execution_count": 81,
   "id": "2e3f254b-7b77-46f1-a5da-74552badd86e",
   "metadata": {},
   "outputs": [
    {
     "name": "stdout",
     "output_type": "stream",
     "text": [
      "Purchase - Estadístico Z: 1.0656968180147015\n",
      "Purchase - Valor p: 0.28656071652916815\n"
     ]
    }
   ],
   "source": [
    "# Datos para purchase\n",
    "success_a_purchase = conversion.loc['A', 'purchase']  # Éxitos en grupo A (purchase)\n",
    "success_b_purchase = conversion.loc['B', 'purchase']  # Éxitos en grupo B (purchase)\n",
    "\n",
    "# Proporciones\n",
    "p1_purchase = success_a_purchase / n_a\n",
    "p2_purchase = success_b_purchase / n_b\n",
    "\n",
    "# Proporción combinada\n",
    "p_combined_purchase = (success_a_purchase + success_b_purchase) / (n_a + n_b)\n",
    "\n",
    "# Estadístico Z\n",
    "z_score_purchase = (p1_purchase - p2_purchase) / np.sqrt(p_combined_purchase * (1 - p_combined_purchase) * (1/n_a + 1/n_b))\n",
    "\n",
    "# Valor p (dos colas)\n",
    "p_value_purchase = 2 * (1 - norm.cdf(abs(z_score_purchase)))\n",
    "\n",
    "print(f\"Purchase - Estadístico Z: {z_score_purchase}\")\n",
    "print(f\"Purchase - Valor p: {p_value_purchase}\")"
   ]
  },
  {
   "cell_type": "markdown",
   "id": "d26673dc-c5d1-4a8e-a4da-5b51a7b9690a",
   "metadata": {},
   "source": [
    "**En conclusiòn**: No hay evidencia suficiente para afirmar que el grupo B (nuevo embudo) tenga un desempeño significativamente diferente al grupo A (control) en esta etapa del embudo. En otras palabras, el nuevo embudo no mejoró significativamente la conversión de agregar al carrito (product_cart) a realizar una compra (purchase)."
   ]
  },
  {
   "cell_type": "markdown",
   "id": "944ac955-af2d-4691-99ee-27f64b93c443",
   "metadata": {},
   "source": [
    "## 5.  Conclusiones"
   ]
  },
  {
   "cell_type": "markdown",
   "id": "1e23611a-1608-4660-9828-a2f14d3a6da7",
   "metadata": {},
   "source": [
    "En conclusiòn final se puede determinar que el Grupo B, tuvo una mejora significativa en la etapa de agregar productos al carrito (product_cart). Sin embargo, esta mejora no se tradujo en un incremento significativo en las compras (purchase). Lo anterior no es beneficioso para la compañia, ya que èsta lo que busca es incrementar sus ventas. Se recomienda revisar de nuevo el embudo y si es posible optimizarlo para que el cliente pueda comprar mucho mas rapido, tal vez tambien ofrecer mas mètodos de pago e incluir una opcion en la que se le recuerde al cliente por medio de un correo o mensaje que tiene productos en el carrito y que puede completar la compra."
   ]
  },
  {
   "cell_type": "code",
   "execution_count": null,
   "id": "8727ee55-24a1-4b2a-91f2-5adadd5b8945",
   "metadata": {},
   "outputs": [],
   "source": []
  }
 ],
 "metadata": {
  "kernelspec": {
   "display_name": "Python 3 (ipykernel)",
   "language": "python",
   "name": "python3"
  },
  "language_info": {
   "codemirror_mode": {
    "name": "ipython",
    "version": 3
   },
   "file_extension": ".py",
   "mimetype": "text/x-python",
   "name": "python",
   "nbconvert_exporter": "python",
   "pygments_lexer": "ipython3",
   "version": "3.12.4"
  }
 },
 "nbformat": 4,
 "nbformat_minor": 5
}
