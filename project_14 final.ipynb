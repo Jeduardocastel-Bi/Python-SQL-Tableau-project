{
 "cells": [
  {
   "cell_type": "markdown",
   "metadata": {},
   "source": [
    "Hola **Jairo**!\n",
    "\n",
    "Soy **Patricio Requena** 👋. Es un placer ser el revisor de tu proyecto el día de hoy!\n",
    "\n",
    "Revisaré tu proyecto detenidamente con el objetivo de ayudarte a mejorar y perfeccionar tus habilidades. Durante mi revisión, identificaré áreas donde puedas hacer mejoras en tu código, señalando específicamente qué y cómo podrías ajustar para optimizar el rendimiento y la claridad de tu proyecto. Además, es importante para mí destacar los aspectos que has manejado excepcionalmente bien. Reconocer tus fortalezas te ayudará a entender qué técnicas y métodos están funcionando a tu favor y cómo puedes aplicarlos en futuras tareas. \n",
    "\n",
    "_**Recuerda que al final de este notebook encontrarás un comentario general de mi parte**_, empecemos!\n",
    "\n",
    "Encontrarás mis comentarios dentro de cajas verdes, amarillas o rojas, ⚠️ **por favor, no muevas, modifiques o borres mis comentarios** ⚠️:\n",
    "\n",
    "\n",
    "<div class=\"alert alert-block alert-success\">\n",
    "<b>Comentario del revisor</b> <a class=“tocSkip”></a>\n",
    "Si todo está perfecto.\n",
    "</div>\n",
    "\n",
    "<div class=\"alert alert-block alert-warning\">\n",
    "<b>Comentario del revisor</b> <a class=“tocSkip”></a>\n",
    "Si tu código está bien pero se puede mejorar o hay algún detalle que le hace falta.\n",
    "</div>\n",
    "\n",
    "<div class=\"alert alert-block alert-danger\">\n",
    "<b>Comentario del revisor</b> <a class=“tocSkip”></a>\n",
    "Si de pronto hace falta algo o existe algún problema con tu código o conclusiones.\n",
    "</div>\n",
    "\n",
    "Puedes responderme de esta forma:\n",
    "<div class=\"alert alert-block alert-info\">\n",
    "<b>Respuesta del estudiante</b> <a class=“tocSkip”></a>\n",
    "</div>"
   ]
  },
  {
   "cell_type": "markdown",
   "metadata": {},
   "source": [
    "# Proyecto Final: Telecomunicaciones: identificar operadores ineficaces"
   ]
  },
  {
   "cell_type": "markdown",
   "metadata": {},
   "source": [
    "El servicio de telefonía virtual CallMeMaybe está desarrollando una nueva función que brindará a los supervisores y las supervisores información sobre los operadores menos eficaces. Se considera que un operador es ineficaz si tiene una gran cantidad de llamadas entrantes perdidas (internas y externas) y un tiempo de espera prolongado para las llamadas entrantes. Además, si se supone que un operador debe realizar llamadas salientes, un número reducido de ellas también será un signo de ineficacia."
   ]
  },
  {
   "cell_type": "markdown",
   "metadata": {},
   "source": [
    "El dataset proporcionado por la compañía es **telecom_dataset_us.csv** y contiene las siguientes columnas:\n",
    "\n",
    "    • user_id: ID de la cuenta de cliente\n",
    "    • date: fecha en la que se recuperaron las estadísticas\n",
    "    • direction: \"dirección\" de llamada (out para saliente, in para entrante)\n",
    "    • internal: si la llamada fue interna (entre los operadores de un cliente o clienta)\n",
    "    • operator_id: identificador del operador\n",
    "    • is_missed_call: si fue una llamada perdida\n",
    "    • calls_count: número de llamadas\n",
    "    • call_duration: duración de la llamada (sin incluir el tiempo de espera) es decir solo cuando empiezan hablar\n",
    "    • total_call_duration: duración de la llamada (incluido el tiempo de espera) es decir desde que suena el telefono\n",
    "        \n",
    "El conjunto de datos **telecom_clients_us.csv** tiene caracteristicas de los Clientes con las siguientes columnas:\n",
    "\n",
    "\t• user_id: ID de usuario/a\n",
    "    • tariff_plan: tarifa actual de la clientela\n",
    "    • date_start: fecha de registro de la clientela\n"
   ]
  },
  {
   "cell_type": "markdown",
   "metadata": {},
   "source": [
    "## Descomposición de tareas"
   ]
  },
  {
   "cell_type": "markdown",
   "metadata": {},
   "source": [
    "En esta primera etapa del proyecto realizaremos la descomposición de las tareas para tener orden claro y poder cumplir las necesidades de nuestro cliente CallMeMaybe.\n",
    "\n",
    "El presente proyecto estarà organizado de la siguiente manera:\n",
    "\n",
    "\n",
    "1. Descomposición de tareas\n",
    "2.  Pre-procesamiento de datos\n",
    "3. Análisis exploratorio de datos - Metricas e Indicadores\n",
    "4. Pruebas de hipótesis\n",
    "5. Dashboards\n",
    "6. Presentaciòn corporativa\n",
    "7. Conclusiones y recomendaciones\n",
    "8. Bibliografia"
   ]
  },
  {
   "cell_type": "markdown",
   "metadata": {},
   "source": [
    "### Definir el Objetivo del proyecto"
   ]
  },
  {
   "cell_type": "markdown",
   "metadata": {},
   "source": [
    "Determinar los operadores menos eficaces en CallMeMaybe a travès de la evaluación del rendimiento, teniendo en cuenta los siguientes criterios:\n",
    "\n",
    "* Llamadas entrantes: Determinar operadores con altos índices de llamadas perdidas y tiempos de espera prolongados para atender llamadas(Demora en la contestación de las llamadas)\n",
    "* Llamadas internas: Identificar operadores con llamadas internas perdidas.\n",
    "* Llamadas salientes: Detectar la duracion de llamadas salientes de los operadores (bajo volumen= ineficiencia)\n",
    "\n",
    "Este análisis proporcionará indicadores clave de rendimiento (KPI) basados en los datos históricos del dataset, apoyando la toma de decisiones para optimizar el servicio, mejorar la experiencia del cliente y garantizar una distribución equitativa de la carga laboral entre los operadores."
   ]
  },
  {
   "cell_type": "markdown",
   "metadata": {},
   "source": [
    "## Pre-procesamiento de datos "
   ]
  },
  {
   "cell_type": "markdown",
   "metadata": {},
   "source": [
    "En esta etapa se realizara todos los preparativos necesarios para comenzar el análisis de datos\n",
    "\n",
    "* Importar librerías \n",
    "* Cargar los datos.\n",
    "* Pre-visualizaciòn de los datos: Trabajar los valores ausentes, duplicados y tipos de datos erróneos.\n",
    "* Limpiar los datos: Completar los datos: Crear una columnna con los tiempos de espera de las llamadas."
   ]
  },
  {
   "cell_type": "markdown",
   "metadata": {},
   "source": [
    "<div class=\"alert alert-block alert-success\">\n",
    "<b>Comentario del revisor (1ra Iteración)</b> <a class=\"tocSkip\"></a>\n",
    "\n",
    "Excelente trabajo con el avance de tu proyecto Jairo! Sin embargo, para esta primera etapa sólo debías enviar la parte de descomposición de tareas, sin embargo ya tienes listo el proyecto para la etapa de `Proyecto Final. Entrega del proyecto`, te dejaré algunos comentarios muy generales a modo de que puedas usarlos para mejorar el proyecto si así lo ves necesario:\n",
    "\n",
    "- **Contexto y objetivos**: Incluye esta sección introductoria que ayude a entender el contexto del projecto, pero también sería bueno ser un poco más detallada en el problema que trabajarás, por que se realiza el proyecto, etc.\n",
    "\n",
    "- **Preprocesamiento de datos**: Es una parte escencial en tu proyecto y lo tienes bastante bien cubierto, felicidades!\n",
    "\n",
    "- **Análisis exploratorio**: En esta sección tienes muy bien cubierto los pasos para entender los datos con los que trabajas, te recomendaría incluir la revisión de datos atípicos que luego puedan llegar a causar alguna métrica errónea al final de tu proyecto.\n",
    "\n",
    "- **Prueba de hipótesis**: Determinar si tenemos una diferencia significativa en nuestra métrica objetivo es importante por lo que hiciste muy bien al incluirla\n",
    "\n",
    "- **Conclusiones y recomendaciones**: No olvides que esto debe ir al final de todos tus proyectos.\n",
    "    \n",
    "    \n",
    "Saludos!\n",
    "</div>"
   ]
  },
  {
   "cell_type": "markdown",
   "metadata": {},
   "source": [
    "### Importar Librerias "
   ]
  },
  {
   "cell_type": "code",
   "execution_count": 1,
   "metadata": {},
   "outputs": [],
   "source": [
    "import pandas as pd\n",
    "import numpy as np\n",
    "import matplotlib.pyplot as plt\n",
    "import seaborn as sns\n",
    "from scipy import stats as st \n",
    "import statsmodels.stats.multitest as smm\n",
    "import math as mt\n",
    "import datetime as dt\n",
    "from scipy.stats import ttest_ind\n",
    "from scipy import stats"
   ]
  },
  {
   "cell_type": "markdown",
   "metadata": {},
   "source": [
    "#### Cargar los datos: Telecom"
   ]
  },
  {
   "cell_type": "markdown",
   "metadata": {},
   "source": [
    "</div>\n",
    "<div class=\"alert alert-block alert-info\">\n",
    "<b>Telecom</b><a class=\"tocSkip\"></a>"
   ]
  },
  {
   "cell_type": "code",
   "execution_count": 2,
   "metadata": {},
   "outputs": [],
   "source": [
    "telecom = pd.read_csv('/datasets/telecom_dataset_us.csv')"
   ]
  },
  {
   "cell_type": "code",
   "execution_count": 3,
   "metadata": {},
   "outputs": [
    {
     "data": {
      "text/html": [
       "<div>\n",
       "<style scoped>\n",
       "    .dataframe tbody tr th:only-of-type {\n",
       "        vertical-align: middle;\n",
       "    }\n",
       "\n",
       "    .dataframe tbody tr th {\n",
       "        vertical-align: top;\n",
       "    }\n",
       "\n",
       "    .dataframe thead th {\n",
       "        text-align: right;\n",
       "    }\n",
       "</style>\n",
       "<table border=\"1\" class=\"dataframe\">\n",
       "  <thead>\n",
       "    <tr style=\"text-align: right;\">\n",
       "      <th></th>\n",
       "      <th>user_id</th>\n",
       "      <th>date</th>\n",
       "      <th>direction</th>\n",
       "      <th>internal</th>\n",
       "      <th>operator_id</th>\n",
       "      <th>is_missed_call</th>\n",
       "      <th>calls_count</th>\n",
       "      <th>call_duration</th>\n",
       "      <th>total_call_duration</th>\n",
       "    </tr>\n",
       "  </thead>\n",
       "  <tbody>\n",
       "    <tr>\n",
       "      <th>0</th>\n",
       "      <td>166377</td>\n",
       "      <td>2019-08-04 00:00:00+03:00</td>\n",
       "      <td>in</td>\n",
       "      <td>False</td>\n",
       "      <td>NaN</td>\n",
       "      <td>True</td>\n",
       "      <td>2</td>\n",
       "      <td>0</td>\n",
       "      <td>4</td>\n",
       "    </tr>\n",
       "    <tr>\n",
       "      <th>1</th>\n",
       "      <td>166377</td>\n",
       "      <td>2019-08-05 00:00:00+03:00</td>\n",
       "      <td>out</td>\n",
       "      <td>True</td>\n",
       "      <td>880022.0</td>\n",
       "      <td>True</td>\n",
       "      <td>3</td>\n",
       "      <td>0</td>\n",
       "      <td>5</td>\n",
       "    </tr>\n",
       "    <tr>\n",
       "      <th>2</th>\n",
       "      <td>166377</td>\n",
       "      <td>2019-08-05 00:00:00+03:00</td>\n",
       "      <td>out</td>\n",
       "      <td>True</td>\n",
       "      <td>880020.0</td>\n",
       "      <td>True</td>\n",
       "      <td>1</td>\n",
       "      <td>0</td>\n",
       "      <td>1</td>\n",
       "    </tr>\n",
       "    <tr>\n",
       "      <th>3</th>\n",
       "      <td>166377</td>\n",
       "      <td>2019-08-05 00:00:00+03:00</td>\n",
       "      <td>out</td>\n",
       "      <td>True</td>\n",
       "      <td>880020.0</td>\n",
       "      <td>False</td>\n",
       "      <td>1</td>\n",
       "      <td>10</td>\n",
       "      <td>18</td>\n",
       "    </tr>\n",
       "    <tr>\n",
       "      <th>4</th>\n",
       "      <td>166377</td>\n",
       "      <td>2019-08-05 00:00:00+03:00</td>\n",
       "      <td>out</td>\n",
       "      <td>False</td>\n",
       "      <td>880022.0</td>\n",
       "      <td>True</td>\n",
       "      <td>3</td>\n",
       "      <td>0</td>\n",
       "      <td>25</td>\n",
       "    </tr>\n",
       "    <tr>\n",
       "      <th>...</th>\n",
       "      <td>...</td>\n",
       "      <td>...</td>\n",
       "      <td>...</td>\n",
       "      <td>...</td>\n",
       "      <td>...</td>\n",
       "      <td>...</td>\n",
       "      <td>...</td>\n",
       "      <td>...</td>\n",
       "      <td>...</td>\n",
       "    </tr>\n",
       "    <tr>\n",
       "      <th>53897</th>\n",
       "      <td>168606</td>\n",
       "      <td>2019-11-10 00:00:00+03:00</td>\n",
       "      <td>out</td>\n",
       "      <td>True</td>\n",
       "      <td>957922.0</td>\n",
       "      <td>True</td>\n",
       "      <td>1</td>\n",
       "      <td>0</td>\n",
       "      <td>38</td>\n",
       "    </tr>\n",
       "    <tr>\n",
       "      <th>53898</th>\n",
       "      <td>168606</td>\n",
       "      <td>2019-11-11 00:00:00+03:00</td>\n",
       "      <td>out</td>\n",
       "      <td>True</td>\n",
       "      <td>957922.0</td>\n",
       "      <td>False</td>\n",
       "      <td>2</td>\n",
       "      <td>479</td>\n",
       "      <td>501</td>\n",
       "    </tr>\n",
       "    <tr>\n",
       "      <th>53899</th>\n",
       "      <td>168606</td>\n",
       "      <td>2019-11-15 00:00:00+03:00</td>\n",
       "      <td>out</td>\n",
       "      <td>True</td>\n",
       "      <td>957922.0</td>\n",
       "      <td>False</td>\n",
       "      <td>4</td>\n",
       "      <td>3130</td>\n",
       "      <td>3190</td>\n",
       "    </tr>\n",
       "    <tr>\n",
       "      <th>53900</th>\n",
       "      <td>168606</td>\n",
       "      <td>2019-11-15 00:00:00+03:00</td>\n",
       "      <td>out</td>\n",
       "      <td>True</td>\n",
       "      <td>957922.0</td>\n",
       "      <td>False</td>\n",
       "      <td>4</td>\n",
       "      <td>3130</td>\n",
       "      <td>3190</td>\n",
       "    </tr>\n",
       "    <tr>\n",
       "      <th>53901</th>\n",
       "      <td>168606</td>\n",
       "      <td>2019-11-19 00:00:00+03:00</td>\n",
       "      <td>in</td>\n",
       "      <td>False</td>\n",
       "      <td>NaN</td>\n",
       "      <td>True</td>\n",
       "      <td>2</td>\n",
       "      <td>0</td>\n",
       "      <td>64</td>\n",
       "    </tr>\n",
       "  </tbody>\n",
       "</table>\n",
       "<p>53902 rows × 9 columns</p>\n",
       "</div>"
      ],
      "text/plain": [
       "       user_id                       date direction internal  operator_id  \\\n",
       "0       166377  2019-08-04 00:00:00+03:00        in    False          NaN   \n",
       "1       166377  2019-08-05 00:00:00+03:00       out     True     880022.0   \n",
       "2       166377  2019-08-05 00:00:00+03:00       out     True     880020.0   \n",
       "3       166377  2019-08-05 00:00:00+03:00       out     True     880020.0   \n",
       "4       166377  2019-08-05 00:00:00+03:00       out    False     880022.0   \n",
       "...        ...                        ...       ...      ...          ...   \n",
       "53897   168606  2019-11-10 00:00:00+03:00       out     True     957922.0   \n",
       "53898   168606  2019-11-11 00:00:00+03:00       out     True     957922.0   \n",
       "53899   168606  2019-11-15 00:00:00+03:00       out     True     957922.0   \n",
       "53900   168606  2019-11-15 00:00:00+03:00       out     True     957922.0   \n",
       "53901   168606  2019-11-19 00:00:00+03:00        in    False          NaN   \n",
       "\n",
       "       is_missed_call  calls_count  call_duration  total_call_duration  \n",
       "0                True            2              0                    4  \n",
       "1                True            3              0                    5  \n",
       "2                True            1              0                    1  \n",
       "3               False            1             10                   18  \n",
       "4                True            3              0                   25  \n",
       "...               ...          ...            ...                  ...  \n",
       "53897            True            1              0                   38  \n",
       "53898           False            2            479                  501  \n",
       "53899           False            4           3130                 3190  \n",
       "53900           False            4           3130                 3190  \n",
       "53901            True            2              0                   64  \n",
       "\n",
       "[53902 rows x 9 columns]"
      ]
     },
     "execution_count": 3,
     "metadata": {},
     "output_type": "execute_result"
    }
   ],
   "source": [
    "telecom"
   ]
  },
  {
   "cell_type": "markdown",
   "metadata": {},
   "source": [
    "#### Pre-visualizaciòn de los datos : Telecom\n",
    "\n",
    "Se realiza una funciòn para poder determinar la informaciòn del dataset e identificar si hay valores ausentes y duplicados"
   ]
  },
  {
   "cell_type": "code",
   "execution_count": 4,
   "metadata": {},
   "outputs": [],
   "source": [
    "def analisis_exploratorio_df(data):\n",
    "    print(data.shape)\n",
    "    print()\n",
    "    print(data.info())\n",
    "    print()\n",
    "    print(data.describe())\n",
    "    print()\n",
    "    print('valores ausentes:',)\n",
    "    print(data.isna().sum())\n",
    "    print()\n",
    "    print('filas duplicadas:', data.duplicated().sum())"
   ]
  },
  {
   "cell_type": "code",
   "execution_count": 5,
   "metadata": {},
   "outputs": [
    {
     "name": "stdout",
     "output_type": "stream",
     "text": [
      "(53902, 9)\n",
      "\n",
      "<class 'pandas.core.frame.DataFrame'>\n",
      "RangeIndex: 53902 entries, 0 to 53901\n",
      "Data columns (total 9 columns):\n",
      " #   Column               Non-Null Count  Dtype  \n",
      "---  ------               --------------  -----  \n",
      " 0   user_id              53902 non-null  int64  \n",
      " 1   date                 53902 non-null  object \n",
      " 2   direction            53902 non-null  object \n",
      " 3   internal             53785 non-null  object \n",
      " 4   operator_id          45730 non-null  float64\n",
      " 5   is_missed_call       53902 non-null  bool   \n",
      " 6   calls_count          53902 non-null  int64  \n",
      " 7   call_duration        53902 non-null  int64  \n",
      " 8   total_call_duration  53902 non-null  int64  \n",
      "dtypes: bool(1), float64(1), int64(4), object(3)\n",
      "memory usage: 3.3+ MB\n",
      "None\n",
      "\n",
      "             user_id    operator_id   calls_count  call_duration  \\\n",
      "count   53902.000000   45730.000000  53902.000000   53902.000000   \n",
      "mean   167295.344477  916535.993002     16.451245     866.684427   \n",
      "std       598.883775   21254.123136     62.917170    3731.791202   \n",
      "min    166377.000000  879896.000000      1.000000       0.000000   \n",
      "25%    166782.000000  900788.000000      1.000000       0.000000   \n",
      "50%    167162.000000  913938.000000      4.000000      38.000000   \n",
      "75%    167819.000000  937708.000000     12.000000     572.000000   \n",
      "max    168606.000000  973286.000000   4817.000000  144395.000000   \n",
      "\n",
      "       total_call_duration  \n",
      "count         53902.000000  \n",
      "mean           1157.133297  \n",
      "std            4403.468763  \n",
      "min               0.000000  \n",
      "25%              47.000000  \n",
      "50%             210.000000  \n",
      "75%             902.000000  \n",
      "max          166155.000000  \n",
      "\n",
      "valores ausentes:\n",
      "user_id                   0\n",
      "date                      0\n",
      "direction                 0\n",
      "internal                117\n",
      "operator_id            8172\n",
      "is_missed_call            0\n",
      "calls_count               0\n",
      "call_duration             0\n",
      "total_call_duration       0\n",
      "dtype: int64\n",
      "\n",
      "filas duplicadas: 4900\n"
     ]
    }
   ],
   "source": [
    "analisis_exploratorio_df(telecom)"
   ]
  },
  {
   "cell_type": "markdown",
   "metadata": {},
   "source": [
    "**Importante:** Con la Pre-visualizaciòn del dataset se puede identificar que:\n",
    "\n",
    "    * Hay valores ausentes en las columnas: internal y operator_id : Los cuales seràn eliminados ya que cada operador debe tener su propio resultado y no es posible rellenarlo con los mètodos de mean y median\n",
    "    \n",
    "    * El tipo de datos de la columna: operator_id: identificador del operador es float64, lo que puede traer problemas más adelante, por lo tanto lo transformarè a int."
   ]
  },
  {
   "cell_type": "code",
   "execution_count": 6,
   "metadata": {},
   "outputs": [],
   "source": [
    "# Modificar el tipo object a date en la columna: Date\n",
    "\n",
    "telecom['date'] = pd.to_datetime(telecom['date'], format='%Y-%m-%d %H:%M:%S')"
   ]
  },
  {
   "cell_type": "markdown",
   "metadata": {},
   "source": [
    "#### Limpiar los datos: Telecom"
   ]
  },
  {
   "cell_type": "markdown",
   "metadata": {},
   "source": [
    "**Valores Ausentes**"
   ]
  },
  {
   "cell_type": "code",
   "execution_count": 7,
   "metadata": {},
   "outputs": [
    {
     "name": "stderr",
     "output_type": "stream",
     "text": [
      "/tmp/ipykernel_32/476203250.py:4: SettingWithCopyWarning: \n",
      "A value is trying to be set on a copy of a slice from a DataFrame.\n",
      "Try using .loc[row_indexer,col_indexer] = value instead\n",
      "\n",
      "See the caveats in the documentation: https://pandas.pydata.org/pandas-docs/stable/user_guide/indexing.html#returning-a-view-versus-a-copy\n",
      "  telecom['operator_id'] = telecom['operator_id'].astype('int')\n"
     ]
    }
   ],
   "source": [
    "# Transformar el tipo float64 a int de la columna: 'operator_id'\n",
    "\n",
    "telecom = telecom.dropna()\n",
    "telecom['operator_id'] = telecom['operator_id'].astype('int')"
   ]
  },
  {
   "cell_type": "code",
   "execution_count": 8,
   "metadata": {},
   "outputs": [
    {
     "name": "stdout",
     "output_type": "stream",
     "text": [
      "<class 'pandas.core.frame.DataFrame'>\n",
      "Int64Index: 45670 entries, 1 to 53900\n",
      "Data columns (total 9 columns):\n",
      " #   Column               Non-Null Count  Dtype                                \n",
      "---  ------               --------------  -----                                \n",
      " 0   user_id              45670 non-null  int64                                \n",
      " 1   date                 45670 non-null  datetime64[ns, pytz.FixedOffset(180)]\n",
      " 2   direction            45670 non-null  object                               \n",
      " 3   internal             45670 non-null  object                               \n",
      " 4   operator_id          45670 non-null  int64                                \n",
      " 5   is_missed_call       45670 non-null  bool                                 \n",
      " 6   calls_count          45670 non-null  int64                                \n",
      " 7   call_duration        45670 non-null  int64                                \n",
      " 8   total_call_duration  45670 non-null  int64                                \n",
      "dtypes: bool(1), datetime64[ns, pytz.FixedOffset(180)](1), int64(5), object(2)\n",
      "memory usage: 3.2+ MB\n"
     ]
    }
   ],
   "source": [
    "telecom.info()"
   ]
  },
  {
   "cell_type": "markdown",
   "metadata": {},
   "source": [
    "**Valores Duplicados**\n",
    "\n",
    "Se analizara los valores duplicados para poder tener un anàlisis adecuado de los datos"
   ]
  },
  {
   "cell_type": "code",
   "execution_count": 9,
   "metadata": {},
   "outputs": [
    {
     "name": "stdout",
     "output_type": "stream",
     "text": [
      "duplicados encontrados: 4179\n",
      "El porcentaje de duplicados respecto del total es de: 9.2%\n"
     ]
    },
    {
     "data": {
      "text/html": [
       "<div>\n",
       "<style scoped>\n",
       "    .dataframe tbody tr th:only-of-type {\n",
       "        vertical-align: middle;\n",
       "    }\n",
       "\n",
       "    .dataframe tbody tr th {\n",
       "        vertical-align: top;\n",
       "    }\n",
       "\n",
       "    .dataframe thead th {\n",
       "        text-align: right;\n",
       "    }\n",
       "</style>\n",
       "<table border=\"1\" class=\"dataframe\">\n",
       "  <thead>\n",
       "    <tr style=\"text-align: right;\">\n",
       "      <th></th>\n",
       "      <th>user_id</th>\n",
       "      <th>date</th>\n",
       "      <th>direction</th>\n",
       "      <th>internal</th>\n",
       "      <th>operator_id</th>\n",
       "      <th>is_missed_call</th>\n",
       "      <th>calls_count</th>\n",
       "      <th>call_duration</th>\n",
       "      <th>total_call_duration</th>\n",
       "    </tr>\n",
       "  </thead>\n",
       "  <tbody>\n",
       "    <tr>\n",
       "      <th>8</th>\n",
       "      <td>166377</td>\n",
       "      <td>2019-08-05 00:00:00+03:00</td>\n",
       "      <td>out</td>\n",
       "      <td>False</td>\n",
       "      <td>880020</td>\n",
       "      <td>True</td>\n",
       "      <td>8</td>\n",
       "      <td>0</td>\n",
       "      <td>50</td>\n",
       "    </tr>\n",
       "    <tr>\n",
       "      <th>44</th>\n",
       "      <td>166377</td>\n",
       "      <td>2019-08-14 00:00:00+03:00</td>\n",
       "      <td>out</td>\n",
       "      <td>False</td>\n",
       "      <td>880026</td>\n",
       "      <td>False</td>\n",
       "      <td>10</td>\n",
       "      <td>1567</td>\n",
       "      <td>1654</td>\n",
       "    </tr>\n",
       "    <tr>\n",
       "      <th>51</th>\n",
       "      <td>166377</td>\n",
       "      <td>2019-08-15 00:00:00+03:00</td>\n",
       "      <td>out</td>\n",
       "      <td>False</td>\n",
       "      <td>880026</td>\n",
       "      <td>False</td>\n",
       "      <td>11</td>\n",
       "      <td>1413</td>\n",
       "      <td>1473</td>\n",
       "    </tr>\n",
       "    <tr>\n",
       "      <th>62</th>\n",
       "      <td>166377</td>\n",
       "      <td>2019-08-19 00:00:00+03:00</td>\n",
       "      <td>out</td>\n",
       "      <td>False</td>\n",
       "      <td>880026</td>\n",
       "      <td>False</td>\n",
       "      <td>14</td>\n",
       "      <td>1519</td>\n",
       "      <td>1598</td>\n",
       "    </tr>\n",
       "    <tr>\n",
       "      <th>78</th>\n",
       "      <td>166377</td>\n",
       "      <td>2019-08-22 00:00:00+03:00</td>\n",
       "      <td>out</td>\n",
       "      <td>False</td>\n",
       "      <td>880026</td>\n",
       "      <td>True</td>\n",
       "      <td>6</td>\n",
       "      <td>0</td>\n",
       "      <td>55</td>\n",
       "    </tr>\n",
       "  </tbody>\n",
       "</table>\n",
       "</div>"
      ],
      "text/plain": [
       "    user_id                      date direction internal  operator_id  \\\n",
       "8    166377 2019-08-05 00:00:00+03:00       out    False       880020   \n",
       "44   166377 2019-08-14 00:00:00+03:00       out    False       880026   \n",
       "51   166377 2019-08-15 00:00:00+03:00       out    False       880026   \n",
       "62   166377 2019-08-19 00:00:00+03:00       out    False       880026   \n",
       "78   166377 2019-08-22 00:00:00+03:00       out    False       880026   \n",
       "\n",
       "    is_missed_call  calls_count  call_duration  total_call_duration  \n",
       "8             True            8              0                   50  \n",
       "44           False           10           1567                 1654  \n",
       "51           False           11           1413                 1473  \n",
       "62           False           14           1519                 1598  \n",
       "78            True            6              0                   55  "
      ]
     },
     "execution_count": 9,
     "metadata": {},
     "output_type": "execute_result"
    }
   ],
   "source": [
    "print('duplicados encontrados:' ,telecom.duplicated().sum())\n",
    "duplicated = telecom[telecom.duplicated()]\n",
    "print('El porcentaje de duplicados respecto del total es de:', format((len(duplicated) / len(telecom)), '.1%'))\n",
    "duplicated.head()"
   ]
  },
  {
   "cell_type": "code",
   "execution_count": 10,
   "metadata": {},
   "outputs": [],
   "source": [
    "# Se eliminan los valores duplicados para que no interfiera en el análisis de datos\n",
    "\n",
    "telecom= telecom.drop_duplicates().reset_index(drop=True)"
   ]
  },
  {
   "cell_type": "code",
   "execution_count": 11,
   "metadata": {},
   "outputs": [
    {
     "data": {
      "text/plain": [
       "0"
      ]
     },
     "execution_count": 11,
     "metadata": {},
     "output_type": "execute_result"
    }
   ],
   "source": [
    "telecom.duplicated().sum()"
   ]
  },
  {
   "cell_type": "markdown",
   "metadata": {},
   "source": [
    "#### Completar datos: Telecom:  Creación de columna : Tiempo de espera"
   ]
  },
  {
   "cell_type": "code",
   "execution_count": 12,
   "metadata": {},
   "outputs": [
    {
     "data": {
      "text/html": [
       "<div>\n",
       "<style scoped>\n",
       "    .dataframe tbody tr th:only-of-type {\n",
       "        vertical-align: middle;\n",
       "    }\n",
       "\n",
       "    .dataframe tbody tr th {\n",
       "        vertical-align: top;\n",
       "    }\n",
       "\n",
       "    .dataframe thead th {\n",
       "        text-align: right;\n",
       "    }\n",
       "</style>\n",
       "<table border=\"1\" class=\"dataframe\">\n",
       "  <thead>\n",
       "    <tr style=\"text-align: right;\">\n",
       "      <th></th>\n",
       "      <th>user_id</th>\n",
       "      <th>date</th>\n",
       "      <th>direction</th>\n",
       "      <th>internal</th>\n",
       "      <th>operator_id</th>\n",
       "      <th>is_missed_call</th>\n",
       "      <th>calls_count</th>\n",
       "      <th>call_duration</th>\n",
       "      <th>total_call_duration</th>\n",
       "      <th>wait_time</th>\n",
       "    </tr>\n",
       "  </thead>\n",
       "  <tbody>\n",
       "    <tr>\n",
       "      <th>0</th>\n",
       "      <td>166377</td>\n",
       "      <td>2019-08-05 00:00:00+03:00</td>\n",
       "      <td>out</td>\n",
       "      <td>True</td>\n",
       "      <td>880022</td>\n",
       "      <td>True</td>\n",
       "      <td>3</td>\n",
       "      <td>0</td>\n",
       "      <td>5</td>\n",
       "      <td>5</td>\n",
       "    </tr>\n",
       "    <tr>\n",
       "      <th>1</th>\n",
       "      <td>166377</td>\n",
       "      <td>2019-08-05 00:00:00+03:00</td>\n",
       "      <td>out</td>\n",
       "      <td>True</td>\n",
       "      <td>880020</td>\n",
       "      <td>True</td>\n",
       "      <td>1</td>\n",
       "      <td>0</td>\n",
       "      <td>1</td>\n",
       "      <td>1</td>\n",
       "    </tr>\n",
       "    <tr>\n",
       "      <th>2</th>\n",
       "      <td>166377</td>\n",
       "      <td>2019-08-05 00:00:00+03:00</td>\n",
       "      <td>out</td>\n",
       "      <td>True</td>\n",
       "      <td>880020</td>\n",
       "      <td>False</td>\n",
       "      <td>1</td>\n",
       "      <td>10</td>\n",
       "      <td>18</td>\n",
       "      <td>8</td>\n",
       "    </tr>\n",
       "    <tr>\n",
       "      <th>3</th>\n",
       "      <td>166377</td>\n",
       "      <td>2019-08-05 00:00:00+03:00</td>\n",
       "      <td>out</td>\n",
       "      <td>False</td>\n",
       "      <td>880022</td>\n",
       "      <td>True</td>\n",
       "      <td>3</td>\n",
       "      <td>0</td>\n",
       "      <td>25</td>\n",
       "      <td>25</td>\n",
       "    </tr>\n",
       "    <tr>\n",
       "      <th>4</th>\n",
       "      <td>166377</td>\n",
       "      <td>2019-08-05 00:00:00+03:00</td>\n",
       "      <td>out</td>\n",
       "      <td>False</td>\n",
       "      <td>880020</td>\n",
       "      <td>False</td>\n",
       "      <td>2</td>\n",
       "      <td>3</td>\n",
       "      <td>29</td>\n",
       "      <td>26</td>\n",
       "    </tr>\n",
       "  </tbody>\n",
       "</table>\n",
       "</div>"
      ],
      "text/plain": [
       "   user_id                      date direction internal  operator_id  \\\n",
       "0   166377 2019-08-05 00:00:00+03:00       out     True       880022   \n",
       "1   166377 2019-08-05 00:00:00+03:00       out     True       880020   \n",
       "2   166377 2019-08-05 00:00:00+03:00       out     True       880020   \n",
       "3   166377 2019-08-05 00:00:00+03:00       out    False       880022   \n",
       "4   166377 2019-08-05 00:00:00+03:00       out    False       880020   \n",
       "\n",
       "   is_missed_call  calls_count  call_duration  total_call_duration  wait_time  \n",
       "0            True            3              0                    5          5  \n",
       "1            True            1              0                    1          1  \n",
       "2           False            1             10                   18          8  \n",
       "3            True            3              0                   25         25  \n",
       "4           False            2              3                   29         26  "
      ]
     },
     "execution_count": 12,
     "metadata": {},
     "output_type": "execute_result"
    }
   ],
   "source": [
    "telecom['wait_time'] = telecom['total_call_duration'] - telecom['call_duration']\n",
    "telecom.head()"
   ]
  },
  {
   "cell_type": "markdown",
   "metadata": {},
   "source": [
    "### Cargar los datos:Clientes"
   ]
  },
  {
   "cell_type": "markdown",
   "metadata": {},
   "source": [
    "</div>\n",
    "<div class=\"alert alert-block alert-warning\">\n",
    "<b>Clients</b> <a class=\"tocSkip\"></a>"
   ]
  },
  {
   "cell_type": "code",
   "execution_count": 13,
   "metadata": {},
   "outputs": [],
   "source": [
    "clients = pd.read_csv('/datasets/telecom_clients_us.csv', sep=',')"
   ]
  },
  {
   "cell_type": "code",
   "execution_count": 14,
   "metadata": {},
   "outputs": [
    {
     "data": {
      "text/html": [
       "<div>\n",
       "<style scoped>\n",
       "    .dataframe tbody tr th:only-of-type {\n",
       "        vertical-align: middle;\n",
       "    }\n",
       "\n",
       "    .dataframe tbody tr th {\n",
       "        vertical-align: top;\n",
       "    }\n",
       "\n",
       "    .dataframe thead th {\n",
       "        text-align: right;\n",
       "    }\n",
       "</style>\n",
       "<table border=\"1\" class=\"dataframe\">\n",
       "  <thead>\n",
       "    <tr style=\"text-align: right;\">\n",
       "      <th></th>\n",
       "      <th>user_id</th>\n",
       "      <th>tariff_plan</th>\n",
       "      <th>date_start</th>\n",
       "    </tr>\n",
       "  </thead>\n",
       "  <tbody>\n",
       "    <tr>\n",
       "      <th>0</th>\n",
       "      <td>166713</td>\n",
       "      <td>A</td>\n",
       "      <td>2019-08-15</td>\n",
       "    </tr>\n",
       "    <tr>\n",
       "      <th>1</th>\n",
       "      <td>166901</td>\n",
       "      <td>A</td>\n",
       "      <td>2019-08-23</td>\n",
       "    </tr>\n",
       "    <tr>\n",
       "      <th>2</th>\n",
       "      <td>168527</td>\n",
       "      <td>A</td>\n",
       "      <td>2019-10-29</td>\n",
       "    </tr>\n",
       "    <tr>\n",
       "      <th>3</th>\n",
       "      <td>167097</td>\n",
       "      <td>A</td>\n",
       "      <td>2019-09-01</td>\n",
       "    </tr>\n",
       "    <tr>\n",
       "      <th>4</th>\n",
       "      <td>168193</td>\n",
       "      <td>A</td>\n",
       "      <td>2019-10-16</td>\n",
       "    </tr>\n",
       "    <tr>\n",
       "      <th>...</th>\n",
       "      <td>...</td>\n",
       "      <td>...</td>\n",
       "      <td>...</td>\n",
       "    </tr>\n",
       "    <tr>\n",
       "      <th>727</th>\n",
       "      <td>166554</td>\n",
       "      <td>B</td>\n",
       "      <td>2019-08-08</td>\n",
       "    </tr>\n",
       "    <tr>\n",
       "      <th>728</th>\n",
       "      <td>166911</td>\n",
       "      <td>B</td>\n",
       "      <td>2019-08-23</td>\n",
       "    </tr>\n",
       "    <tr>\n",
       "      <th>729</th>\n",
       "      <td>167012</td>\n",
       "      <td>B</td>\n",
       "      <td>2019-08-28</td>\n",
       "    </tr>\n",
       "    <tr>\n",
       "      <th>730</th>\n",
       "      <td>166867</td>\n",
       "      <td>B</td>\n",
       "      <td>2019-08-22</td>\n",
       "    </tr>\n",
       "    <tr>\n",
       "      <th>731</th>\n",
       "      <td>166565</td>\n",
       "      <td>B</td>\n",
       "      <td>2019-08-08</td>\n",
       "    </tr>\n",
       "  </tbody>\n",
       "</table>\n",
       "<p>732 rows × 3 columns</p>\n",
       "</div>"
      ],
      "text/plain": [
       "     user_id tariff_plan  date_start\n",
       "0     166713           A  2019-08-15\n",
       "1     166901           A  2019-08-23\n",
       "2     168527           A  2019-10-29\n",
       "3     167097           A  2019-09-01\n",
       "4     168193           A  2019-10-16\n",
       "..       ...         ...         ...\n",
       "727   166554           B  2019-08-08\n",
       "728   166911           B  2019-08-23\n",
       "729   167012           B  2019-08-28\n",
       "730   166867           B  2019-08-22\n",
       "731   166565           B  2019-08-08\n",
       "\n",
       "[732 rows x 3 columns]"
      ]
     },
     "execution_count": 14,
     "metadata": {},
     "output_type": "execute_result"
    }
   ],
   "source": [
    "clients"
   ]
  },
  {
   "cell_type": "markdown",
   "metadata": {},
   "source": [
    "#### Pre-visualizaciòn de los datos : Clients"
   ]
  },
  {
   "cell_type": "code",
   "execution_count": 15,
   "metadata": {
    "scrolled": false
   },
   "outputs": [
    {
     "name": "stdout",
     "output_type": "stream",
     "text": [
      "(732, 3)\n",
      "\n",
      "<class 'pandas.core.frame.DataFrame'>\n",
      "RangeIndex: 732 entries, 0 to 731\n",
      "Data columns (total 3 columns):\n",
      " #   Column       Non-Null Count  Dtype \n",
      "---  ------       --------------  ----- \n",
      " 0   user_id      732 non-null    int64 \n",
      " 1   tariff_plan  732 non-null    object\n",
      " 2   date_start   732 non-null    object\n",
      "dtypes: int64(1), object(2)\n",
      "memory usage: 17.3+ KB\n",
      "None\n",
      "\n",
      "             user_id\n",
      "count     732.000000\n",
      "mean   167431.927596\n",
      "std       633.810383\n",
      "min    166373.000000\n",
      "25%    166900.750000\n",
      "50%    167432.000000\n",
      "75%    167973.000000\n",
      "max    168606.000000\n",
      "\n",
      "valores ausentes:\n",
      "user_id        0\n",
      "tariff_plan    0\n",
      "date_start     0\n",
      "dtype: int64\n",
      "\n",
      "filas duplicadas: 0\n"
     ]
    }
   ],
   "source": [
    "analisis_exploratorio_df(clients)"
   ]
  },
  {
   "cell_type": "markdown",
   "metadata": {},
   "source": [
    "**Importante** En la Pre-visualización de los datos se puede observar que hay 732 filas en 3 columnas, de las cuales no se encontraron valores ausentes ni duplicados. Sin embargo es necesario modificar de la columna: date_start que es de tipo: object, se debe transformar a date"
   ]
  },
  {
   "cell_type": "markdown",
   "metadata": {},
   "source": [
    "#### Limpiar los datos: Clients"
   ]
  },
  {
   "cell_type": "code",
   "execution_count": 16,
   "metadata": {},
   "outputs": [],
   "source": [
    "# Modificar el tipo object a date en la columna: Date\n",
    "\n",
    "clients['date_start'] = pd.to_datetime(clients['date_start'], format='%Y-%m-%d %H:%M:%S') "
   ]
  },
  {
   "cell_type": "code",
   "execution_count": 17,
   "metadata": {},
   "outputs": [
    {
     "name": "stdout",
     "output_type": "stream",
     "text": [
      "<class 'pandas.core.frame.DataFrame'>\n",
      "RangeIndex: 732 entries, 0 to 731\n",
      "Data columns (total 3 columns):\n",
      " #   Column       Non-Null Count  Dtype         \n",
      "---  ------       --------------  -----         \n",
      " 0   user_id      732 non-null    int64         \n",
      " 1   tariff_plan  732 non-null    object        \n",
      " 2   date_start   732 non-null    datetime64[ns]\n",
      "dtypes: datetime64[ns](1), int64(1), object(1)\n",
      "memory usage: 17.3+ KB\n"
     ]
    }
   ],
   "source": [
    "clients.info()"
   ]
  },
  {
   "cell_type": "markdown",
   "metadata": {},
   "source": [
    "## Análisis exploratorio de datos  (EDA)- Metricas e Indicadores"
   ]
  },
  {
   "cell_type": "markdown",
   "metadata": {},
   "source": [
    "**Fecha minima y maxima de los datos**"
   ]
  },
  {
   "cell_type": "code",
   "execution_count": 18,
   "metadata": {},
   "outputs": [
    {
     "name": "stdout",
     "output_type": "stream",
     "text": [
      "2019-08-02 00:00:00+03:00\n",
      "2019-11-28 00:00:00+03:00\n"
     ]
    }
   ],
   "source": [
    "print(telecom['date'].min())\n",
    "print(telecom['date'].max())"
   ]
  },
  {
   "cell_type": "markdown",
   "metadata": {},
   "source": [
    "Los datos que se están analizando son de 3 meses, (desde agosto del 2019 hasta noviembre 2019)"
   ]
  },
  {
   "cell_type": "markdown",
   "metadata": {},
   "source": [
    "# **LLamadas Entrantes**"
   ]
  },
  {
   "cell_type": "markdown",
   "metadata": {},
   "source": [
    "#### Cantidad total de llamadas "
   ]
  },
  {
   "cell_type": "code",
   "execution_count": 19,
   "metadata": {},
   "outputs": [
    {
     "data": {
      "text/html": [
       "<div>\n",
       "<style scoped>\n",
       "    .dataframe tbody tr th:only-of-type {\n",
       "        vertical-align: middle;\n",
       "    }\n",
       "\n",
       "    .dataframe tbody tr th {\n",
       "        vertical-align: top;\n",
       "    }\n",
       "\n",
       "    .dataframe thead th {\n",
       "        text-align: right;\n",
       "    }\n",
       "</style>\n",
       "<table border=\"1\" class=\"dataframe\">\n",
       "  <thead>\n",
       "    <tr style=\"text-align: right;\">\n",
       "      <th></th>\n",
       "      <th>user_id</th>\n",
       "      <th>date</th>\n",
       "      <th>direction</th>\n",
       "      <th>internal</th>\n",
       "      <th>operator_id</th>\n",
       "      <th>is_missed_call</th>\n",
       "      <th>calls_count</th>\n",
       "      <th>call_duration</th>\n",
       "      <th>total_call_duration</th>\n",
       "      <th>wait_time</th>\n",
       "    </tr>\n",
       "  </thead>\n",
       "  <tbody>\n",
       "    <tr>\n",
       "      <th>21</th>\n",
       "      <td>166377</td>\n",
       "      <td>2019-08-12 00:00:00+03:00</td>\n",
       "      <td>in</td>\n",
       "      <td>False</td>\n",
       "      <td>880028</td>\n",
       "      <td>False</td>\n",
       "      <td>1</td>\n",
       "      <td>407</td>\n",
       "      <td>411</td>\n",
       "      <td>4</td>\n",
       "    </tr>\n",
       "    <tr>\n",
       "      <th>26</th>\n",
       "      <td>166377</td>\n",
       "      <td>2019-08-13 00:00:00+03:00</td>\n",
       "      <td>in</td>\n",
       "      <td>False</td>\n",
       "      <td>880028</td>\n",
       "      <td>False</td>\n",
       "      <td>1</td>\n",
       "      <td>88</td>\n",
       "      <td>102</td>\n",
       "      <td>14</td>\n",
       "    </tr>\n",
       "    <tr>\n",
       "      <th>29</th>\n",
       "      <td>166377</td>\n",
       "      <td>2019-08-14 00:00:00+03:00</td>\n",
       "      <td>in</td>\n",
       "      <td>False</td>\n",
       "      <td>880026</td>\n",
       "      <td>False</td>\n",
       "      <td>2</td>\n",
       "      <td>197</td>\n",
       "      <td>218</td>\n",
       "      <td>21</td>\n",
       "    </tr>\n",
       "    <tr>\n",
       "      <th>30</th>\n",
       "      <td>166377</td>\n",
       "      <td>2019-08-14 00:00:00+03:00</td>\n",
       "      <td>in</td>\n",
       "      <td>False</td>\n",
       "      <td>880028</td>\n",
       "      <td>False</td>\n",
       "      <td>1</td>\n",
       "      <td>33</td>\n",
       "      <td>37</td>\n",
       "      <td>4</td>\n",
       "    </tr>\n",
       "    <tr>\n",
       "      <th>38</th>\n",
       "      <td>166377</td>\n",
       "      <td>2019-08-15 00:00:00+03:00</td>\n",
       "      <td>in</td>\n",
       "      <td>False</td>\n",
       "      <td>880028</td>\n",
       "      <td>False</td>\n",
       "      <td>1</td>\n",
       "      <td>23</td>\n",
       "      <td>27</td>\n",
       "      <td>4</td>\n",
       "    </tr>\n",
       "    <tr>\n",
       "      <th>...</th>\n",
       "      <td>...</td>\n",
       "      <td>...</td>\n",
       "      <td>...</td>\n",
       "      <td>...</td>\n",
       "      <td>...</td>\n",
       "      <td>...</td>\n",
       "      <td>...</td>\n",
       "      <td>...</td>\n",
       "      <td>...</td>\n",
       "      <td>...</td>\n",
       "    </tr>\n",
       "    <tr>\n",
       "      <th>41468</th>\n",
       "      <td>168601</td>\n",
       "      <td>2019-11-25 00:00:00+03:00</td>\n",
       "      <td>in</td>\n",
       "      <td>False</td>\n",
       "      <td>952914</td>\n",
       "      <td>False</td>\n",
       "      <td>7</td>\n",
       "      <td>1229</td>\n",
       "      <td>1282</td>\n",
       "      <td>53</td>\n",
       "    </tr>\n",
       "    <tr>\n",
       "      <th>41471</th>\n",
       "      <td>168601</td>\n",
       "      <td>2019-11-26 00:00:00+03:00</td>\n",
       "      <td>in</td>\n",
       "      <td>False</td>\n",
       "      <td>952914</td>\n",
       "      <td>False</td>\n",
       "      <td>4</td>\n",
       "      <td>539</td>\n",
       "      <td>562</td>\n",
       "      <td>23</td>\n",
       "    </tr>\n",
       "    <tr>\n",
       "      <th>41472</th>\n",
       "      <td>168601</td>\n",
       "      <td>2019-11-27 00:00:00+03:00</td>\n",
       "      <td>in</td>\n",
       "      <td>False</td>\n",
       "      <td>952914</td>\n",
       "      <td>False</td>\n",
       "      <td>2</td>\n",
       "      <td>53</td>\n",
       "      <td>77</td>\n",
       "      <td>24</td>\n",
       "    </tr>\n",
       "    <tr>\n",
       "      <th>41483</th>\n",
       "      <td>168606</td>\n",
       "      <td>2019-11-08 00:00:00+03:00</td>\n",
       "      <td>in</td>\n",
       "      <td>False</td>\n",
       "      <td>957922</td>\n",
       "      <td>True</td>\n",
       "      <td>1</td>\n",
       "      <td>0</td>\n",
       "      <td>7</td>\n",
       "      <td>7</td>\n",
       "    </tr>\n",
       "    <tr>\n",
       "      <th>41485</th>\n",
       "      <td>168606</td>\n",
       "      <td>2019-11-08 00:00:00+03:00</td>\n",
       "      <td>in</td>\n",
       "      <td>False</td>\n",
       "      <td>957922</td>\n",
       "      <td>False</td>\n",
       "      <td>2</td>\n",
       "      <td>686</td>\n",
       "      <td>705</td>\n",
       "      <td>19</td>\n",
       "    </tr>\n",
       "  </tbody>\n",
       "</table>\n",
       "<p>12678 rows × 10 columns</p>\n",
       "</div>"
      ],
      "text/plain": [
       "       user_id                      date direction internal  operator_id  \\\n",
       "21      166377 2019-08-12 00:00:00+03:00        in    False       880028   \n",
       "26      166377 2019-08-13 00:00:00+03:00        in    False       880028   \n",
       "29      166377 2019-08-14 00:00:00+03:00        in    False       880026   \n",
       "30      166377 2019-08-14 00:00:00+03:00        in    False       880028   \n",
       "38      166377 2019-08-15 00:00:00+03:00        in    False       880028   \n",
       "...        ...                       ...       ...      ...          ...   \n",
       "41468   168601 2019-11-25 00:00:00+03:00        in    False       952914   \n",
       "41471   168601 2019-11-26 00:00:00+03:00        in    False       952914   \n",
       "41472   168601 2019-11-27 00:00:00+03:00        in    False       952914   \n",
       "41483   168606 2019-11-08 00:00:00+03:00        in    False       957922   \n",
       "41485   168606 2019-11-08 00:00:00+03:00        in    False       957922   \n",
       "\n",
       "       is_missed_call  calls_count  call_duration  total_call_duration  \\\n",
       "21              False            1            407                  411   \n",
       "26              False            1             88                  102   \n",
       "29              False            2            197                  218   \n",
       "30              False            1             33                   37   \n",
       "38              False            1             23                   27   \n",
       "...               ...          ...            ...                  ...   \n",
       "41468           False            7           1229                 1282   \n",
       "41471           False            4            539                  562   \n",
       "41472           False            2             53                   77   \n",
       "41483            True            1              0                    7   \n",
       "41485           False            2            686                  705   \n",
       "\n",
       "       wait_time  \n",
       "21             4  \n",
       "26            14  \n",
       "29            21  \n",
       "30             4  \n",
       "38             4  \n",
       "...          ...  \n",
       "41468         53  \n",
       "41471         23  \n",
       "41472         24  \n",
       "41483          7  \n",
       "41485         19  \n",
       "\n",
       "[12678 rows x 10 columns]"
      ]
     },
     "execution_count": 19,
     "metadata": {},
     "output_type": "execute_result"
    }
   ],
   "source": [
    "# Filtrar solo las llamadas entrantes ('in')\n",
    "incoming_calls = telecom[telecom['direction'] == 'in']\n",
    "incoming_calls"
   ]
  },
  {
   "cell_type": "code",
   "execution_count": 20,
   "metadata": {},
   "outputs": [
    {
     "name": "stdout",
     "output_type": "stream",
     "text": [
      "Cantidad total de llamadas entrantes: 93742\n"
     ]
    }
   ],
   "source": [
    "# Calcular la cantidad total de llamadas entrantes\n",
    "\n",
    "total_incoming_calls = incoming_calls['calls_count'].sum()\n",
    "\n",
    "print(f\"Cantidad total de llamadas entrantes: {total_incoming_calls}\")"
   ]
  },
  {
   "cell_type": "markdown",
   "metadata": {},
   "source": [
    "####  Top 10 Operadores que Reciben Más Llamadas Entrantes"
   ]
  },
  {
   "cell_type": "code",
   "execution_count": 21,
   "metadata": {},
   "outputs": [
    {
     "name": "stdout",
     "output_type": "stream",
     "text": [
      "Top 10 operadores con más llamadas entrantes:\n",
      "     operator_id  calls_count\n",
      "288       913938         4766\n",
      "674       952948         3540\n",
      "289       913942         2467\n",
      "76        893804         2433\n",
      "358       921318         2319\n",
      "570       940588         2127\n",
      "445       931458         2076\n",
      "577       940630         1985\n",
      "154       901880         1823\n",
      "361       921818         1807\n"
     ]
    },
    {
     "data": {
      "image/png": "[encoded data removed]",
      "text/plain": [
       "<Figure size 1200x600 with 1 Axes>"
      ]
     },
     "metadata": {},
     "output_type": "display_data"
    }
   ],
   "source": [
    "# Agrupar por operador y sumar las llamadas entrantes\n",
    "top_operators_by_calls = incoming_calls.groupby('operator_id')['calls_count'].sum().reset_index()\n",
    "\n",
    "# Ordenar por cantidad de llamadas y seleccionar el top 10\n",
    "top_10_operators_calls = top_operators_by_calls.sort_values(by='calls_count', ascending=False).head(10)\n",
    "\n",
    "print(\"Top 10 operadores con más llamadas entrantes:\")\n",
    "print(top_10_operators_calls)\n",
    "\n",
    "# Visualización\n",
    "plt.figure(figsize=(12, 6))\n",
    "sns.barplot(x='operator_id', y='calls_count', data=top_10_operators_calls)\n",
    "plt.title('Top 10 Operadores con Más Llamadas Entrantes')\n",
    "plt.xlabel('ID del Operador')\n",
    "plt.ylabel('Cantidad de Llamadas Entrantes')\n",
    "plt.xticks(rotation=45)\n",
    "plt.show()"
   ]
  },
  {
   "cell_type": "markdown",
   "metadata": {},
   "source": [
    "Los operadores que reciben la mayor cantidad de llamadas se encuentran desde 4.766 , 3.540 y 2.467 llamadas"
   ]
  },
  {
   "cell_type": "markdown",
   "metadata": {},
   "source": [
    "###   Cantidad de Llamadas Perdidas"
   ]
  },
  {
   "cell_type": "code",
   "execution_count": 22,
   "metadata": {},
   "outputs": [
    {
     "name": "stdout",
     "output_type": "stream",
     "text": [
      "Cantidad total de llamadas perdidas: 684\n"
     ]
    }
   ],
   "source": [
    "# Calcular la cantidad total de llamadas perdidas\n",
    "total_missed_calls = incoming_calls['is_missed_call'].sum()\n",
    "\n",
    "print(f\"Cantidad total de llamadas perdidas: {total_missed_calls}\")"
   ]
  },
  {
   "cell_type": "markdown",
   "metadata": {},
   "source": [
    " #### Top 10 Operadores con Mayor Cantidad de Llamadas Perdidas"
   ]
  },
  {
   "cell_type": "code",
   "execution_count": 23,
   "metadata": {
    "scrolled": false
   },
   "outputs": [
    {
     "name": "stdout",
     "output_type": "stream",
     "text": [
      "Top 10 operadores con más llamadas perdidas:\n",
      "     operator_id  is_missed_call\n",
      "289       913942              28\n",
      "22        885890              21\n",
      "21        885876              17\n",
      "594       944216              16\n",
      "570       940588              15\n",
      "598       944226              14\n",
      "288       913938              13\n",
      "596       944220              12\n",
      "577       940630              11\n",
      "597       944222              11\n"
     ]
    },
    {
     "data": {
      "image/png": "[encoded data removed]",
      "text/plain": [
       "<Figure size 1200x600 with 1 Axes>"
      ]
     },
     "metadata": {},
     "output_type": "display_data"
    }
   ],
   "source": [
    "# Agrupar por operador y sumar las llamadas perdidas\n",
    "top_operators_by_missed_calls = incoming_calls.groupby('operator_id')['is_missed_call'].sum().reset_index()\n",
    "\n",
    "# Ordenar por cantidad de llamadas perdidas y seleccionar el top 10\n",
    "top_10_operators_missed = top_operators_by_missed_calls.sort_values(by='is_missed_call', ascending=False).head(10)\n",
    "\n",
    "print(\"Top 10 operadores con más llamadas perdidas:\")\n",
    "print(top_10_operators_missed)\n",
    "\n",
    "# Visualización\n",
    "plt.figure(figsize=(12, 6))\n",
    "sns.barplot(x='operator_id', y='is_missed_call', data=top_10_operators_missed)\n",
    "plt.title('Top 10 Operadores con Más Llamadas Perdidas')\n",
    "plt.xlabel('ID del Operador')\n",
    "plt.ylabel('Cantidad de Llamadas Perdidas')\n",
    "plt.xticks(rotation=45)\n",
    "plt.show()"
   ]
  },
  {
   "cell_type": "code",
   "execution_count": 24,
   "metadata": {},
   "outputs": [
    {
     "data": {
      "text/plain": [
       "operator_id       696473118\n",
       "is_missed_call          684\n",
       "dtype: int64"
      ]
     },
     "execution_count": 24,
     "metadata": {},
     "output_type": "execute_result"
    }
   ],
   "source": [
    "top_operators_by_missed_calls.sum()"
   ]
  },
  {
   "cell_type": "markdown",
   "metadata": {},
   "source": [
    "La grafica anterior, quiere decir que el operador más ineficiente en terminos de llamadas perdidas es 913942, seguido de 885890 y el 885876. Estos Operadores deben ser analizamos mas en detalle para conocer las causas de su ineficiencia."
   ]
  },
  {
   "cell_type": "markdown",
   "metadata": {},
   "source": [
    "###   Tiempo promedio de llamada"
   ]
  },
  {
   "cell_type": "markdown",
   "metadata": {},
   "source": [
    "#### Tiempo Mayor de Espera de las Llamadas Entrantes"
   ]
  },
  {
   "cell_type": "code",
   "execution_count": 25,
   "metadata": {},
   "outputs": [],
   "source": [
    "# Calcular el tiempo mayor de espera\n",
    "max_waiting_time = incoming_calls['wait_time'].max()"
   ]
  },
  {
   "cell_type": "code",
   "execution_count": 26,
   "metadata": {},
   "outputs": [
    {
     "name": "stdout",
     "output_type": "stream",
     "text": [
      "El tiempo mayor de espera para las llamadas entrantes es: 3998 segundos\n",
      "Detalles de la llamada con mayor tiempo de espera:\n"
     ]
    },
    {
     "data": {
      "text/html": [
       "<div>\n",
       "<style scoped>\n",
       "    .dataframe tbody tr th:only-of-type {\n",
       "        vertical-align: middle;\n",
       "    }\n",
       "\n",
       "    .dataframe tbody tr th {\n",
       "        vertical-align: top;\n",
       "    }\n",
       "\n",
       "    .dataframe thead th {\n",
       "        text-align: right;\n",
       "    }\n",
       "</style>\n",
       "<table border=\"1\" class=\"dataframe\">\n",
       "  <thead>\n",
       "    <tr style=\"text-align: right;\">\n",
       "      <th></th>\n",
       "      <th>user_id</th>\n",
       "      <th>date</th>\n",
       "      <th>direction</th>\n",
       "      <th>internal</th>\n",
       "      <th>operator_id</th>\n",
       "      <th>is_missed_call</th>\n",
       "      <th>calls_count</th>\n",
       "      <th>call_duration</th>\n",
       "      <th>total_call_duration</th>\n",
       "      <th>wait_time</th>\n",
       "    </tr>\n",
       "  </thead>\n",
       "  <tbody>\n",
       "    <tr>\n",
       "      <th>29451</th>\n",
       "      <td>167650</td>\n",
       "      <td>2019-11-11 00:00:00+03:00</td>\n",
       "      <td>in</td>\n",
       "      <td>False</td>\n",
       "      <td>931458</td>\n",
       "      <td>False</td>\n",
       "      <td>133</td>\n",
       "      <td>12379</td>\n",
       "      <td>16377</td>\n",
       "      <td>3998</td>\n",
       "    </tr>\n",
       "  </tbody>\n",
       "</table>\n",
       "</div>"
      ],
      "text/plain": [
       "       user_id                      date direction internal  operator_id  \\\n",
       "29451   167650 2019-11-11 00:00:00+03:00        in    False       931458   \n",
       "\n",
       "       is_missed_call  calls_count  call_duration  total_call_duration  \\\n",
       "29451           False          133          12379                16377   \n",
       "\n",
       "       wait_time  \n",
       "29451       3998  "
      ]
     },
     "execution_count": 26,
     "metadata": {},
     "output_type": "execute_result"
    }
   ],
   "source": [
    "# Filtrar la fila con el tiempo mayor de espera\n",
    "max_waiting_call = incoming_calls[incoming_calls['wait_time'] == max_waiting_time]\n",
    "\n",
    "print(f\"El tiempo mayor de espera para las llamadas entrantes es: {max_waiting_time} segundos\")\n",
    "print(\"Detalles de la llamada con mayor tiempo de espera:\")\n",
    "max_waiting_call"
   ]
  },
  {
   "cell_type": "markdown",
   "metadata": {},
   "source": [
    "#### Determinar el Tiempo Mayor de Espera por Operador"
   ]
  },
  {
   "cell_type": "code",
   "execution_count": 27,
   "metadata": {},
   "outputs": [],
   "source": [
    "# Agrupar por operador y calcular el tiempo máximo de espera\n",
    "max_waiting_time_by_operator = incoming_calls.groupby('operator_id')['wait_time'].max().reset_index()\n",
    "\n",
    "# Renombrar columna para claridad\n",
    "max_waiting_time_by_operator.rename(columns={'wait_time': 'max_waiting_time'}, inplace=True)\n",
    "\n",
    "# Ordenar por tiempo máximo de espera\n",
    "max_waiting_time_by_operator = max_waiting_time_by_operator.sort_values(by='max_waiting_time', ascending=False)\n"
   ]
  },
  {
   "cell_type": "markdown",
   "metadata": {},
   "source": [
    "#### Top 10 Operadores con Tiempos de Espera Más Largos"
   ]
  },
  {
   "cell_type": "code",
   "execution_count": 28,
   "metadata": {},
   "outputs": [
    {
     "name": "stdout",
     "output_type": "stream",
     "text": [
      "Top 10 operadores con tiempos de espera más largos:\n",
      "     operator_id  max_waiting_time\n",
      "445       931458              3998\n",
      "206       906070              3725\n",
      "335       919790              2217\n",
      "337       919794              2112\n",
      "358       921318              2042\n",
      "328       919204              1745\n",
      "288       913938              1558\n",
      "74        893402              1424\n",
      "333       919552              1399\n",
      "289       913942              1375\n"
     ]
    },
    {
     "data": {
      "image/png": "[encoded data removed]",
      "text/plain": [
       "<Figure size 1200x600 with 1 Axes>"
      ]
     },
     "metadata": {},
     "output_type": "display_data"
    }
   ],
   "source": [
    "# Seleccionar el top 10 operadores con mayor tiempo de espera\n",
    "top_10_waiting_operators = max_waiting_time_by_operator.head(10)\n",
    "\n",
    "print(\"Top 10 operadores con tiempos de espera más largos:\")\n",
    "print(top_10_waiting_operators)\n",
    "\n",
    "# Visualización del top 10\n",
    "plt.figure(figsize=(12, 6))\n",
    "sns.barplot(x='operator_id', y='max_waiting_time', data=top_10_waiting_operators, palette='Reds_r')\n",
    "plt.title('Top 10 Operadores con Tiempos de Espera Más Largos')\n",
    "plt.xlabel('ID del Operador')\n",
    "plt.ylabel('Tiempo Máximo de Espera (segundos)')\n",
    "plt.xticks(rotation=45)\n",
    "plt.show()"
   ]
  },
  {
   "cell_type": "markdown",
   "metadata": {},
   "source": [
    "El tiempo más largo que alguien esperó antes de ser atendido es de 3.998 segundos, lo que equivale alrededor de 1 hora. El operador ineficiente es el 931458. A los 10 operadores que se muestran en la grafica requieren de atención prioritaria ya que esto influye en la experiencia de los clientes."
   ]
  },
  {
   "cell_type": "markdown",
   "metadata": {},
   "source": [
    "# **LLamadas Internas**"
   ]
  },
  {
   "cell_type": "markdown",
   "metadata": {},
   "source": [
    "### ¿Cuántas llamadas internas se realizaron?"
   ]
  },
  {
   "cell_type": "code",
   "execution_count": 29,
   "metadata": {},
   "outputs": [
    {
     "name": "stdout",
     "output_type": "stream",
     "text": [
      "Cantidad total de llamadas internas realizadas: 13665\n"
     ]
    }
   ],
   "source": [
    "# Filtrar llamadas internas\n",
    "internal_calls = telecom[telecom['internal'] == True]\n",
    "\n",
    "# Calcular el total de llamadas internas\n",
    "total_internal_calls = internal_calls['calls_count'].sum()\n",
    "\n",
    "print(f\"Cantidad total de llamadas internas realizadas: {total_internal_calls}\")"
   ]
  },
  {
   "cell_type": "markdown",
   "metadata": {},
   "source": [
    "#### Llamadas internas por operador"
   ]
  },
  {
   "cell_type": "code",
   "execution_count": 30,
   "metadata": {},
   "outputs": [
    {
     "name": "stdout",
     "output_type": "stream",
     "text": [
      "Llamadas internas realizadas por cada operador:\n",
      "     operator_id  total_internal_calls\n",
      "171       907986                   447\n",
      "143       906394                   416\n",
      "136       905574                   345\n",
      "144       906396                   316\n",
      "134       905566                   310\n",
      "149       906406                   298\n",
      "21        887276                   282\n",
      "152       906412                   255\n",
      "146       906400                   244\n",
      "207       915358                   242\n"
     ]
    }
   ],
   "source": [
    "# Agrupar por operador y calcular el total de llamadas internas realizadas\n",
    "internal_calls_by_operator = internal_calls.groupby('operator_id')['calls_count'].sum().reset_index()\n",
    "\n",
    "# Renombrar columna para mayor claridad\n",
    "internal_calls_by_operator.rename(columns={'calls_count': 'total_internal_calls'}, inplace=True)\n",
    "\n",
    "# Ordenar por cantidad de llamadas internas\n",
    "internal_calls_by_operator = internal_calls_by_operator.sort_values(by='total_internal_calls', ascending=False)\n",
    "\n",
    "print(\"Llamadas internas realizadas por cada operador:\")\n",
    "print(internal_calls_by_operator.head(10))"
   ]
  },
  {
   "cell_type": "markdown",
   "metadata": {},
   "source": [
    "#### Determinar las llamadas perdidas por operadores"
   ]
  },
  {
   "cell_type": "code",
   "execution_count": 31,
   "metadata": {},
   "outputs": [],
   "source": [
    "# Filtrar llamadas internas perdidas\n",
    "missed_internal_calls = internal_calls[internal_calls['is_missed_call'] == True]"
   ]
  },
  {
   "cell_type": "code",
   "execution_count": 32,
   "metadata": {},
   "outputs": [
    {
     "name": "stdout",
     "output_type": "stream",
     "text": [
      "Cantidad total de llamadas internas perdidas: 2412\n"
     ]
    }
   ],
   "source": [
    "# Calcular el total de llamadas internas perdidas\n",
    "\n",
    "total_missed_internal_calls = missed_internal_calls['is_missed_call'].sum()\n",
    "\n",
    "print(f\"Cantidad total de llamadas internas perdidas: {total_missed_internal_calls}\")"
   ]
  },
  {
   "cell_type": "code",
   "execution_count": 33,
   "metadata": {},
   "outputs": [],
   "source": [
    "# Agrupar por operador y calcular el total de llamadas internas perdidas\n",
    "missed_internal_calls_by_operator = missed_internal_calls.groupby('operator_id')['is_missed_call'].sum().reset_index()\n",
    "\n",
    "# Renombrar columna para mayor claridad\n",
    "missed_internal_calls_by_operator.rename(columns={'is_missed_call': 'total_missed_internal_calls'}, inplace=True)\n",
    "\n",
    "# Ordenar por cantidad de llamadas perdidas\n",
    "missed_internal_calls_by_operator = missed_internal_calls_by_operator.sort_values(by='total_missed_internal_calls', ascending=False)\n"
   ]
  },
  {
   "cell_type": "markdown",
   "metadata": {},
   "source": [
    "#### Top 10 operadores con mayor cantidad de llamadas internas perdidas"
   ]
  },
  {
   "cell_type": "code",
   "execution_count": 34,
   "metadata": {},
   "outputs": [
    {
     "name": "stdout",
     "output_type": "stream",
     "text": [
      "Top 10 operadores con mayor cantidad de llamadas internas perdidas:\n",
      "     operator_id  total_missed_internal_calls\n",
      "40        891414                           42\n",
      "39        891410                           42\n",
      "121       905564                           39\n",
      "122       905566                           36\n",
      "137       906406                           35\n",
      "119       905538                           34\n",
      "169       912722                           32\n",
      "131       906394                           32\n",
      "19        887276                           31\n",
      "159       907986                           31\n"
     ]
    },
    {
     "data": {
      "image/png": "[encoded data removed]",
      "text/plain": [
       "<Figure size 1200x600 with 1 Axes>"
      ]
     },
     "metadata": {},
     "output_type": "display_data"
    }
   ],
   "source": [
    "# Seleccionar el top 10 operadores con más llamadas internas perdidas\n",
    "top_10_missed_internal_calls = missed_internal_calls_by_operator.head(10)\n",
    "\n",
    "print(\"Top 10 operadores con mayor cantidad de llamadas internas perdidas:\")\n",
    "print(top_10_missed_internal_calls)\n",
    "\n",
    "# Visualización del top 10\n",
    "plt.figure(figsize=(12, 6))\n",
    "sns.barplot(x='operator_id', y='total_missed_internal_calls', data=top_10_missed_internal_calls, palette='Reds_r')\n",
    "plt.title('Top 10 Operadores con Más Llamadas Internas Perdidas')\n",
    "plt.xlabel('ID del Operador')\n",
    "plt.ylabel('Cantidad de Llamadas Internas Perdidas')\n",
    "plt.xticks(rotation=45)\n",
    "plt.show()"
   ]
  },
  {
   "cell_type": "markdown",
   "metadata": {},
   "source": [
    "La grafica anterior significa que de  13665 llamadas internas que se realizaron, se perdieron 2.412 llamadas. El operador mas ineficiente en este rubro es el 891414, con 42 llamadas perdidas. Puede ser que el operador es nuevo, o no esta bien capacitado con los sistemas de la compañia."
   ]
  },
  {
   "cell_type": "markdown",
   "metadata": {},
   "source": [
    "# **Llamadas salientes**"
   ]
  },
  {
   "cell_type": "markdown",
   "metadata": {},
   "source": [
    "###  Cantidad Total de Llamadas Salientes"
   ]
  },
  {
   "cell_type": "code",
   "execution_count": 35,
   "metadata": {},
   "outputs": [
    {
     "name": "stdout",
     "output_type": "stream",
     "text": [
      "Cantidad total de llamadas salientes: 608343\n"
     ]
    }
   ],
   "source": [
    "# Filtrar las llamadas salientes  (direction == \"out\") y calculamos el total\n",
    "outgoing_calls = telecom[telecom['direction'] == \"out\"]\n",
    "\n",
    "# Calcular la cantidad total de llamadas salientes\n",
    "total_outgoing_calls = outgoing_calls['calls_count'].sum()\n",
    "\n",
    "print(f\"Cantidad total de llamadas salientes: {total_outgoing_calls}\")"
   ]
  },
  {
   "cell_type": "markdown",
   "metadata": {},
   "source": [
    "###  Cantidad de Operadores que Realizan Llamadas Salientes"
   ]
  },
  {
   "cell_type": "code",
   "execution_count": 36,
   "metadata": {},
   "outputs": [
    {
     "name": "stdout",
     "output_type": "stream",
     "text": [
      "Cantidad de operadores que realizan llamadas salientes: 882\n"
     ]
    }
   ],
   "source": [
    "# Obtener la cantidad de operadores únicos que realizan llamadas salientes\n",
    "total_outgoing_operators = outgoing_calls['operator_id'].nunique()\n",
    "\n",
    "print(f\"Cantidad de operadores que realizan llamadas salientes: {total_outgoing_operators}\")"
   ]
  },
  {
   "cell_type": "markdown",
   "metadata": {},
   "source": [
    "### Top 10 de los Operadores que Realizan Más Llamadas Salientes"
   ]
  },
  {
   "cell_type": "code",
   "execution_count": 37,
   "metadata": {},
   "outputs": [
    {
     "name": "stdout",
     "output_type": "stream",
     "text": [
      "Top 10 operadores que realizan más llamadas salientes:\n",
      "     operator_id  calls_count\n",
      "25        885890        58977\n",
      "24        885876        58437\n",
      "466       929428        23754\n",
      "446       925922        19603\n",
      "255       908640        14239\n",
      "465       929426        11189\n",
      "1         879898         7209\n",
      "687       945286         6880\n",
      "693       945302         6138\n",
      "359       919364         4820\n"
     ]
    },
    {
     "data": {
      "image/png": "[encoded data removed]",
      "text/plain": [
       "<Figure size 1200x600 with 1 Axes>"
      ]
     },
     "metadata": {},
     "output_type": "display_data"
    }
   ],
   "source": [
    "# Agrupar por operador y calcular el total de llamadas salientes realizadas\n",
    "outgoing_calls_by_operator = outgoing_calls.groupby('operator_id')['calls_count'].sum().reset_index()\n",
    "\n",
    "# Ordenar por cantidad de llamadas salientes y seleccionar el top 10\n",
    "top_10_outgoing_operators = outgoing_calls_by_operator.sort_values(by='calls_count', ascending=False).head(10)\n",
    "\n",
    "print(\"Top 10 operadores que realizan más llamadas salientes:\")\n",
    "print(top_10_outgoing_operators)\n",
    "\n",
    "# Visualización del top 10\n",
    "plt.figure(figsize=(12, 6))\n",
    "sns.barplot(x='operator_id', y='calls_count', data=top_10_outgoing_operators, palette='Blues_d')\n",
    "plt.title('Top 10 Operadores con Más Llamadas Salientes')\n",
    "plt.xlabel('ID del Operador')\n",
    "plt.ylabel('Cantidad de Llamadas Salientes')\n",
    "plt.xticks(rotation=45)\n",
    "plt.show()"
   ]
  },
  {
   "cell_type": "markdown",
   "metadata": {},
   "source": [
    "De acuerdo a la grafica anterior, hay 882 operadores que realizan llamadas salientes, el operador que realiza mas llamadas es el 885890 y 885876. Es importante resaltar que el operador 885890 es el que tiene mayor cantidad de llamadas perdidas. por lo cual se infiere que este Operador esta enfocado solamente en realizar llamadas y no en contestarlas."
   ]
  },
  {
   "cell_type": "markdown",
   "metadata": {},
   "source": [
    "###  Determinar el Umbral para: Bajo Número de Llamadas Salientes"
   ]
  },
  {
   "cell_type": "markdown",
   "metadata": {},
   "source": [
    "Para identificar operadores Ineficientes con un bajo número de llamadas salientes realizadas, podemos establecer un criterio, como operadores cuya cantidad total de llamadas salientes esté por debajo de un umbral (el percentil 25 de las llamadas realizadas por todos los operadores) "
   ]
  },
  {
   "cell_type": "code",
   "execution_count": 38,
   "metadata": {},
   "outputs": [
    {
     "name": "stdout",
     "output_type": "stream",
     "text": [
      "Umbral para bajo número de llamadas salientes (percentil 25): 11.0\n"
     ]
    }
   ],
   "source": [
    "# Calcular el percentil 25 de las llamadas salientes realizadas por operadores\n",
    "\n",
    "low_call_threshold = outgoing_calls_by_operator['calls_count'].quantile(0.25)\n",
    "\n",
    "print(f\"Umbral para bajo número de llamadas salientes (percentil 25): {low_call_threshold}\")"
   ]
  },
  {
   "cell_type": "code",
   "execution_count": 39,
   "metadata": {},
   "outputs": [
    {
     "name": "stdout",
     "output_type": "stream",
     "text": [
      "Operadores con bajo número de llamadas salientes: operator_id    214\n",
      "calls_count    214\n",
      "dtype: int64\n"
     ]
    },
    {
     "data": {
      "text/html": [
       "<div>\n",
       "<style scoped>\n",
       "    .dataframe tbody tr th:only-of-type {\n",
       "        vertical-align: middle;\n",
       "    }\n",
       "\n",
       "    .dataframe tbody tr th {\n",
       "        vertical-align: top;\n",
       "    }\n",
       "\n",
       "    .dataframe thead th {\n",
       "        text-align: right;\n",
       "    }\n",
       "</style>\n",
       "<table border=\"1\" class=\"dataframe\">\n",
       "  <thead>\n",
       "    <tr style=\"text-align: right;\">\n",
       "      <th></th>\n",
       "      <th>operator_id</th>\n",
       "      <th>calls_count</th>\n",
       "    </tr>\n",
       "  </thead>\n",
       "  <tbody>\n",
       "    <tr>\n",
       "      <th>8</th>\n",
       "      <td>882478</td>\n",
       "      <td>1</td>\n",
       "    </tr>\n",
       "    <tr>\n",
       "      <th>13</th>\n",
       "      <td>883018</td>\n",
       "      <td>2</td>\n",
       "    </tr>\n",
       "    <tr>\n",
       "      <th>14</th>\n",
       "      <td>883898</td>\n",
       "      <td>1</td>\n",
       "    </tr>\n",
       "    <tr>\n",
       "      <th>17</th>\n",
       "      <td>884402</td>\n",
       "      <td>4</td>\n",
       "    </tr>\n",
       "    <tr>\n",
       "      <th>18</th>\n",
       "      <td>884406</td>\n",
       "      <td>3</td>\n",
       "    </tr>\n",
       "    <tr>\n",
       "      <th>...</th>\n",
       "      <td>...</td>\n",
       "      <td>...</td>\n",
       "    </tr>\n",
       "    <tr>\n",
       "      <th>874</th>\n",
       "      <td>970258</td>\n",
       "      <td>1</td>\n",
       "    </tr>\n",
       "    <tr>\n",
       "      <th>875</th>\n",
       "      <td>970484</td>\n",
       "      <td>7</td>\n",
       "    </tr>\n",
       "    <tr>\n",
       "      <th>876</th>\n",
       "      <td>970486</td>\n",
       "      <td>6</td>\n",
       "    </tr>\n",
       "    <tr>\n",
       "      <th>877</th>\n",
       "      <td>972408</td>\n",
       "      <td>6</td>\n",
       "    </tr>\n",
       "    <tr>\n",
       "      <th>881</th>\n",
       "      <td>973120</td>\n",
       "      <td>3</td>\n",
       "    </tr>\n",
       "  </tbody>\n",
       "</table>\n",
       "<p>214 rows × 2 columns</p>\n",
       "</div>"
      ],
      "text/plain": [
       "     operator_id  calls_count\n",
       "8         882478            1\n",
       "13        883018            2\n",
       "14        883898            1\n",
       "17        884402            4\n",
       "18        884406            3\n",
       "..           ...          ...\n",
       "874       970258            1\n",
       "875       970484            7\n",
       "876       970486            6\n",
       "877       972408            6\n",
       "881       973120            3\n",
       "\n",
       "[214 rows x 2 columns]"
      ]
     },
     "execution_count": 39,
     "metadata": {},
     "output_type": "execute_result"
    }
   ],
   "source": [
    "# Filtrar operadores con llamadas salientes por debajo del umbral\n",
    "\n",
    "low_outgoing_operators = outgoing_calls_by_operator[outgoing_calls_by_operator['calls_count'] < low_call_threshold]\n",
    "\n",
    "print(f\"Operadores con bajo número de llamadas salientes: {low_outgoing_operators.count()}\") \n",
    "\n",
    "low_outgoing_operators"
   ]
  },
  {
   "cell_type": "markdown",
   "metadata": {},
   "source": [
    "Segun la tabla y el analisis del umbral con los menores número de llamadas salientes, se puede observar que de los 882 operadores que realizan llamadas salientes, 214 tienen bajos indices de llamadas salientes con el percentil 25. Es decir operadores ineficientes que realizan menos de 11 llamadas "
   ]
  },
  {
   "cell_type": "markdown",
   "metadata": {},
   "source": [
    "### Análisis mensual y semanal"
   ]
  },
  {
   "cell_type": "markdown",
   "metadata": {},
   "source": [
    "Primero, extraemos el mes y el día de la semana de la columna date del dataset: telecom"
   ]
  },
  {
   "cell_type": "code",
   "execution_count": 40,
   "metadata": {},
   "outputs": [
    {
     "data": {
      "text/html": [
       "<div>\n",
       "<style scoped>\n",
       "    .dataframe tbody tr th:only-of-type {\n",
       "        vertical-align: middle;\n",
       "    }\n",
       "\n",
       "    .dataframe tbody tr th {\n",
       "        vertical-align: top;\n",
       "    }\n",
       "\n",
       "    .dataframe thead th {\n",
       "        text-align: right;\n",
       "    }\n",
       "</style>\n",
       "<table border=\"1\" class=\"dataframe\">\n",
       "  <thead>\n",
       "    <tr style=\"text-align: right;\">\n",
       "      <th></th>\n",
       "      <th>user_id</th>\n",
       "      <th>date</th>\n",
       "      <th>direction</th>\n",
       "      <th>internal</th>\n",
       "      <th>operator_id</th>\n",
       "      <th>is_missed_call</th>\n",
       "      <th>calls_count</th>\n",
       "      <th>call_duration</th>\n",
       "      <th>total_call_duration</th>\n",
       "      <th>wait_time</th>\n",
       "      <th>month</th>\n",
       "      <th>weekday</th>\n",
       "    </tr>\n",
       "  </thead>\n",
       "  <tbody>\n",
       "    <tr>\n",
       "      <th>0</th>\n",
       "      <td>166377</td>\n",
       "      <td>2019-08-05 00:00:00+03:00</td>\n",
       "      <td>out</td>\n",
       "      <td>True</td>\n",
       "      <td>880022</td>\n",
       "      <td>True</td>\n",
       "      <td>3</td>\n",
       "      <td>0</td>\n",
       "      <td>5</td>\n",
       "      <td>5</td>\n",
       "      <td>8</td>\n",
       "      <td>Monday</td>\n",
       "    </tr>\n",
       "    <tr>\n",
       "      <th>1</th>\n",
       "      <td>166377</td>\n",
       "      <td>2019-08-05 00:00:00+03:00</td>\n",
       "      <td>out</td>\n",
       "      <td>True</td>\n",
       "      <td>880020</td>\n",
       "      <td>True</td>\n",
       "      <td>1</td>\n",
       "      <td>0</td>\n",
       "      <td>1</td>\n",
       "      <td>1</td>\n",
       "      <td>8</td>\n",
       "      <td>Monday</td>\n",
       "    </tr>\n",
       "    <tr>\n",
       "      <th>2</th>\n",
       "      <td>166377</td>\n",
       "      <td>2019-08-05 00:00:00+03:00</td>\n",
       "      <td>out</td>\n",
       "      <td>True</td>\n",
       "      <td>880020</td>\n",
       "      <td>False</td>\n",
       "      <td>1</td>\n",
       "      <td>10</td>\n",
       "      <td>18</td>\n",
       "      <td>8</td>\n",
       "      <td>8</td>\n",
       "      <td>Monday</td>\n",
       "    </tr>\n",
       "    <tr>\n",
       "      <th>3</th>\n",
       "      <td>166377</td>\n",
       "      <td>2019-08-05 00:00:00+03:00</td>\n",
       "      <td>out</td>\n",
       "      <td>False</td>\n",
       "      <td>880022</td>\n",
       "      <td>True</td>\n",
       "      <td>3</td>\n",
       "      <td>0</td>\n",
       "      <td>25</td>\n",
       "      <td>25</td>\n",
       "      <td>8</td>\n",
       "      <td>Monday</td>\n",
       "    </tr>\n",
       "    <tr>\n",
       "      <th>4</th>\n",
       "      <td>166377</td>\n",
       "      <td>2019-08-05 00:00:00+03:00</td>\n",
       "      <td>out</td>\n",
       "      <td>False</td>\n",
       "      <td>880020</td>\n",
       "      <td>False</td>\n",
       "      <td>2</td>\n",
       "      <td>3</td>\n",
       "      <td>29</td>\n",
       "      <td>26</td>\n",
       "      <td>8</td>\n",
       "      <td>Monday</td>\n",
       "    </tr>\n",
       "    <tr>\n",
       "      <th>...</th>\n",
       "      <td>...</td>\n",
       "      <td>...</td>\n",
       "      <td>...</td>\n",
       "      <td>...</td>\n",
       "      <td>...</td>\n",
       "      <td>...</td>\n",
       "      <td>...</td>\n",
       "      <td>...</td>\n",
       "      <td>...</td>\n",
       "      <td>...</td>\n",
       "      <td>...</td>\n",
       "      <td>...</td>\n",
       "    </tr>\n",
       "    <tr>\n",
       "      <th>41486</th>\n",
       "      <td>168606</td>\n",
       "      <td>2019-11-09 00:00:00+03:00</td>\n",
       "      <td>out</td>\n",
       "      <td>False</td>\n",
       "      <td>957922</td>\n",
       "      <td>False</td>\n",
       "      <td>4</td>\n",
       "      <td>551</td>\n",
       "      <td>593</td>\n",
       "      <td>42</td>\n",
       "      <td>11</td>\n",
       "      <td>Saturday</td>\n",
       "    </tr>\n",
       "    <tr>\n",
       "      <th>41487</th>\n",
       "      <td>168606</td>\n",
       "      <td>2019-11-10 00:00:00+03:00</td>\n",
       "      <td>out</td>\n",
       "      <td>True</td>\n",
       "      <td>957922</td>\n",
       "      <td>False</td>\n",
       "      <td>1</td>\n",
       "      <td>0</td>\n",
       "      <td>25</td>\n",
       "      <td>25</td>\n",
       "      <td>11</td>\n",
       "      <td>Sunday</td>\n",
       "    </tr>\n",
       "    <tr>\n",
       "      <th>41488</th>\n",
       "      <td>168606</td>\n",
       "      <td>2019-11-10 00:00:00+03:00</td>\n",
       "      <td>out</td>\n",
       "      <td>True</td>\n",
       "      <td>957922</td>\n",
       "      <td>True</td>\n",
       "      <td>1</td>\n",
       "      <td>0</td>\n",
       "      <td>38</td>\n",
       "      <td>38</td>\n",
       "      <td>11</td>\n",
       "      <td>Sunday</td>\n",
       "    </tr>\n",
       "    <tr>\n",
       "      <th>41489</th>\n",
       "      <td>168606</td>\n",
       "      <td>2019-11-11 00:00:00+03:00</td>\n",
       "      <td>out</td>\n",
       "      <td>True</td>\n",
       "      <td>957922</td>\n",
       "      <td>False</td>\n",
       "      <td>2</td>\n",
       "      <td>479</td>\n",
       "      <td>501</td>\n",
       "      <td>22</td>\n",
       "      <td>11</td>\n",
       "      <td>Monday</td>\n",
       "    </tr>\n",
       "    <tr>\n",
       "      <th>41490</th>\n",
       "      <td>168606</td>\n",
       "      <td>2019-11-15 00:00:00+03:00</td>\n",
       "      <td>out</td>\n",
       "      <td>True</td>\n",
       "      <td>957922</td>\n",
       "      <td>False</td>\n",
       "      <td>4</td>\n",
       "      <td>3130</td>\n",
       "      <td>3190</td>\n",
       "      <td>60</td>\n",
       "      <td>11</td>\n",
       "      <td>Friday</td>\n",
       "    </tr>\n",
       "  </tbody>\n",
       "</table>\n",
       "<p>41491 rows × 12 columns</p>\n",
       "</div>"
      ],
      "text/plain": [
       "       user_id                      date direction internal  operator_id  \\\n",
       "0       166377 2019-08-05 00:00:00+03:00       out     True       880022   \n",
       "1       166377 2019-08-05 00:00:00+03:00       out     True       880020   \n",
       "2       166377 2019-08-05 00:00:00+03:00       out     True       880020   \n",
       "3       166377 2019-08-05 00:00:00+03:00       out    False       880022   \n",
       "4       166377 2019-08-05 00:00:00+03:00       out    False       880020   \n",
       "...        ...                       ...       ...      ...          ...   \n",
       "41486   168606 2019-11-09 00:00:00+03:00       out    False       957922   \n",
       "41487   168606 2019-11-10 00:00:00+03:00       out     True       957922   \n",
       "41488   168606 2019-11-10 00:00:00+03:00       out     True       957922   \n",
       "41489   168606 2019-11-11 00:00:00+03:00       out     True       957922   \n",
       "41490   168606 2019-11-15 00:00:00+03:00       out     True       957922   \n",
       "\n",
       "       is_missed_call  calls_count  call_duration  total_call_duration  \\\n",
       "0                True            3              0                    5   \n",
       "1                True            1              0                    1   \n",
       "2               False            1             10                   18   \n",
       "3                True            3              0                   25   \n",
       "4               False            2              3                   29   \n",
       "...               ...          ...            ...                  ...   \n",
       "41486           False            4            551                  593   \n",
       "41487           False            1              0                   25   \n",
       "41488            True            1              0                   38   \n",
       "41489           False            2            479                  501   \n",
       "41490           False            4           3130                 3190   \n",
       "\n",
       "       wait_time  month   weekday  \n",
       "0              5      8    Monday  \n",
       "1              1      8    Monday  \n",
       "2              8      8    Monday  \n",
       "3             25      8    Monday  \n",
       "4             26      8    Monday  \n",
       "...          ...    ...       ...  \n",
       "41486         42     11  Saturday  \n",
       "41487         25     11    Sunday  \n",
       "41488         38     11    Sunday  \n",
       "41489         22     11    Monday  \n",
       "41490         60     11    Friday  \n",
       "\n",
       "[41491 rows x 12 columns]"
      ]
     },
     "execution_count": 40,
     "metadata": {},
     "output_type": "execute_result"
    }
   ],
   "source": [
    "# Asegurarse de que la columna 'date' sea de tipo datetime\n",
    "telecom['date'] = pd.to_datetime(telecom['date'])\n",
    "\n",
    "# Crear columnas de mes y día de la semana\n",
    "telecom['month'] = telecom['date'].dt.month\n",
    "telecom['weekday'] = telecom['date'].dt.day_name()\n",
    "telecom"
   ]
  },
  {
   "cell_type": "markdown",
   "metadata": {},
   "source": [
    "#### Mes y Día con Más Llamadas Perdidas"
   ]
  },
  {
   "cell_type": "markdown",
   "metadata": {},
   "source": [
    "Filtramos las llamadas perdidas (is_missed_call == True) y agrupamos por mes y día.\n",
    "\n"
   ]
  },
  {
   "cell_type": "code",
   "execution_count": 41,
   "metadata": {},
   "outputs": [],
   "source": [
    "# Filtrar llamadas perdidas\n",
    "missed_calls = telecom[telecom['is_missed_call'] == True]"
   ]
  },
  {
   "cell_type": "code",
   "execution_count": 42,
   "metadata": {},
   "outputs": [
    {
     "data": {
      "text/html": [
       "<div>\n",
       "<style scoped>\n",
       "    .dataframe tbody tr th:only-of-type {\n",
       "        vertical-align: middle;\n",
       "    }\n",
       "\n",
       "    .dataframe tbody tr th {\n",
       "        vertical-align: top;\n",
       "    }\n",
       "\n",
       "    .dataframe thead th {\n",
       "        text-align: right;\n",
       "    }\n",
       "</style>\n",
       "<table border=\"1\" class=\"dataframe\">\n",
       "  <thead>\n",
       "    <tr style=\"text-align: right;\">\n",
       "      <th></th>\n",
       "      <th>month</th>\n",
       "      <th>missed_calls</th>\n",
       "      <th>total_calls</th>\n",
       "    </tr>\n",
       "  </thead>\n",
       "  <tbody>\n",
       "    <tr>\n",
       "      <th>0</th>\n",
       "      <td>8</td>\n",
       "      <td>568</td>\n",
       "      <td>34657</td>\n",
       "    </tr>\n",
       "    <tr>\n",
       "      <th>1</th>\n",
       "      <td>9</td>\n",
       "      <td>2464</td>\n",
       "      <td>133792</td>\n",
       "    </tr>\n",
       "    <tr>\n",
       "      <th>2</th>\n",
       "      <td>10</td>\n",
       "      <td>4913</td>\n",
       "      <td>271072</td>\n",
       "    </tr>\n",
       "    <tr>\n",
       "      <th>3</th>\n",
       "      <td>11</td>\n",
       "      <td>6164</td>\n",
       "      <td>262564</td>\n",
       "    </tr>\n",
       "  </tbody>\n",
       "</table>\n",
       "</div>"
      ],
      "text/plain": [
       "   month  missed_calls  total_calls\n",
       "0      8           568        34657\n",
       "1      9          2464       133792\n",
       "2     10          4913       271072\n",
       "3     11          6164       262564"
      ]
     },
     "execution_count": 42,
     "metadata": {},
     "output_type": "execute_result"
    }
   ],
   "source": [
    "missed_calls_by_month = missed_calls.groupby('month')['is_missed_call'].sum().reset_index()\n",
    "\n",
    "# Agrupar por mes y calcular la cantidad total de llamadas\n",
    "total_calls_by_month = telecom.groupby('month')['calls_count'].sum().reset_index()\n",
    "\n",
    "# Combinar ambas tablas\n",
    "calls_summary = pd.merge(missed_calls_by_month, total_calls_by_month, on='month')\n",
    "\n",
    "# Renombrar columnas para mayor claridad\n",
    "calls_summary.rename(columns={'is_missed_call': 'missed_calls', 'calls_count': 'total_calls'}, inplace=True)\n",
    "\n",
    "calls_summary"
   ]
  },
  {
   "cell_type": "code",
   "execution_count": 43,
   "metadata": {},
   "outputs": [
    {
     "data": {
      "text/html": [
       "<div>\n",
       "<style scoped>\n",
       "    .dataframe tbody tr th:only-of-type {\n",
       "        vertical-align: middle;\n",
       "    }\n",
       "\n",
       "    .dataframe tbody tr th {\n",
       "        vertical-align: top;\n",
       "    }\n",
       "\n",
       "    .dataframe thead th {\n",
       "        text-align: right;\n",
       "    }\n",
       "</style>\n",
       "<table border=\"1\" class=\"dataframe\">\n",
       "  <thead>\n",
       "    <tr style=\"text-align: right;\">\n",
       "      <th></th>\n",
       "      <th>month</th>\n",
       "      <th>is_missed_call</th>\n",
       "    </tr>\n",
       "  </thead>\n",
       "  <tbody>\n",
       "    <tr>\n",
       "      <th>0</th>\n",
       "      <td>8</td>\n",
       "      <td>568</td>\n",
       "    </tr>\n",
       "    <tr>\n",
       "      <th>1</th>\n",
       "      <td>9</td>\n",
       "      <td>2464</td>\n",
       "    </tr>\n",
       "    <tr>\n",
       "      <th>2</th>\n",
       "      <td>10</td>\n",
       "      <td>4913</td>\n",
       "    </tr>\n",
       "    <tr>\n",
       "      <th>3</th>\n",
       "      <td>11</td>\n",
       "      <td>6164</td>\n",
       "    </tr>\n",
       "  </tbody>\n",
       "</table>\n",
       "</div>"
      ],
      "text/plain": [
       "   month  is_missed_call\n",
       "0      8             568\n",
       "1      9            2464\n",
       "2     10            4913\n",
       "3     11            6164"
      ]
     },
     "execution_count": 43,
     "metadata": {},
     "output_type": "execute_result"
    }
   ],
   "source": [
    "\n",
    "# Agrupar por mes y calcular la cantidad de llamadas perdidas\n",
    "missed_calls_by_month = missed_calls.groupby('month')['is_missed_call'].sum().reset_index()\n",
    "missed_calls_by_month"
   ]
  },
  {
   "cell_type": "code",
   "execution_count": 44,
   "metadata": {},
   "outputs": [
    {
     "data": {
      "text/html": [
       "<div>\n",
       "<style scoped>\n",
       "    .dataframe tbody tr th:only-of-type {\n",
       "        vertical-align: middle;\n",
       "    }\n",
       "\n",
       "    .dataframe tbody tr th {\n",
       "        vertical-align: top;\n",
       "    }\n",
       "\n",
       "    .dataframe thead th {\n",
       "        text-align: right;\n",
       "    }\n",
       "</style>\n",
       "<table border=\"1\" class=\"dataframe\">\n",
       "  <thead>\n",
       "    <tr style=\"text-align: right;\">\n",
       "      <th></th>\n",
       "      <th>weekday</th>\n",
       "      <th>is_missed_call</th>\n",
       "    </tr>\n",
       "  </thead>\n",
       "  <tbody>\n",
       "    <tr>\n",
       "      <th>0</th>\n",
       "      <td>Friday</td>\n",
       "      <td>2430</td>\n",
       "    </tr>\n",
       "    <tr>\n",
       "      <th>1</th>\n",
       "      <td>Monday</td>\n",
       "      <td>2392</td>\n",
       "    </tr>\n",
       "    <tr>\n",
       "      <th>2</th>\n",
       "      <td>Saturday</td>\n",
       "      <td>736</td>\n",
       "    </tr>\n",
       "    <tr>\n",
       "      <th>3</th>\n",
       "      <td>Sunday</td>\n",
       "      <td>526</td>\n",
       "    </tr>\n",
       "    <tr>\n",
       "      <th>4</th>\n",
       "      <td>Thursday</td>\n",
       "      <td>2742</td>\n",
       "    </tr>\n",
       "    <tr>\n",
       "      <th>5</th>\n",
       "      <td>Tuesday</td>\n",
       "      <td>2630</td>\n",
       "    </tr>\n",
       "    <tr>\n",
       "      <th>6</th>\n",
       "      <td>Wednesday</td>\n",
       "      <td>2653</td>\n",
       "    </tr>\n",
       "  </tbody>\n",
       "</table>\n",
       "</div>"
      ],
      "text/plain": [
       "     weekday  is_missed_call\n",
       "0     Friday            2430\n",
       "1     Monday            2392\n",
       "2   Saturday             736\n",
       "3     Sunday             526\n",
       "4   Thursday            2742\n",
       "5    Tuesday            2630\n",
       "6  Wednesday            2653"
      ]
     },
     "execution_count": 44,
     "metadata": {},
     "output_type": "execute_result"
    }
   ],
   "source": [
    "# Agrupar por dia de la semana y calcular la cantidad de llamadas perdidas\n",
    "missed_calls_by_weekday = missed_calls.groupby('weekday')['is_missed_call'].sum().reset_index()\n",
    "missed_calls_by_weekday"
   ]
  },
  {
   "cell_type": "code",
   "execution_count": 45,
   "metadata": {},
   "outputs": [
    {
     "name": "stdout",
     "output_type": "stream",
     "text": [
      "Mes con más llamadas perdidas: 11 (6164 llamadas perdidas)\n",
      "Día de la semana con más llamadas perdidas: Thursday (2742 llamadas perdidas)\n"
     ]
    }
   ],
   "source": [
    "# Encontrar el mes y día con más llamadas perdidas\n",
    "most_missed_month = missed_calls_by_month.loc[missed_calls_by_month['is_missed_call'].idxmax()]\n",
    "most_missed_weekday = missed_calls_by_weekday.loc[missed_calls_by_weekday['is_missed_call'].idxmax()]\n",
    "\n",
    "print(f\"Mes con más llamadas perdidas: {most_missed_month['month']} ({most_missed_month['is_missed_call']} llamadas perdidas)\")\n",
    "print(f\"Día de la semana con más llamadas perdidas: {most_missed_weekday['weekday']} ({most_missed_weekday['is_missed_call']} llamadas perdidas)\")"
   ]
  },
  {
   "cell_type": "code",
   "execution_count": 46,
   "metadata": {},
   "outputs": [
    {
     "data": {
      "image/png": "[encoded data removed]",
      "text/plain": [
       "<Figure size 1400x500 with 2 Axes>"
      ]
     },
     "metadata": {},
     "output_type": "display_data"
    }
   ],
   "source": [
    "# Convertir 'month' a entero\n",
    "missed_calls_by_month['month'] = missed_calls_by_month['month'].astype(int)\n",
    "\n",
    "# Crear las gráficas\n",
    "fig, axes = plt.subplots(1, 2, figsize=(14, 5))\n",
    "\n",
    "# Gráfica 1: Llamadas perdidas por mes\n",
    "axes[0].bar(missed_calls_by_month['month'], missed_calls_by_month['is_missed_call'], color='skyblue')\n",
    "axes[0].set_title('Llamadas Perdidas por Mes')\n",
    "axes[0].set_xlabel('Mes')\n",
    "axes[0].set_ylabel('Cantidad de Llamadas Perdidas')\n",
    "axes[0].set_xticks(missed_calls_by_month['month'])  # Asegura que las etiquetas sean enteros\n",
    "\n",
    "# Gráfica 2: Llamadas perdidas por día de la semana\n",
    "axes[1].bar(missed_calls_by_weekday['weekday'], missed_calls_by_weekday['is_missed_call'], color='salmon')\n",
    "axes[1].set_title('Llamadas Perdidas por Día de la Semana')\n",
    "axes[1].set_xlabel('Día de la Semana')\n",
    "axes[1].set_ylabel('Cantidad de Llamadas Perdidas')\n",
    "\n",
    "# Ajustar el diseño\n",
    "plt.tight_layout()\n",
    "plt.show()"
   ]
  },
  {
   "cell_type": "markdown",
   "metadata": {},
   "source": [
    "En las tablas  y en la grafica se puede observar que si bien Noviembre es el mes con mayor numero de llamadas perdidas, se identifica que cada mes que va ir pasando las llamadas se increntan progresivamente. Esto es un factor critico que se debe tener en cuenta. Por otro lado el dia de la semana con mayor numero de llamadas perdidas es el Jueves y el fin de semana son los dias con menos llamadas perdidas, esto es debido a la naturaleza de la empresa."
   ]
  },
  {
   "cell_type": "markdown",
   "metadata": {},
   "source": [
    "#### Mes y Día con Más Tiempos de espera"
   ]
  },
  {
   "cell_type": "code",
   "execution_count": 47,
   "metadata": {},
   "outputs": [
    {
     "data": {
      "text/html": [
       "<div>\n",
       "<style scoped>\n",
       "    .dataframe tbody tr th:only-of-type {\n",
       "        vertical-align: middle;\n",
       "    }\n",
       "\n",
       "    .dataframe tbody tr th {\n",
       "        vertical-align: top;\n",
       "    }\n",
       "\n",
       "    .dataframe thead th {\n",
       "        text-align: right;\n",
       "    }\n",
       "</style>\n",
       "<table border=\"1\" class=\"dataframe\">\n",
       "  <thead>\n",
       "    <tr style=\"text-align: right;\">\n",
       "      <th></th>\n",
       "      <th>month</th>\n",
       "      <th>wait_time</th>\n",
       "    </tr>\n",
       "  </thead>\n",
       "  <tbody>\n",
       "    <tr>\n",
       "      <th>0</th>\n",
       "      <td>8</td>\n",
       "      <td>53</td>\n",
       "    </tr>\n",
       "    <tr>\n",
       "      <th>1</th>\n",
       "      <td>9</td>\n",
       "      <td>72</td>\n",
       "    </tr>\n",
       "    <tr>\n",
       "      <th>2</th>\n",
       "      <td>10</td>\n",
       "      <td>106</td>\n",
       "    </tr>\n",
       "    <tr>\n",
       "      <th>3</th>\n",
       "      <td>11</td>\n",
       "      <td>101</td>\n",
       "    </tr>\n",
       "  </tbody>\n",
       "</table>\n",
       "</div>"
      ],
      "text/plain": [
       "   month  wait_time\n",
       "0      8         53\n",
       "1      9         72\n",
       "2     10        106\n",
       "3     11        101"
      ]
     },
     "execution_count": 47,
     "metadata": {},
     "output_type": "execute_result"
    }
   ],
   "source": [
    "# Filtrar llamadas entrantes\n",
    "incoming_calls = telecom[telecom['direction'] == \"in\"]\n",
    "\n",
    "# Agrupar por mes y día, y calcular el tiempo promedio de espera\n",
    "wait_time_by_month = incoming_calls.groupby('month')['wait_time'].mean().reset_index().astype(int)\n",
    "wait_time_by_month"
   ]
  },
  {
   "cell_type": "code",
   "execution_count": 48,
   "metadata": {},
   "outputs": [
    {
     "data": {
      "text/html": [
       "<div>\n",
       "<style scoped>\n",
       "    .dataframe tbody tr th:only-of-type {\n",
       "        vertical-align: middle;\n",
       "    }\n",
       "\n",
       "    .dataframe tbody tr th {\n",
       "        vertical-align: top;\n",
       "    }\n",
       "\n",
       "    .dataframe thead th {\n",
       "        text-align: right;\n",
       "    }\n",
       "</style>\n",
       "<table border=\"1\" class=\"dataframe\">\n",
       "  <thead>\n",
       "    <tr style=\"text-align: right;\">\n",
       "      <th></th>\n",
       "      <th>weekday</th>\n",
       "      <th>wait_time</th>\n",
       "    </tr>\n",
       "  </thead>\n",
       "  <tbody>\n",
       "    <tr>\n",
       "      <th>0</th>\n",
       "      <td>Friday</td>\n",
       "      <td>88.700428</td>\n",
       "    </tr>\n",
       "    <tr>\n",
       "      <th>1</th>\n",
       "      <td>Monday</td>\n",
       "      <td>103.270115</td>\n",
       "    </tr>\n",
       "    <tr>\n",
       "      <th>2</th>\n",
       "      <td>Saturday</td>\n",
       "      <td>108.166871</td>\n",
       "    </tr>\n",
       "    <tr>\n",
       "      <th>3</th>\n",
       "      <td>Sunday</td>\n",
       "      <td>101.254072</td>\n",
       "    </tr>\n",
       "    <tr>\n",
       "      <th>4</th>\n",
       "      <td>Thursday</td>\n",
       "      <td>95.329703</td>\n",
       "    </tr>\n",
       "    <tr>\n",
       "      <th>5</th>\n",
       "      <td>Tuesday</td>\n",
       "      <td>98.341453</td>\n",
       "    </tr>\n",
       "    <tr>\n",
       "      <th>6</th>\n",
       "      <td>Wednesday</td>\n",
       "      <td>95.296868</td>\n",
       "    </tr>\n",
       "  </tbody>\n",
       "</table>\n",
       "</div>"
      ],
      "text/plain": [
       "     weekday   wait_time\n",
       "0     Friday   88.700428\n",
       "1     Monday  103.270115\n",
       "2   Saturday  108.166871\n",
       "3     Sunday  101.254072\n",
       "4   Thursday   95.329703\n",
       "5    Tuesday   98.341453\n",
       "6  Wednesday   95.296868"
      ]
     },
     "execution_count": 48,
     "metadata": {},
     "output_type": "execute_result"
    }
   ],
   "source": [
    "wait_time_by_weekday = incoming_calls.groupby('weekday')['wait_time'].mean().reset_index()\n",
    "wait_time_by_weekday "
   ]
  },
  {
   "cell_type": "code",
   "execution_count": 49,
   "metadata": {},
   "outputs": [
    {
     "name": "stdout",
     "output_type": "stream",
     "text": [
      "Mes con mayor tiempo de espera: 10 (106.00 segundos)\n",
      "Día de la semana con mayor tiempo de espera: Saturday (108.17 segundos)\n"
     ]
    }
   ],
   "source": [
    "# Encontrar el mes y día con mayores tiempos de espera\n",
    "longest_wait_month = wait_time_by_month.loc[wait_time_by_month['wait_time'].idxmax()]\n",
    "longest_wait_weekday = wait_time_by_weekday.loc[wait_time_by_weekday['wait_time'].idxmax()]\n",
    "\n",
    "print(f\"Mes con mayor tiempo de espera: {longest_wait_month['month']} ({longest_wait_month['wait_time']:.2f} segundos)\")\n",
    "print(f\"Día de la semana con mayor tiempo de espera: {longest_wait_weekday['weekday']} ({longest_wait_weekday['wait_time']:.2f} segundos)\")"
   ]
  },
  {
   "cell_type": "code",
   "execution_count": 50,
   "metadata": {},
   "outputs": [
    {
     "data": {
      "image/png": "[encoded data removed]",
      "text/plain": [
       "<Figure size 1400x500 with 2 Axes>"
      ]
     },
     "metadata": {},
     "output_type": "display_data"
    }
   ],
   "source": [
    "# Crear las gráficas\n",
    "fig, axes = plt.subplots(1, 2, figsize=(14, 5))\n",
    "\n",
    "# Gráfica 1: Promedio de espera por mes\n",
    "axes[0].bar(wait_time_by_month['month'], wait_time_by_month['wait_time'], color='teal')  # Color cambiado a 'teal'\n",
    "axes[0].set_title('Tiempo Promedio de Espera por Mes')\n",
    "axes[0].set_xlabel('Mes')\n",
    "axes[0].set_ylabel('Tiempo de Espera (minutos)')\n",
    "axes[0].set_xticks(wait_time_by_month['month'])\n",
    "\n",
    "# Gráfica 2: Promedio de espera por día de la semana\n",
    "axes[1].bar(wait_time_by_weekday['weekday'], wait_time_by_weekday['wait_time'], color='orange')  # Color cambiado a 'orange'\n",
    "axes[1].set_title('Tiempo Promedio de Espera por Día de la Semana')\n",
    "axes[1].set_xlabel('Día de la Semana')\n",
    "axes[1].set_ylabel('Tiempo de Espera (minutos)')\n",
    "\n",
    "# Ajustar diseño\n",
    "plt.tight_layout()\n",
    "plt.show()"
   ]
  },
  {
   "cell_type": "markdown",
   "metadata": {},
   "source": [
    "Se puede identificar que el mes con mayores tiempos de espera es Octubre debido a la gran cantidad de llamadas que se recibio este mes. Esto es importante detectarlo ya que para el proximo año se puede destinar mayor recurso de operadores para poder cubrir la demanda de llamadas."
   ]
  },
  {
   "cell_type": "markdown",
   "metadata": {},
   "source": [
    "#### Mes y Día con Mayor Número de Llamadas Salientes"
   ]
  },
  {
   "cell_type": "code",
   "execution_count": 51,
   "metadata": {},
   "outputs": [
    {
     "data": {
      "text/html": [
       "<div>\n",
       "<style scoped>\n",
       "    .dataframe tbody tr th:only-of-type {\n",
       "        vertical-align: middle;\n",
       "    }\n",
       "\n",
       "    .dataframe tbody tr th {\n",
       "        vertical-align: top;\n",
       "    }\n",
       "\n",
       "    .dataframe thead th {\n",
       "        text-align: right;\n",
       "    }\n",
       "</style>\n",
       "<table border=\"1\" class=\"dataframe\">\n",
       "  <thead>\n",
       "    <tr style=\"text-align: right;\">\n",
       "      <th></th>\n",
       "      <th>month</th>\n",
       "      <th>calls_count</th>\n",
       "    </tr>\n",
       "  </thead>\n",
       "  <tbody>\n",
       "    <tr>\n",
       "      <th>0</th>\n",
       "      <td>8</td>\n",
       "      <td>32976</td>\n",
       "    </tr>\n",
       "    <tr>\n",
       "      <th>1</th>\n",
       "      <td>9</td>\n",
       "      <td>122912</td>\n",
       "    </tr>\n",
       "    <tr>\n",
       "      <th>2</th>\n",
       "      <td>10</td>\n",
       "      <td>237814</td>\n",
       "    </tr>\n",
       "    <tr>\n",
       "      <th>3</th>\n",
       "      <td>11</td>\n",
       "      <td>214641</td>\n",
       "    </tr>\n",
       "  </tbody>\n",
       "</table>\n",
       "</div>"
      ],
      "text/plain": [
       "   month  calls_count\n",
       "0      8        32976\n",
       "1      9       122912\n",
       "2     10       237814\n",
       "3     11       214641"
      ]
     },
     "execution_count": 51,
     "metadata": {},
     "output_type": "execute_result"
    }
   ],
   "source": [
    "# Filtrar llamadas salientes\n",
    "outgoing_calls = telecom[telecom['direction'] == \"out\"]\n",
    "\n",
    "# Agrupar por mes y día, y calcular el número total de llamadas\n",
    "outgoing_calls_by_month = outgoing_calls.groupby('month')['calls_count'].sum().reset_index()\n",
    "outgoing_calls_by_month"
   ]
  },
  {
   "cell_type": "code",
   "execution_count": 52,
   "metadata": {},
   "outputs": [
    {
     "data": {
      "text/html": [
       "<div>\n",
       "<style scoped>\n",
       "    .dataframe tbody tr th:only-of-type {\n",
       "        vertical-align: middle;\n",
       "    }\n",
       "\n",
       "    .dataframe tbody tr th {\n",
       "        vertical-align: top;\n",
       "    }\n",
       "\n",
       "    .dataframe thead th {\n",
       "        text-align: right;\n",
       "    }\n",
       "</style>\n",
       "<table border=\"1\" class=\"dataframe\">\n",
       "  <thead>\n",
       "    <tr style=\"text-align: right;\">\n",
       "      <th></th>\n",
       "      <th>weekday</th>\n",
       "      <th>calls_count</th>\n",
       "    </tr>\n",
       "  </thead>\n",
       "  <tbody>\n",
       "    <tr>\n",
       "      <th>0</th>\n",
       "      <td>Friday</td>\n",
       "      <td>101692</td>\n",
       "    </tr>\n",
       "    <tr>\n",
       "      <th>1</th>\n",
       "      <td>Monday</td>\n",
       "      <td>105205</td>\n",
       "    </tr>\n",
       "    <tr>\n",
       "      <th>2</th>\n",
       "      <td>Saturday</td>\n",
       "      <td>37530</td>\n",
       "    </tr>\n",
       "    <tr>\n",
       "      <th>3</th>\n",
       "      <td>Sunday</td>\n",
       "      <td>27365</td>\n",
       "    </tr>\n",
       "    <tr>\n",
       "      <th>4</th>\n",
       "      <td>Thursday</td>\n",
       "      <td>113388</td>\n",
       "    </tr>\n",
       "    <tr>\n",
       "      <th>5</th>\n",
       "      <td>Tuesday</td>\n",
       "      <td>113680</td>\n",
       "    </tr>\n",
       "    <tr>\n",
       "      <th>6</th>\n",
       "      <td>Wednesday</td>\n",
       "      <td>109483</td>\n",
       "    </tr>\n",
       "  </tbody>\n",
       "</table>\n",
       "</div>"
      ],
      "text/plain": [
       "     weekday  calls_count\n",
       "0     Friday       101692\n",
       "1     Monday       105205\n",
       "2   Saturday        37530\n",
       "3     Sunday        27365\n",
       "4   Thursday       113388\n",
       "5    Tuesday       113680\n",
       "6  Wednesday       109483"
      ]
     },
     "execution_count": 52,
     "metadata": {},
     "output_type": "execute_result"
    }
   ],
   "source": [
    "outgoing_calls_by_weekday = outgoing_calls.groupby('weekday')['calls_count'].sum().reset_index()\n",
    "outgoing_calls_by_weekday"
   ]
  },
  {
   "cell_type": "code",
   "execution_count": 53,
   "metadata": {},
   "outputs": [
    {
     "name": "stdout",
     "output_type": "stream",
     "text": [
      "Mes con mayor número de llamadas salientes: 10 (237814 llamadas)\n",
      "Día de la semana con mayor número de llamadas salientes: Tuesday (113680 llamadas)\n"
     ]
    }
   ],
   "source": [
    "# Encontrar el mes y día con mayor número de llamadas salientes\n",
    "most_outgoing_month = outgoing_calls_by_month.loc[outgoing_calls_by_month['calls_count'].idxmax()]\n",
    "most_outgoing_weekday = outgoing_calls_by_weekday.loc[outgoing_calls_by_weekday['calls_count'].idxmax()]\n",
    "\n",
    "print(f\"Mes con mayor número de llamadas salientes: {most_outgoing_month['month']} ({most_outgoing_month['calls_count']} llamadas)\")\n",
    "print(f\"Día de la semana con mayor número de llamadas salientes: {most_outgoing_weekday['weekday']} ({most_outgoing_weekday['calls_count']} llamadas)\")"
   ]
  },
  {
   "cell_type": "code",
   "execution_count": 54,
   "metadata": {},
   "outputs": [
    {
     "data": {
      "image/png": "[encoded data removed]",
      "text/plain": [
       "<Figure size 1400x500 with 2 Axes>"
      ]
     },
     "metadata": {},
     "output_type": "display_data"
    }
   ],
   "source": [
    "# Crear las gráficas\n",
    "fig, axes = plt.subplots(1, 2, figsize=(14, 5))\n",
    "\n",
    "# Gráfica 1: Número total de llamadas por mes\n",
    "axes[0].bar(outgoing_calls_by_month['month'], outgoing_calls_by_month['calls_count'], color='blue')  # Color cambiado a 'purple'\n",
    "axes[0].set_title('Número Total de Llamadas Salientes por Mes')\n",
    "axes[0].set_xlabel('Mes')\n",
    "axes[0].set_ylabel('Cantidad de Llamadas')\n",
    "axes[0].set_xticks(outgoing_calls_by_month['month'])\n",
    "\n",
    "# Gráfica 2: Número total de llamadas por día de la semana\n",
    "axes[1].bar(outgoing_calls_by_weekday['weekday'], outgoing_calls_by_weekday['calls_count'], color='green')  # Color cambiado a 'green'\n",
    "axes[1].set_title('Número Total de Llamadas Salientes por Día de la Semana')\n",
    "axes[1].set_xlabel('Día de la Semana')\n",
    "axes[1].set_ylabel('Cantidad de Llamadas')\n",
    "\n",
    "# Ajustar diseño\n",
    "plt.tight_layout()\n",
    "plt.show()"
   ]
  },
  {
   "cell_type": "markdown",
   "metadata": {},
   "source": [
    "Con las graficas del analisis de los meses y los dias de la semana se puede observar que:\n",
    "\n",
    "    * Llamadas perdidas: El mes con mayor numero es Noviembre  y el dia son los Jueves, por lo que se infiere que son es el tiempo en donde los operadores son mas ineficientes, probablemente por la cantidad de trabajo que tienen.\n",
    "    \n",
    "    * Mayores Tiempos de espera: Octubre es el mes con mayor tiempo de espera y los sabados y los lunes son los meses en donde los clientes deben esperar mas tiempo. Esto es importante saberlo a la hora de organizar los turnos de los operadores.\n",
    "    \n",
    "    * Llamadas salientes: Los dias mas productivos en llamadas salientes son los Martes, miercoles y jueves y el mes es Octubre, lo cual tiene sentido ya que es el mes en donde hay mayores timepo de espera."
   ]
  },
  {
   "cell_type": "markdown",
   "metadata": {},
   "source": [
    "### Analisis de los clientes"
   ]
  },
  {
   "cell_type": "markdown",
   "metadata": {},
   "source": [
    "####  Distribución de planes tarifarios"
   ]
  },
  {
   "cell_type": "code",
   "execution_count": 55,
   "metadata": {},
   "outputs": [
    {
     "data": {
      "text/plain": [
       "C    395\n",
       "B    261\n",
       "A     76\n",
       "Name: tariff_plan, dtype: int64"
      ]
     },
     "execution_count": 55,
     "metadata": {},
     "output_type": "execute_result"
    }
   ],
   "source": [
    "# Distribución de planes tarifarios\n",
    "\n",
    "plan_counts = clients['tariff_plan'].value_counts()\n",
    "plan_counts"
   ]
  },
  {
   "cell_type": "code",
   "execution_count": 56,
   "metadata": {},
   "outputs": [
    {
     "data": {
      "image/png": "[encoded data removed]",
      "text/plain": [
       "<Figure size 800x500 with 1 Axes>"
      ]
     },
     "metadata": {},
     "output_type": "display_data"
    }
   ],
   "source": [
    "# Grafica de la distribución de los planes tarifarios\n",
    "\n",
    "plt.figure(figsize=(8, 5))\n",
    "plan_counts.plot(kind='bar', color='teal')\n",
    "plt.title('Distribución de Planes Tarifarios')\n",
    "plt.xlabel('Plan Tarifario')\n",
    "plt.ylabel('Cantidad de Usuarios')\n",
    "plt.xticks(rotation=35)\n",
    "plt.grid(axis='y')\n",
    "plt.show()"
   ]
  },
  {
   "cell_type": "markdown",
   "metadata": {},
   "source": [
    "En la tabla y grafica anterior podemos observar que el plan de la tarifa que compran mas los clientes es el C, seguido del B y A. "
   ]
  },
  {
   "cell_type": "code",
   "execution_count": 57,
   "metadata": {},
   "outputs": [
    {
     "data": {
      "text/plain": [
       "8     258\n",
       "9     231\n",
       "10    243\n",
       "Name: month_start, dtype: int64"
      ]
     },
     "execution_count": 57,
     "metadata": {},
     "output_type": "execute_result"
    }
   ],
   "source": [
    "# Usuarios por mes de inicio del plan\n",
    "clients['month_start'] = clients['date_start'].dt.month\n",
    "users_by_month = clients['month_start'].value_counts().sort_index()\n",
    "users_by_month"
   ]
  },
  {
   "cell_type": "code",
   "execution_count": 58,
   "metadata": {},
   "outputs": [
    {
     "data": {
      "image/png": "[encoded data removed]",
      "text/plain": [
       "<Figure size 800x500 with 1 Axes>"
      ]
     },
     "metadata": {},
     "output_type": "display_data"
    }
   ],
   "source": [
    "plt.figure(figsize=(8, 5))\n",
    "users_by_month.plot(kind='bar', color='orange')\n",
    "plt.title('Cantidad de Usuarios por Mes')\n",
    "plt.xlabel('Mes')\n",
    "plt.ylabel('Cantidad de Usuarios')\n",
    "plt.grid(axis='y')\n",
    "plt.show()"
   ]
  },
  {
   "cell_type": "markdown",
   "metadata": {},
   "source": [
    "Los usuarios consumieron mas durante el mes de Agosto. En este mes se atendiendoran mas clientes y no hubieron muchas perdidas de llamadas lo que pudo producir que los operadores ofrecieran un buen servicio"
   ]
  },
  {
   "cell_type": "markdown",
   "metadata": {},
   "source": [
    "# Metricas en los clientes"
   ]
  },
  {
   "cell_type": "code",
   "execution_count": 59,
   "metadata": {},
   "outputs": [
    {
     "name": "stdout",
     "output_type": "stream",
     "text": [
      "Fecha más reciente: 2019-10-31 00:00:00\n",
      "Fecha más antigua: 2019-08-01 00:00:00\n"
     ]
    }
   ],
   "source": [
    "# Fecha más reciente y más antigua\n",
    "\n",
    "latest_date = clients['date_start'].max()\n",
    "earliest_date = clients['date_start'].min()\n",
    "\n",
    "print(f\"Fecha más reciente: {latest_date}\")\n",
    "print(f\"Fecha más antigua: {earliest_date}\")"
   ]
  },
  {
   "cell_type": "code",
   "execution_count": 60,
   "metadata": {},
   "outputs": [
    {
     "name": "stdout",
     "output_type": "stream",
     "text": [
      "C    395\n",
      "B    261\n",
      "A     76\n",
      "Name: tariff_plan, dtype: int64\n"
     ]
    }
   ],
   "source": [
    "# Número total de usuarios por plan tarifario\n",
    "\n",
    "total_users_by_plan = clients['tariff_plan'].value_counts()\n",
    "print(total_users_by_plan)"
   ]
  },
  {
   "cell_type": "code",
   "execution_count": 61,
   "metadata": {},
   "outputs": [
    {
     "name": "stdout",
     "output_type": "stream",
     "text": [
      "C    53.961749\n",
      "B    35.655738\n",
      "A    10.382514\n",
      "Name: tariff_plan, dtype: float64\n"
     ]
    }
   ],
   "source": [
    "# Porcentaje de usuarios por plan tarifario\n",
    "\n",
    "percentage_users_by_plan = clients['tariff_plan'].value_counts(normalize=True) * 100\n",
    "print(percentage_users_by_plan)"
   ]
  },
  {
   "cell_type": "code",
   "execution_count": 62,
   "metadata": {},
   "outputs": [
    {
     "data": {
      "image/png": "[encoded data removed]",
      "text/plain": [
       "<Figure size 800x600 with 1 Axes>"
      ]
     },
     "metadata": {},
     "output_type": "display_data"
    }
   ],
   "source": [
    "plt.figure(figsize=(8, 6))\n",
    "percentage_users_by_plan.plot(kind='pie', autopct='%1.1f%%', startangle=90, colors=plt.cm.Paired.colors)\n",
    "plt.title('Porcentaje de usuarios por plan tarifario')\n",
    "plt.ylabel('')  # Eliminar etiqueta del eje Y\n",
    "plt.show()"
   ]
  },
  {
   "cell_type": "code",
   "execution_count": 63,
   "metadata": {},
   "outputs": [
    {
     "name": "stdout",
     "output_type": "stream",
     "text": [
      "Duración promedio del plan (días): 1933.31\n"
     ]
    }
   ],
   "source": [
    "# Duración promedio desde el inicio del plan\n",
    "\n",
    "clients['days_since_start'] = (pd.to_datetime('today') - clients['date_start']).dt.days\n",
    "\n",
    "average_days = clients['days_since_start'].mean()\n",
    "print(f'Duración promedio del plan (días): {average_days:.2f}')"
   ]
  },
  {
   "cell_type": "code",
   "execution_count": 64,
   "metadata": {},
   "outputs": [
    {
     "data": {
      "text/html": [
       "<div>\n",
       "<style scoped>\n",
       "    .dataframe tbody tr th:only-of-type {\n",
       "        vertical-align: middle;\n",
       "    }\n",
       "\n",
       "    .dataframe tbody tr th {\n",
       "        vertical-align: top;\n",
       "    }\n",
       "\n",
       "    .dataframe thead th {\n",
       "        text-align: right;\n",
       "    }\n",
       "</style>\n",
       "<table border=\"1\" class=\"dataframe\">\n",
       "  <thead>\n",
       "    <tr style=\"text-align: right;\">\n",
       "      <th></th>\n",
       "      <th>user_id</th>\n",
       "      <th>tariff_plan</th>\n",
       "      <th>date_start</th>\n",
       "      <th>month_start</th>\n",
       "      <th>days_since_start</th>\n",
       "    </tr>\n",
       "  </thead>\n",
       "  <tbody>\n",
       "    <tr>\n",
       "      <th>0</th>\n",
       "      <td>166713</td>\n",
       "      <td>A</td>\n",
       "      <td>2019-08-15</td>\n",
       "      <td>8</td>\n",
       "      <td>1964</td>\n",
       "    </tr>\n",
       "    <tr>\n",
       "      <th>1</th>\n",
       "      <td>166901</td>\n",
       "      <td>A</td>\n",
       "      <td>2019-08-23</td>\n",
       "      <td>8</td>\n",
       "      <td>1956</td>\n",
       "    </tr>\n",
       "    <tr>\n",
       "      <th>2</th>\n",
       "      <td>168527</td>\n",
       "      <td>A</td>\n",
       "      <td>2019-10-29</td>\n",
       "      <td>10</td>\n",
       "      <td>1889</td>\n",
       "    </tr>\n",
       "    <tr>\n",
       "      <th>3</th>\n",
       "      <td>167097</td>\n",
       "      <td>A</td>\n",
       "      <td>2019-09-01</td>\n",
       "      <td>9</td>\n",
       "      <td>1947</td>\n",
       "    </tr>\n",
       "    <tr>\n",
       "      <th>4</th>\n",
       "      <td>168193</td>\n",
       "      <td>A</td>\n",
       "      <td>2019-10-16</td>\n",
       "      <td>10</td>\n",
       "      <td>1902</td>\n",
       "    </tr>\n",
       "    <tr>\n",
       "      <th>...</th>\n",
       "      <td>...</td>\n",
       "      <td>...</td>\n",
       "      <td>...</td>\n",
       "      <td>...</td>\n",
       "      <td>...</td>\n",
       "    </tr>\n",
       "    <tr>\n",
       "      <th>727</th>\n",
       "      <td>166554</td>\n",
       "      <td>B</td>\n",
       "      <td>2019-08-08</td>\n",
       "      <td>8</td>\n",
       "      <td>1971</td>\n",
       "    </tr>\n",
       "    <tr>\n",
       "      <th>728</th>\n",
       "      <td>166911</td>\n",
       "      <td>B</td>\n",
       "      <td>2019-08-23</td>\n",
       "      <td>8</td>\n",
       "      <td>1956</td>\n",
       "    </tr>\n",
       "    <tr>\n",
       "      <th>729</th>\n",
       "      <td>167012</td>\n",
       "      <td>B</td>\n",
       "      <td>2019-08-28</td>\n",
       "      <td>8</td>\n",
       "      <td>1951</td>\n",
       "    </tr>\n",
       "    <tr>\n",
       "      <th>730</th>\n",
       "      <td>166867</td>\n",
       "      <td>B</td>\n",
       "      <td>2019-08-22</td>\n",
       "      <td>8</td>\n",
       "      <td>1957</td>\n",
       "    </tr>\n",
       "    <tr>\n",
       "      <th>731</th>\n",
       "      <td>166565</td>\n",
       "      <td>B</td>\n",
       "      <td>2019-08-08</td>\n",
       "      <td>8</td>\n",
       "      <td>1971</td>\n",
       "    </tr>\n",
       "  </tbody>\n",
       "</table>\n",
       "<p>732 rows × 5 columns</p>\n",
       "</div>"
      ],
      "text/plain": [
       "     user_id tariff_plan date_start  month_start  days_since_start\n",
       "0     166713           A 2019-08-15            8              1964\n",
       "1     166901           A 2019-08-23            8              1956\n",
       "2     168527           A 2019-10-29           10              1889\n",
       "3     167097           A 2019-09-01            9              1947\n",
       "4     168193           A 2019-10-16           10              1902\n",
       "..       ...         ...        ...          ...               ...\n",
       "727   166554           B 2019-08-08            8              1971\n",
       "728   166911           B 2019-08-23            8              1956\n",
       "729   167012           B 2019-08-28            8              1951\n",
       "730   166867           B 2019-08-22            8              1957\n",
       "731   166565           B 2019-08-08            8              1971\n",
       "\n",
       "[732 rows x 5 columns]"
      ]
     },
     "execution_count": 64,
     "metadata": {},
     "output_type": "execute_result"
    }
   ],
   "source": [
    "clients"
   ]
  },
  {
   "cell_type": "markdown",
   "metadata": {},
   "source": [
    "En la métrica anterior analizamos la fecha de inicio del plan, respecto a al fecha actual y se puede observar que en promedio los usuarios han tenido sus planes activos durante aproximadamente 1930 días, lo cual equivale a unos 5 años y 3 meses. "
   ]
  },
  {
   "cell_type": "markdown",
   "metadata": {},
   "source": [
    "# Metricas de Telecon y Clientes"
   ]
  },
  {
   "cell_type": "markdown",
   "metadata": {},
   "source": [
    "**Tarifa del Plan vs. Llamadas Perdidas**\n",
    "\n",
    "Queremos analizar si existe una relación entre la tarifa del plan (tariff_plan) y la cantidad de llamadas perdidas."
   ]
  },
  {
   "cell_type": "code",
   "execution_count": 65,
   "metadata": {},
   "outputs": [
    {
     "data": {
      "text/html": [
       "<div>\n",
       "<style scoped>\n",
       "    .dataframe tbody tr th:only-of-type {\n",
       "        vertical-align: middle;\n",
       "    }\n",
       "\n",
       "    .dataframe tbody tr th {\n",
       "        vertical-align: top;\n",
       "    }\n",
       "\n",
       "    .dataframe thead th {\n",
       "        text-align: right;\n",
       "    }\n",
       "</style>\n",
       "<table border=\"1\" class=\"dataframe\">\n",
       "  <thead>\n",
       "    <tr style=\"text-align: right;\">\n",
       "      <th></th>\n",
       "      <th>tariff_plan</th>\n",
       "      <th>is_missed_call</th>\n",
       "    </tr>\n",
       "  </thead>\n",
       "  <tbody>\n",
       "    <tr>\n",
       "      <th>1</th>\n",
       "      <td>B</td>\n",
       "      <td>4971</td>\n",
       "    </tr>\n",
       "    <tr>\n",
       "      <th>2</th>\n",
       "      <td>C</td>\n",
       "      <td>4818</td>\n",
       "    </tr>\n",
       "    <tr>\n",
       "      <th>0</th>\n",
       "      <td>A</td>\n",
       "      <td>4320</td>\n",
       "    </tr>\n",
       "  </tbody>\n",
       "</table>\n",
       "</div>"
      ],
      "text/plain": [
       "  tariff_plan  is_missed_call\n",
       "1           B            4971\n",
       "2           C            4818\n",
       "0           A            4320"
      ]
     },
     "execution_count": 65,
     "metadata": {},
     "output_type": "execute_result"
    }
   ],
   "source": [
    "# Unir con el dataset de clientes para obtener la tarifa\n",
    "missed_calls_with_tariff = missed_calls.merge(clients[['user_id', 'tariff_plan']], on='user_id', how='left')\n",
    "\n",
    "# Agrupar por tarifa y contar llamadas perdidas\n",
    "missed_calls_by_tariff = missed_calls_with_tariff.groupby('tariff_plan')['is_missed_call'].sum().reset_index()\n",
    "\n",
    "# Ordenar resultados \n",
    "missed_calls_by_tariff = missed_calls_by_tariff.sort_values(by='is_missed_call', ascending=False)\n",
    "missed_calls_by_tariff"
   ]
  },
  {
   "cell_type": "code",
   "execution_count": 66,
   "metadata": {},
   "outputs": [
    {
     "data": {
      "image/png": "[encoded data removed]",
      "text/plain": [
       "<Figure size 1000x600 with 1 Axes>"
      ]
     },
     "metadata": {},
     "output_type": "display_data"
    }
   ],
   "source": [
    "# Graficar los resultados\n",
    "plt.figure(figsize=(10, 6))\n",
    "sns.barplot(data=missed_calls_by_tariff, x='tariff_plan', y='is_missed_call', palette='viridis')\n",
    "plt.title('Llamadas Perdidas por Tarifa del Plan')\n",
    "plt.xlabel('Tarifa del Plan')\n",
    "plt.ylabel('Cantidad de Llamadas Perdidas')\n",
    "plt.xticks(rotation=45)\n",
    "plt.show()"
   ]
  },
  {
   "cell_type": "markdown",
   "metadata": {},
   "source": [
    "La grafica anterior se puede observar que el plab B tiene el mayor número de llamadas perdidas, seguido del C y A. Teniendo en cuenta que los planes B y c son los que tienen la mayor cantidad de clientes"
   ]
  },
  {
   "cell_type": "markdown",
   "metadata": {},
   "source": [
    "**Relación entre Tarifa del Plan y Duración Total de Llamadas Salientes**\n",
    "\n",
    "Esta métrica analizará si las tarifas más altas tienen un impacto en la duración total de llamadas salientes realizadas por los clientes. Puede ayudar a entender si los clientes con tarifas más altas hacen más uso del servicio para realizar llamadas."
   ]
  },
  {
   "cell_type": "code",
   "execution_count": 67,
   "metadata": {},
   "outputs": [
    {
     "data": {
      "text/html": [
       "<div>\n",
       "<style scoped>\n",
       "    .dataframe tbody tr th:only-of-type {\n",
       "        vertical-align: middle;\n",
       "    }\n",
       "\n",
       "    .dataframe tbody tr th {\n",
       "        vertical-align: top;\n",
       "    }\n",
       "\n",
       "    .dataframe thead th {\n",
       "        text-align: right;\n",
       "    }\n",
       "</style>\n",
       "<table border=\"1\" class=\"dataframe\">\n",
       "  <thead>\n",
       "    <tr style=\"text-align: right;\">\n",
       "      <th></th>\n",
       "      <th>tariff_plan</th>\n",
       "      <th>total_outgoing_duration</th>\n",
       "    </tr>\n",
       "  </thead>\n",
       "  <tbody>\n",
       "    <tr>\n",
       "      <th>0</th>\n",
       "      <td>A</td>\n",
       "      <td>680958.000000</td>\n",
       "    </tr>\n",
       "    <tr>\n",
       "      <th>1</th>\n",
       "      <td>B</td>\n",
       "      <td>81019.804598</td>\n",
       "    </tr>\n",
       "    <tr>\n",
       "      <th>2</th>\n",
       "      <td>C</td>\n",
       "      <td>64752.500000</td>\n",
       "    </tr>\n",
       "  </tbody>\n",
       "</table>\n",
       "</div>"
      ],
      "text/plain": [
       "  tariff_plan  total_outgoing_duration\n",
       "0           A            680958.000000\n",
       "1           B             81019.804598\n",
       "2           C             64752.500000"
      ]
     },
     "execution_count": 67,
     "metadata": {},
     "output_type": "execute_result"
    }
   ],
   "source": [
    "# Calcular duración total de llamadas salientes por cliente\n",
    "outgoing_duration_by_user = outgoing_calls.groupby('user_id')['call_duration'].sum().reset_index()\n",
    "outgoing_duration_by_user.rename(columns={'call_duration': 'total_outgoing_duration'}, inplace=True)\n",
    "\n",
    "# Unir con los datos de clientes para obtener la tarifa\n",
    "outgoing_duration_with_tariff = outgoing_duration_by_user.merge(\n",
    "    clients[['user_id', 'tariff_plan']], \n",
    "    on='user_id', \n",
    "    how='left'\n",
    ")\n",
    "\n",
    "# Agrupar por tarifa y calcular la duración promedio\n",
    "outgoing_duration_by_tariff = outgoing_duration_with_tariff.groupby('tariff_plan')['total_outgoing_duration'].mean().reset_index()\n",
    "\n",
    "# Ordenar resultados para facilitar la visualización\n",
    "outgoing_duration_by_tariff = outgoing_duration_by_tariff.sort_values(by='total_outgoing_duration', ascending=False)\n",
    "outgoing_duration_by_tariff \n"
   ]
  },
  {
   "cell_type": "code",
   "execution_count": 68,
   "metadata": {},
   "outputs": [
    {
     "data": {
      "image/png": "[encoded data removed]",
      "text/plain": [
       "<Figure size 1000x600 with 1 Axes>"
      ]
     },
     "metadata": {},
     "output_type": "display_data"
    }
   ],
   "source": [
    "# Graficar los resultados\n",
    "plt.figure(figsize=(10, 6))\n",
    "sns.barplot(data=outgoing_duration_by_tariff, x='tariff_plan', y='total_outgoing_duration', palette='coolwarm')\n",
    "plt.title('Duración Promedio de Llamadas Salientes por Tarifa del Plan')\n",
    "plt.xlabel('Tarifa del Plan')\n",
    "plt.ylabel('Duración Promedio de Llamadas Salientes (segundos)')\n",
    "plt.xticks(rotation=45)\n",
    "plt.show()"
   ]
  },
  {
   "cell_type": "markdown",
   "metadata": {},
   "source": [
    "En la tabla y la grafica se puede observar que el Plan A tiene la duración promedio salientes más alta: Los clientes con esta tarifa realizan llamadas salientes significativamente más largas en promedio en comparación con los planes B y C. Ademas, el Plan A es el plan con menor clientes, pero es el que mas llama a la empresa, esto puede ser porque el plan A es el basico y no tiene buena covertura para los clientes"
   ]
  },
  {
   "cell_type": "markdown",
   "metadata": {},
   "source": [
    "**Relación entre la tasa de llamadas perdidas y el tiempo de espera promedio**"
   ]
  },
  {
   "cell_type": "code",
   "execution_count": 69,
   "metadata": {},
   "outputs": [
    {
     "data": {
      "image/png": "[encoded data removed]",
      "text/plain": [
       "<Figure size 640x480 with 1 Axes>"
      ]
     },
     "metadata": {},
     "output_type": "display_data"
    }
   ],
   "source": [
    "# Calcular la tasa de llamadas perdidas y el tiempo de espera promedio por operador\n",
    "inefficient_operators = telecom.groupby('operator_id').agg({'is_missed_call': 'mean', 'call_duration': 'mean'})\n",
    "\n",
    "# Graficar la relación entre la tasa de llamadas perdidas y el tiempo de espera promedio\n",
    "inefficient_operators.plot(kind='scatter', x='is_missed_call', y='call_duration', xlabel='Tasa de llamadas perdidas', ylabel='Tiempo de espera promedio (segundos)', title='Relación entre la tasa de llamadas perdidas y el tiempo de espera promedio por operador')\n",
    "plt.show()"
   ]
  },
  {
   "cell_type": "markdown",
   "metadata": {},
   "source": [
    "Este grafico significa que los operadores que son ineficientes son los que tienen altas tasas de llamadas perdidas y altos tiempos de espera. Lo que impacta negativamente la experiencia de los clientes"
   ]
  },
  {
   "cell_type": "markdown",
   "metadata": {},
   "source": [
    "## Prueba de Hipotesis"
   ]
  },
  {
   "cell_type": "markdown",
   "metadata": {},
   "source": [
    "**Hipotesis 1**: Diferencia significativa en la duración promedio de llamadas salientes entre los Planes A y B\n",
    "\n",
    "H0 = No hay diferencias significativas en la duración promedio de llamadas salientes entre los Planes A y B.\")\n",
    "\n",
    "H1 = Hay diferencias significativas en la duración promedio de llamadas salientes entre los Planes A y B.\")"
   ]
  },
  {
   "cell_type": "code",
   "execution_count": 70,
   "metadata": {},
   "outputs": [
    {
     "name": "stdout",
     "output_type": "stream",
     "text": [
      "T-Estadístico: 15.82\n",
      "P-Valor: 0.00000\n",
      "Rechazamos la hipótesis nula: Hay una diferencia significativa en la duración promedio de llamadas salientes entre los Planes A y B.\n"
     ]
    }
   ],
   "source": [
    "# Combinar los datasets (supongo que la clave común es 'user_id')\n",
    "merged_data = telecom.merge(clients, on='user_id')\n",
    "\n",
    "# Filtrar llamadas salientes\n",
    "outgoing_calls = merged_data[merged_data['direction'] == 'out']\n",
    "\n",
    "# Extraer duraciones de llamadas para Plan A y Plan B\n",
    "durations_plan_a = outgoing_calls[outgoing_calls['tariff_plan'] == 'A']['call_duration']\n",
    "durations_plan_b = outgoing_calls[outgoing_calls['tariff_plan'] == 'B']['call_duration']\n",
    "\n",
    "# Realizar la prueba T\n",
    "t_stat, p_value = ttest_ind(durations_plan_a, durations_plan_b, equal_var=False)\n",
    "\n",
    "# Mostrar resultados\n",
    "print(f\"T-Estadístico: {t_stat:.2f}\")\n",
    "print(f\"P-Valor: {p_value:.5f}\")\n",
    "\n",
    "# Interpretación\n",
    "if p_value < 0.05:\n",
    "    print(\"Rechazamos la hipótesis nula: Hay una diferencia significativa en la duración promedio de llamadas salientes entre los Planes A y B.\")\n",
    "else:\n",
    "    print(\"No se rechaza la hipótesis nula: No hay diferencias significativas en la duración promedio de llamadas salientes entre los Planes A y B.\")"
   ]
  },
  {
   "cell_type": "markdown",
   "metadata": {},
   "source": [
    "**Conclusion de la Hipotesis** Esto significa que si hay evidencia estadísticamente significativa para afirmar que existe una diferencia en la duración promedio de las llamadas entre los dos planes."
   ]
  },
  {
   "cell_type": "markdown",
   "metadata": {},
   "source": [
    "**Hipótesis 2: tasa de llamadas perdidas y los tiempos de espera**\n",
    "\n",
    "Se puede analizar si existe una diferencia significativa en los tiempos promedio de espera entre los operadores con alta tasa de llamadas perdidas y los operadores con baja tasa de llamadas perdidas\n",
    "\n",
    "H0 = No hay diferencias significativas en los tiempos de espera entre operadores con alta y baja tasa de llamadas perdidas.\")\n",
    "\n",
    "h1 = Hay diferencias significativas en los tiempos de espera entre operadores con alta y baja tasa de llamadas perdidas.\")"
   ]
  },
  {
   "cell_type": "code",
   "execution_count": 71,
   "metadata": {},
   "outputs": [],
   "source": [
    "# Calcular la tasa de llamadas perdidas por operador\n",
    "operator_stats = telecom.groupby('operator_id').agg(\n",
    "    total_calls=('is_missed_call', 'count'),\n",
    "    missed_calls=('is_missed_call', 'sum'),\n",
    "    avg_wait_time=('wait_time', 'mean')\n",
    ").reset_index()\n",
    "\n",
    "operator_stats['missed_call_rate'] = operator_stats['missed_calls'] / operator_stats['total_calls']"
   ]
  },
  {
   "cell_type": "code",
   "execution_count": 72,
   "metadata": {},
   "outputs": [
    {
     "data": {
      "text/html": [
       "<div>\n",
       "<style scoped>\n",
       "    .dataframe tbody tr th:only-of-type {\n",
       "        vertical-align: middle;\n",
       "    }\n",
       "\n",
       "    .dataframe tbody tr th {\n",
       "        vertical-align: top;\n",
       "    }\n",
       "\n",
       "    .dataframe thead th {\n",
       "        text-align: right;\n",
       "    }\n",
       "</style>\n",
       "<table border=\"1\" class=\"dataframe\">\n",
       "  <thead>\n",
       "    <tr style=\"text-align: right;\">\n",
       "      <th></th>\n",
       "      <th>operator_id</th>\n",
       "      <th>total_calls</th>\n",
       "      <th>missed_calls</th>\n",
       "      <th>avg_wait_time</th>\n",
       "      <th>missed_call_rate</th>\n",
       "    </tr>\n",
       "  </thead>\n",
       "  <tbody>\n",
       "    <tr>\n",
       "      <th>0</th>\n",
       "      <td>879896</td>\n",
       "      <td>117</td>\n",
       "      <td>47</td>\n",
       "      <td>104.914530</td>\n",
       "      <td>0.401709</td>\n",
       "    </tr>\n",
       "    <tr>\n",
       "      <th>1</th>\n",
       "      <td>879898</td>\n",
       "      <td>226</td>\n",
       "      <td>89</td>\n",
       "      <td>459.690265</td>\n",
       "      <td>0.393805</td>\n",
       "    </tr>\n",
       "    <tr>\n",
       "      <th>2</th>\n",
       "      <td>880020</td>\n",
       "      <td>20</td>\n",
       "      <td>6</td>\n",
       "      <td>14.000000</td>\n",
       "      <td>0.300000</td>\n",
       "    </tr>\n",
       "    <tr>\n",
       "      <th>3</th>\n",
       "      <td>880022</td>\n",
       "      <td>70</td>\n",
       "      <td>29</td>\n",
       "      <td>53.971429</td>\n",
       "      <td>0.414286</td>\n",
       "    </tr>\n",
       "    <tr>\n",
       "      <th>4</th>\n",
       "      <td>880026</td>\n",
       "      <td>182</td>\n",
       "      <td>87</td>\n",
       "      <td>121.978022</td>\n",
       "      <td>0.478022</td>\n",
       "    </tr>\n",
       "    <tr>\n",
       "      <th>...</th>\n",
       "      <td>...</td>\n",
       "      <td>...</td>\n",
       "      <td>...</td>\n",
       "      <td>...</td>\n",
       "      <td>...</td>\n",
       "    </tr>\n",
       "    <tr>\n",
       "      <th>1087</th>\n",
       "      <td>972410</td>\n",
       "      <td>4</td>\n",
       "      <td>2</td>\n",
       "      <td>374.500000</td>\n",
       "      <td>0.500000</td>\n",
       "    </tr>\n",
       "    <tr>\n",
       "      <th>1088</th>\n",
       "      <td>972412</td>\n",
       "      <td>5</td>\n",
       "      <td>2</td>\n",
       "      <td>210.000000</td>\n",
       "      <td>0.400000</td>\n",
       "    </tr>\n",
       "    <tr>\n",
       "      <th>1089</th>\n",
       "      <td>972460</td>\n",
       "      <td>7</td>\n",
       "      <td>3</td>\n",
       "      <td>88.571429</td>\n",
       "      <td>0.428571</td>\n",
       "    </tr>\n",
       "    <tr>\n",
       "      <th>1090</th>\n",
       "      <td>973120</td>\n",
       "      <td>2</td>\n",
       "      <td>1</td>\n",
       "      <td>10.000000</td>\n",
       "      <td>0.500000</td>\n",
       "    </tr>\n",
       "    <tr>\n",
       "      <th>1091</th>\n",
       "      <td>973286</td>\n",
       "      <td>1</td>\n",
       "      <td>0</td>\n",
       "      <td>88.000000</td>\n",
       "      <td>0.000000</td>\n",
       "    </tr>\n",
       "  </tbody>\n",
       "</table>\n",
       "<p>1092 rows × 5 columns</p>\n",
       "</div>"
      ],
      "text/plain": [
       "      operator_id  total_calls  missed_calls  avg_wait_time  missed_call_rate\n",
       "0          879896          117            47     104.914530          0.401709\n",
       "1          879898          226            89     459.690265          0.393805\n",
       "2          880020           20             6      14.000000          0.300000\n",
       "3          880022           70            29      53.971429          0.414286\n",
       "4          880026          182            87     121.978022          0.478022\n",
       "...           ...          ...           ...            ...               ...\n",
       "1087       972410            4             2     374.500000          0.500000\n",
       "1088       972412            5             2     210.000000          0.400000\n",
       "1089       972460            7             3      88.571429          0.428571\n",
       "1090       973120            2             1      10.000000          0.500000\n",
       "1091       973286            1             0      88.000000          0.000000\n",
       "\n",
       "[1092 rows x 5 columns]"
      ]
     },
     "execution_count": 72,
     "metadata": {},
     "output_type": "execute_result"
    }
   ],
   "source": [
    "operator_stats"
   ]
  },
  {
   "cell_type": "code",
   "execution_count": 73,
   "metadata": {},
   "outputs": [
    {
     "data": {
      "text/plain": [
       "0.31570480289154806"
      ]
     },
     "execution_count": 73,
     "metadata": {},
     "output_type": "execute_result"
    }
   ],
   "source": [
    "# Calcular el promedio de la tasa de llamadas perdidas\n",
    "avg_missed_call_rate = operator_stats['missed_call_rate'].mean()\n",
    "avg_missed_call_rate"
   ]
  },
  {
   "cell_type": "code",
   "execution_count": 74,
   "metadata": {},
   "outputs": [
    {
     "name": "stdout",
     "output_type": "stream",
     "text": [
      "T-Estadístico: 11.48\n",
      "P-Valor: 0.00000\n",
      "Rechazamos la hipótesis nula: Hay una diferencia significativa en los tiempos de espera entre operadores con alta y baja tasa de llamadas perdidas.\n"
     ]
    }
   ],
   "source": [
    "# Clasificar operadores en alta y baja tasa de llamadas perdidas\n",
    "high_missed_rate = operator_stats[operator_stats['missed_call_rate'] > avg_missed_call_rate]\n",
    "low_missed_rate = operator_stats[operator_stats['missed_call_rate'] <= avg_missed_call_rate]\n",
    "\n",
    "# Extraer los tiempos de espera promedio\n",
    "wait_times_high = high_missed_rate['avg_wait_time'].dropna()\n",
    "wait_times_low = low_missed_rate['avg_wait_time'].dropna()\n",
    "\n",
    "# Realizar la prueba t\n",
    "t_stat, p_value = ttest_ind(wait_times_high, wait_times_low, equal_var=False)\n",
    "\n",
    "# Resultados\n",
    "print(f\"T-Estadístico: {t_stat:.2f}\")\n",
    "print(f\"P-Valor: {p_value:.5f}\")\n",
    "\n",
    "# Interpretación\n",
    "if p_value < 0.05:\n",
    "    print(\"Rechazamos la hipótesis nula: Hay una diferencia significativa en los tiempos de espera entre operadores con alta y baja tasa de llamadas perdidas.\")\n",
    "else:\n",
    "    print(\"No se rechaza la hipótesis nula: No hay diferencias significativas en los tiempos de espera entre operadores con alta y baja tasa de llamadas perdidas.\")"
   ]
  },
  {
   "cell_type": "markdown",
   "metadata": {},
   "source": [
    "**Conclusiones de la Hipotesis** Este resultado indica que encontramos evidencia estadística sólida de que **si** existe una diferencia significativa en los tiempos de espera entre los operadores con alta y baja tasa de llamadas perdidas. Esto sugiere que el tiempo de espera es un factor importante y está asociado con el desempeño de los operadores. En resumen: Los operadores con una alta tasa de llamadas perdidas tienden a tener tiempos de espera significativamente más largos que aquellos con una baja tasa de llamadas perdidas."
   ]
  },
  {
   "cell_type": "markdown",
   "metadata": {},
   "source": [
    "**Hipotesis 3**: diferencia significativa en las tasas de llamadas perdidas entre clientes con tarifas altas y bajas"
   ]
  },
  {
   "cell_type": "markdown",
   "metadata": {},
   "source": [
    "H0 = No existe una diferencia significativa en las tasas de llamadas perdidas entre clientes con tarifas altas y bajas.\n",
    "\n",
    "H1 = Existe una diferencia significativa en las tasas de llamadas perdidas entre clientes con tarifas altas y bajas."
   ]
  },
  {
   "cell_type": "code",
   "execution_count": 75,
   "metadata": {},
   "outputs": [
    {
     "name": "stdout",
     "output_type": "stream",
     "text": [
      "\n",
      "Hipótesis B: Impacto de la Tarifa del Cliente\n",
      "T-statistic: -3.7764525822079675, P-value: 0.0001594853513312175\n",
      "Rechazamos H0: Existe una diferencia significativa en las tasas de llamadas perdidas entre clientes con tarifas altas y bajas.\n"
     ]
    }
   ],
   "source": [
    "# Agrupar por tarifa y calcular tasa de llamadas perdidas\n",
    "tariff_missed_calls = merged_data.groupby('tariff_plan')['is_missed_call'].mean()\n",
    "\n",
    "# Dividir tarifas en altas y bajas\n",
    "high_tariff = merged_data[merged_data['tariff_plan'].isin(tariff_missed_calls[tariff_missed_calls <= tariff_missed_calls.median()].index)]\n",
    "low_tariff = merged_data[merged_data['tariff_plan'].isin(tariff_missed_calls[tariff_missed_calls > tariff_missed_calls.median()].index)]\n",
    "\n",
    "# Comparar tasas de llamadas perdidas entre los dos grupos\n",
    "\n",
    "#Tarifas altas: Planes con una tasa de llamadas perdidas igual o menor que la mediana.\n",
    "#Tarifas bajas: Planes con una tasa de llamadas perdidas mayor que la mediana.\n",
    "    \n",
    "high_tariff_missed = high_tariff['is_missed_call']\n",
    "low_tariff_missed = low_tariff['is_missed_call']\n",
    "\n",
    "# Prueba t para comparar medias\n",
    "t_stat_tariff, p_value_tariff = stats.ttest_ind(high_tariff_missed, low_tariff_missed, equal_var=False)\n",
    "print(\"\\nHipótesis B: Impacto de la Tarifa del Cliente\")\n",
    "print(f\"T-statistic: {t_stat_tariff}, P-value: {p_value_tariff}\")\n",
    "if p_value_tariff < 0.05:\n",
    "    print(\"Rechazamos H0: Existe una diferencia significativa en las tasas de llamadas perdidas entre clientes con tarifas altas y bajas.\")\n",
    "else:\n",
    "    print(\"No rechazamos H0: No existe una diferencia significativa en las tasas de llamadas perdidas entre clientes con tarifas altas y bajas.\")"
   ]
  },
  {
   "cell_type": "markdown",
   "metadata": {},
   "source": [
    "**Conclusion** Los clientes con tarifas más altas tienen menores tasas de llamadas perdidas en comparación con los clientes con tarifas más bajas. Esto significa que los clientes que pagan mas tienen mejor servicio en la atención y menores tasas de llamadas perdidas."
   ]
  },
  {
   "cell_type": "markdown",
   "metadata": {},
   "source": [
    "## Dashboards\n"
   ]
  },
  {
   "cell_type": "markdown",
   "metadata": {},
   "source": [
    "Hacer clic para ver el Dashboard creado en Tableau: \n",
    "\n",
    "https://public.tableau.com/views/Telecomunicacionesproyectofinal/Dashboard1?:language=en-US&:sid=&:redirect=auth&:display_count=n&:origin=viz_share_link"
   ]
  },
  {
   "cell_type": "markdown",
   "metadata": {},
   "source": [
    "##  Presentaciòn corporativa"
   ]
  },
  {
   "cell_type": "markdown",
   "metadata": {},
   "source": [
    "https://drive.google.com/file/d/14-BR-puh3ix5ovNPh9ZqMQCHE4Nn5DNg/view?usp=sharing"
   ]
  },
  {
   "cell_type": "markdown",
   "metadata": {},
   "source": [
    "## Conclusiones y recomendaciones"
   ]
  },
  {
   "cell_type": "markdown",
   "metadata": {},
   "source": [
    "**Conclusiones:**\n",
    "\n",
    "Se puede concluir con el analisis que durante los meses de agosto y noviembre del año 2019. Hay operadores que tienen un muy buen rendimiento de llamadas recibidas, sin embargo se identificó que los operadores con altas tasas de llamadas perdidas y altos tiempos de espera son operadores ineficientes y que impactan negativamente la experiencia de los clientes. Por otro lado es mucho mayor la cantidad de llamadas perdidas internas que las entrantes, lo que indica que cuando los operadores intentan traspasar una llamada para que el cliente sea atendido por otro operador no es eficiente y esto tambien impacta al cliente final. Ademas, se observó que los clientes que pagan una tarifa más alta son los clientes que tienen menores tasas de llamadas perdidas, lo cual es de esperar en este tipo de negocios, en donde los planes que se adquieren cuentan con una serie de especificaciones en el servicio prestado. Por lo anterior, se analiza que si hay una diferencia significativa en la duración promedio de llamadas salientes entre los Planes A y B. \n",
    "\n",
    "\n",
    "**Recomendaciones:**\n",
    "* Se recomienda capacitar adecuadamente a los operadores ya que se evidencio que los clientes pueden durar por lo menos 1 hora esperando en ser atendidos. Esto no deberia pasar ya que se puede perder al cliente y por ende un cliente insatisfecho nos generaria un voz a voz inadecuado.\n",
    "* Los planes en donde los clientes tienen una tarifa baja es necesario mejorar la respuesta y el servicio al cliente. Se podria crear una estrategia para incentivar la compra de planes con tarifas mas altas pero con buen servicio de respuesta.\n",
    "* Es necesario reorganizar los horarios de los operadores ya que los fines de semana se evidencia altas tasas de llamadas perdidas, tal vez por que no hay suficientes operadores para la demanda. Si se organiza los horarios y se reparten las tareas adecuadamente la operacion podria ser mas eficiente.\n",
    "* Implementar programas o software para que cuando algunos operadores no cuenten con llamadas entrantes, pues pueda colaborar a los operadores que realizan llamadas salientes.\n",
    "* Se puede ofrecer incentivos a los clientes que cuentan con mayor antiguedad con los planes, puede ser descuentos o planes de fidelizacion. \n",
    "* Se puede premiar a los operadores que tengan mejores resultados en las metricas. Puede ser no solamente con más dinero, sino ademas con opciones de escoger el horario de trabajo, salidas temprano, trabajar en casa. Todo esto los motivara a ser mejores.\n",
    "* Determinar el tipo de llamada y el problema, ya que hay clientes que tienen diferentes tipos de problemas y por ende la duración de la llamada y la respuesta al cliente va a ser alta. Con esto propongo que se podria dividir el equipo de operadores por tipo de problema o solucion para los clientes. "
   ]
  },
  {
   "cell_type": "markdown",
   "metadata": {},
   "source": [
    "## Bibliografia"
   ]
  },
  {
   "cell_type": "markdown",
   "metadata": {},
   "source": [
    "Analítica de datos: Tipos de dashboards y ejemplos de KPIs : https://edicom.co/blog/tipos-dashboards-ejemplos-kpis\n",
    "\n",
    "KPIs para experiencia del cliente: https://clickup.com/blog/customer-experience-kpis/?utm_source=google-pmax&utm_medium=cpc&utm_campaign=gpm_cpc_ar_nnc_pro_trial_all-devices_tcpa_lp_x_all-departments_x_pmax&utm_content=&utm_creative=_____&gad_source=1&gclid=CjwKCAiApsm7BhBZEiwAvIu2X7uWZFoPOU0xoZNV_TQKPPe1U916343Ee7Bks4rbK_RtoXjcDwKu-RoCs40QAvD_BwE\n",
    "\n",
    "Mejora de eficiencia en la operacion de las empresas Telecomunicaciones: https://esunique.com/consejos-utiles-para-mejorar-la-eficiencia-de-tu-compania/\n",
    "\n",
    "Telefonia: https://www.phonex.com.mx/blog/estrategias-para-maximizar-la-productividad-de-los-agentes-telefonicos-en-un-centro-de-contacto"
   ]
  },
  {
   "cell_type": "code",
   "execution_count": null,
   "metadata": {},
   "outputs": [],
   "source": []
  }
 ],
 "metadata": {
  "ExecuteTimeLog": [
   {
    "duration": 10,
    "start_time": "2024-12-19T14:38:01.951Z"
   },
   {
    "duration": 2,
    "start_time": "2024-12-19T14:44:52.906Z"
   },
   {
    "duration": 8,
    "start_time": "2024-12-19T15:13:50.489Z"
   },
   {
    "duration": 10,
    "start_time": "2024-12-19T16:29:34.065Z"
   },
   {
    "duration": 2566,
    "start_time": "2024-12-19T16:44:07.201Z"
   },
   {
    "duration": 3,
    "start_time": "2024-12-19T16:44:25.695Z"
   },
   {
    "duration": 3,
    "start_time": "2024-12-19T16:44:33.339Z"
   },
   {
    "duration": 3,
    "start_time": "2024-12-19T16:45:09.459Z"
   },
   {
    "duration": 69,
    "start_time": "2024-12-19T16:45:44.011Z"
   },
   {
    "duration": 15,
    "start_time": "2024-12-19T16:45:49.938Z"
   },
   {
    "duration": 2540,
    "start_time": "2024-12-27T13:54:49.664Z"
   },
   {
    "duration": 62,
    "start_time": "2024-12-27T13:54:52.206Z"
   },
   {
    "duration": 14,
    "start_time": "2024-12-27T13:54:52.270Z"
   },
   {
    "duration": 6,
    "start_time": "2024-12-27T16:17:42.498Z"
   },
   {
    "duration": 157,
    "start_time": "2024-12-27T16:21:25.704Z"
   },
   {
    "duration": 4,
    "start_time": "2024-12-27T16:21:37.951Z"
   },
   {
    "duration": 11,
    "start_time": "2024-12-27T16:21:39.877Z"
   },
   {
    "duration": 12,
    "start_time": "2024-12-27T16:21:42.357Z"
   },
   {
    "duration": 2524,
    "start_time": "2024-12-27T16:21:45.054Z"
   },
   {
    "duration": 60,
    "start_time": "2024-12-27T16:21:47.580Z"
   },
   {
    "duration": 15,
    "start_time": "2024-12-27T16:21:47.641Z"
   },
   {
    "duration": 3,
    "start_time": "2024-12-27T16:21:47.657Z"
   },
   {
    "duration": 45,
    "start_time": "2024-12-27T16:21:47.662Z"
   },
   {
    "duration": 3,
    "start_time": "2024-12-27T16:23:30.913Z"
   },
   {
    "duration": 3,
    "start_time": "2024-12-27T16:24:47.284Z"
   },
   {
    "duration": 42,
    "start_time": "2024-12-27T16:24:49.484Z"
   },
   {
    "duration": 3,
    "start_time": "2024-12-27T17:39:32.470Z"
   },
   {
    "duration": 156,
    "start_time": "2024-12-27T17:40:03.886Z"
   },
   {
    "duration": 2489,
    "start_time": "2024-12-27T17:40:08.217Z"
   },
   {
    "duration": 63,
    "start_time": "2024-12-27T17:40:10.708Z"
   },
   {
    "duration": 15,
    "start_time": "2024-12-27T17:40:10.773Z"
   },
   {
    "duration": 3,
    "start_time": "2024-12-27T17:40:10.789Z"
   },
   {
    "duration": 43,
    "start_time": "2024-12-27T17:40:10.794Z"
   },
   {
    "duration": 11,
    "start_time": "2024-12-27T17:40:10.839Z"
   },
   {
    "duration": 12,
    "start_time": "2024-12-27T17:40:16.177Z"
   },
   {
    "duration": 12,
    "start_time": "2024-12-27T17:40:27.030Z"
   },
   {
    "duration": 4,
    "start_time": "2024-12-27T17:41:20.672Z"
   },
   {
    "duration": 3,
    "start_time": "2024-12-27T17:41:29.157Z"
   },
   {
    "duration": 3,
    "start_time": "2024-12-27T17:41:59.032Z"
   },
   {
    "duration": 6,
    "start_time": "2024-12-27T17:42:05.969Z"
   },
   {
    "duration": 37,
    "start_time": "2024-12-27T17:43:17.206Z"
   },
   {
    "duration": 28,
    "start_time": "2024-12-27T17:43:50.704Z"
   },
   {
    "duration": 2519,
    "start_time": "2024-12-27T20:13:52.754Z"
   },
   {
    "duration": 59,
    "start_time": "2024-12-27T20:13:55.275Z"
   },
   {
    "duration": 14,
    "start_time": "2024-12-27T20:13:55.336Z"
   },
   {
    "duration": 4,
    "start_time": "2024-12-27T20:13:55.352Z"
   },
   {
    "duration": 56,
    "start_time": "2024-12-27T20:13:55.358Z"
   },
   {
    "duration": 12,
    "start_time": "2024-12-27T20:13:55.416Z"
   },
   {
    "duration": 12,
    "start_time": "2024-12-27T20:13:55.429Z"
   },
   {
    "duration": 3,
    "start_time": "2024-12-27T20:13:55.443Z"
   },
   {
    "duration": 58,
    "start_time": "2024-12-27T20:13:55.448Z"
   },
   {
    "duration": 3,
    "start_time": "2024-12-27T20:16:02.779Z"
   },
   {
    "duration": 27,
    "start_time": "2024-12-27T20:16:31.759Z"
   },
   {
    "duration": 3,
    "start_time": "2024-12-27T20:16:42.166Z"
   },
   {
    "duration": 2,
    "start_time": "2024-12-27T20:19:46.321Z"
   },
   {
    "duration": 3,
    "start_time": "2024-12-27T20:19:50.093Z"
   },
   {
    "duration": 3,
    "start_time": "2024-12-27T20:20:19.237Z"
   },
   {
    "duration": 5,
    "start_time": "2024-12-27T20:21:01.236Z"
   },
   {
    "duration": 12,
    "start_time": "2024-12-27T20:21:09.943Z"
   },
   {
    "duration": 13,
    "start_time": "2024-12-27T20:21:16.172Z"
   },
   {
    "duration": 7,
    "start_time": "2024-12-27T20:23:02.860Z"
   },
   {
    "duration": 35,
    "start_time": "2024-12-27T20:23:06.007Z"
   },
   {
    "duration": 13,
    "start_time": "2024-12-27T20:23:07.514Z"
   },
   {
    "duration": 3,
    "start_time": "2024-12-27T20:23:10.215Z"
   },
   {
    "duration": 12,
    "start_time": "2024-12-27T20:23:13.619Z"
   },
   {
    "duration": 11,
    "start_time": "2024-12-27T20:23:15.483Z"
   },
   {
    "duration": 13,
    "start_time": "2024-12-27T20:23:17.755Z"
   },
   {
    "duration": 28,
    "start_time": "2024-12-27T20:23:21.764Z"
   },
   {
    "duration": 10,
    "start_time": "2024-12-27T20:24:31.307Z"
   },
   {
    "duration": 11,
    "start_time": "2024-12-27T20:25:00.941Z"
   },
   {
    "duration": 12,
    "start_time": "2024-12-27T20:25:02.739Z"
   },
   {
    "duration": 26,
    "start_time": "2024-12-27T20:25:09.740Z"
   },
   {
    "duration": 4,
    "start_time": "2024-12-27T20:27:41.630Z"
   },
   {
    "duration": 260,
    "start_time": "2024-12-27T20:27:46.325Z"
   },
   {
    "duration": 4,
    "start_time": "2024-12-27T20:28:03.250Z"
   },
   {
    "duration": 38,
    "start_time": "2024-12-27T20:28:05.682Z"
   },
   {
    "duration": 5,
    "start_time": "2024-12-27T20:28:35.298Z"
   },
   {
    "duration": 5,
    "start_time": "2024-12-27T20:30:49.530Z"
   },
   {
    "duration": 8,
    "start_time": "2024-12-27T20:31:53.455Z"
   },
   {
    "duration": 9,
    "start_time": "2024-12-27T20:31:58.343Z"
   },
   {
    "duration": 10,
    "start_time": "2024-12-27T20:32:00.268Z"
   },
   {
    "duration": 27,
    "start_time": "2024-12-27T20:32:09.189Z"
   },
   {
    "duration": 15,
    "start_time": "2024-12-27T20:36:12.861Z"
   },
   {
    "duration": 11,
    "start_time": "2024-12-27T20:36:19.165Z"
   },
   {
    "duration": 16,
    "start_time": "2024-12-27T20:36:32.213Z"
   },
   {
    "duration": 14,
    "start_time": "2024-12-27T20:36:39.502Z"
   },
   {
    "duration": 10,
    "start_time": "2024-12-27T20:36:44.526Z"
   },
   {
    "duration": 3,
    "start_time": "2024-12-27T20:38:09.462Z"
   },
   {
    "duration": 9,
    "start_time": "2024-12-27T20:43:30.340Z"
   },
   {
    "duration": 4,
    "start_time": "2024-12-27T20:52:43.128Z"
   },
   {
    "duration": 27,
    "start_time": "2024-12-27T20:55:59.797Z"
   },
   {
    "duration": 8,
    "start_time": "2024-12-27T20:56:12.774Z"
   },
   {
    "duration": 2,
    "start_time": "2024-12-27T20:56:35.678Z"
   },
   {
    "duration": 14,
    "start_time": "2024-12-27T20:57:04.071Z"
   },
   {
    "duration": 2,
    "start_time": "2024-12-27T21:00:52.717Z"
   },
   {
    "duration": 4,
    "start_time": "2024-12-27T21:01:49.138Z"
   },
   {
    "duration": 8,
    "start_time": "2024-12-27T21:02:59.140Z"
   },
   {
    "duration": 4,
    "start_time": "2024-12-27T21:20:00.925Z"
   },
   {
    "duration": 2,
    "start_time": "2024-12-27T21:20:17.075Z"
   },
   {
    "duration": 13,
    "start_time": "2024-12-27T21:21:40.588Z"
   },
   {
    "duration": 5,
    "start_time": "2024-12-27T21:21:44.846Z"
   },
   {
    "duration": 6,
    "start_time": "2024-12-27T21:21:51.019Z"
   },
   {
    "duration": 138,
    "start_time": "2024-12-27T21:22:06.324Z"
   },
   {
    "duration": 17,
    "start_time": "2024-12-27T21:25:33.023Z"
   },
   {
    "duration": 7,
    "start_time": "2024-12-27T21:26:04.428Z"
   },
   {
    "duration": 3,
    "start_time": "2024-12-27T21:27:15.181Z"
   },
   {
    "duration": 4,
    "start_time": "2024-12-27T21:27:55.912Z"
   },
   {
    "duration": 7,
    "start_time": "2024-12-27T21:28:13.155Z"
   },
   {
    "duration": 6,
    "start_time": "2024-12-27T21:34:46.380Z"
   },
   {
    "duration": 5,
    "start_time": "2024-12-27T21:35:09.648Z"
   },
   {
    "duration": 6,
    "start_time": "2024-12-27T21:35:16.476Z"
   },
   {
    "duration": 6,
    "start_time": "2024-12-27T21:35:22.156Z"
   },
   {
    "duration": 2,
    "start_time": "2024-12-27T21:36:16.335Z"
   },
   {
    "duration": 7,
    "start_time": "2024-12-27T21:36:30.412Z"
   },
   {
    "duration": 158,
    "start_time": "2024-12-27T21:37:14.040Z"
   },
   {
    "duration": 6,
    "start_time": "2024-12-27T21:39:09.202Z"
   },
   {
    "duration": 9,
    "start_time": "2024-12-27T21:39:12.722Z"
   },
   {
    "duration": 2,
    "start_time": "2024-12-27T21:45:27.626Z"
   },
   {
    "duration": 5,
    "start_time": "2024-12-27T21:46:08.186Z"
   },
   {
    "duration": 4,
    "start_time": "2024-12-27T21:46:09.776Z"
   },
   {
    "duration": 6,
    "start_time": "2024-12-27T21:46:14.282Z"
   },
   {
    "duration": 7336,
    "start_time": "2024-12-27T21:47:25.945Z"
   },
   {
    "duration": 7,
    "start_time": "2024-12-27T21:48:37.895Z"
   },
   {
    "duration": 18,
    "start_time": "2024-12-27T21:49:43.719Z"
   },
   {
    "duration": 3,
    "start_time": "2024-12-27T21:50:01.991Z"
   },
   {
    "duration": 165,
    "start_time": "2024-12-27T21:50:03.542Z"
   },
   {
    "duration": 284,
    "start_time": "2024-12-27T21:50:42.196Z"
   },
   {
    "duration": 5,
    "start_time": "2024-12-27T21:51:33.059Z"
   },
   {
    "duration": 6,
    "start_time": "2024-12-27T21:52:25.813Z"
   },
   {
    "duration": 6,
    "start_time": "2024-12-27T21:55:14.079Z"
   },
   {
    "duration": 119,
    "start_time": "2024-12-27T21:55:18.152Z"
   },
   {
    "duration": 120,
    "start_time": "2024-12-27T21:55:31.317Z"
   },
   {
    "duration": 127,
    "start_time": "2024-12-27T21:55:49.185Z"
   },
   {
    "duration": 7,
    "start_time": "2024-12-27T21:57:08.730Z"
   },
   {
    "duration": 13,
    "start_time": "2024-12-27T22:02:36.841Z"
   },
   {
    "duration": 13,
    "start_time": "2024-12-27T22:02:41.973Z"
   },
   {
    "duration": 4,
    "start_time": "2024-12-27T22:02:57.192Z"
   },
   {
    "duration": 13,
    "start_time": "2024-12-27T22:03:01.488Z"
   },
   {
    "duration": 16,
    "start_time": "2024-12-27T22:03:18.513Z"
   },
   {
    "duration": 15,
    "start_time": "2024-12-27T22:04:54.207Z"
   },
   {
    "duration": 7,
    "start_time": "2024-12-27T22:05:05.983Z"
   },
   {
    "duration": 10,
    "start_time": "2024-12-27T22:05:33.711Z"
   },
   {
    "duration": 11,
    "start_time": "2024-12-27T22:08:33.420Z"
   },
   {
    "duration": 8,
    "start_time": "2024-12-27T22:08:49.804Z"
   },
   {
    "duration": 208,
    "start_time": "2024-12-27T22:14:39.831Z"
   },
   {
    "duration": 13,
    "start_time": "2024-12-27T22:22:48.044Z"
   },
   {
    "duration": 194,
    "start_time": "2024-12-27T22:23:18.333Z"
   },
   {
    "duration": 12,
    "start_time": "2024-12-27T22:24:23.013Z"
   },
   {
    "duration": 8021,
    "start_time": "2024-12-27T22:24:32.702Z"
   },
   {
    "duration": 166,
    "start_time": "2024-12-27T22:32:41.722Z"
   },
   {
    "duration": 38,
    "start_time": "2024-12-27T22:33:07.941Z"
   },
   {
    "duration": 38,
    "start_time": "2024-12-27T22:33:18.045Z"
   },
   {
    "duration": 12,
    "start_time": "2024-12-27T22:33:21.983Z"
   },
   {
    "duration": 10,
    "start_time": "2024-12-27T22:33:26.576Z"
   },
   {
    "duration": 8557,
    "start_time": "2024-12-27T22:34:21.980Z"
   },
   {
    "duration": 4,
    "start_time": "2024-12-27T22:36:25.639Z"
   },
   {
    "duration": 15,
    "start_time": "2024-12-27T22:36:33.255Z"
   },
   {
    "duration": 9,
    "start_time": "2024-12-27T22:36:51.854Z"
   },
   {
    "duration": 5,
    "start_time": "2024-12-27T22:37:55.478Z"
   },
   {
    "duration": 3,
    "start_time": "2024-12-27T22:42:05.248Z"
   },
   {
    "duration": 15,
    "start_time": "2024-12-27T22:42:30.660Z"
   },
   {
    "duration": 14,
    "start_time": "2024-12-27T22:42:34.976Z"
   },
   {
    "duration": 15,
    "start_time": "2024-12-27T22:42:42.279Z"
   },
   {
    "duration": 387,
    "start_time": "2024-12-27T22:45:48.331Z"
   },
   {
    "duration": 2529,
    "start_time": "2024-12-27T23:40:48.162Z"
   },
   {
    "duration": 64,
    "start_time": "2024-12-27T23:40:50.694Z"
   },
   {
    "duration": 14,
    "start_time": "2024-12-27T23:40:50.760Z"
   },
   {
    "duration": 3,
    "start_time": "2024-12-27T23:40:50.776Z"
   },
   {
    "duration": 62,
    "start_time": "2024-12-27T23:40:50.781Z"
   },
   {
    "duration": 11,
    "start_time": "2024-12-27T23:40:50.845Z"
   },
   {
    "duration": 11,
    "start_time": "2024-12-27T23:40:50.858Z"
   },
   {
    "duration": 11,
    "start_time": "2024-12-27T23:40:50.870Z"
   },
   {
    "duration": 27,
    "start_time": "2024-12-27T23:40:50.882Z"
   },
   {
    "duration": 45,
    "start_time": "2024-12-27T23:40:50.912Z"
   },
   {
    "duration": 11,
    "start_time": "2024-12-27T23:40:50.959Z"
   },
   {
    "duration": 9,
    "start_time": "2024-12-27T23:40:50.971Z"
   },
   {
    "duration": 7,
    "start_time": "2024-12-27T23:40:50.982Z"
   },
   {
    "duration": 8,
    "start_time": "2024-12-27T23:40:50.991Z"
   },
   {
    "duration": 13,
    "start_time": "2024-12-27T23:40:51.001Z"
   },
   {
    "duration": 6,
    "start_time": "2024-12-27T23:40:51.043Z"
   },
   {
    "duration": 9,
    "start_time": "2024-12-27T23:40:51.051Z"
   },
   {
    "duration": 4,
    "start_time": "2024-12-27T23:40:51.062Z"
   },
   {
    "duration": 16,
    "start_time": "2024-12-27T23:40:51.067Z"
   },
   {
    "duration": 4,
    "start_time": "2024-12-27T23:40:51.084Z"
   },
   {
    "duration": 203,
    "start_time": "2024-12-27T23:40:51.089Z"
   },
   {
    "duration": 5,
    "start_time": "2024-12-27T23:40:51.295Z"
   },
   {
    "duration": 6,
    "start_time": "2024-12-27T23:40:51.302Z"
   },
   {
    "duration": 146,
    "start_time": "2024-12-27T23:40:51.309Z"
   },
   {
    "duration": 10,
    "start_time": "2024-12-27T23:40:51.457Z"
   },
   {
    "duration": 228,
    "start_time": "2024-12-27T23:40:51.468Z"
   },
   {
    "duration": 0,
    "start_time": "2024-12-27T23:40:51.698Z"
   },
   {
    "duration": 0,
    "start_time": "2024-12-27T23:40:51.700Z"
   },
   {
    "duration": 0,
    "start_time": "2024-12-27T23:40:51.701Z"
   },
   {
    "duration": 3,
    "start_time": "2024-12-27T23:42:39.146Z"
   },
   {
    "duration": 202,
    "start_time": "2024-12-27T23:44:05.354Z"
   },
   {
    "duration": 6,
    "start_time": "2024-12-27T23:45:23.536Z"
   },
   {
    "duration": 21,
    "start_time": "2024-12-27T23:46:02.095Z"
   },
   {
    "duration": 153,
    "start_time": "2024-12-27T23:46:09.160Z"
   },
   {
    "duration": 13,
    "start_time": "2024-12-27T23:47:43.198Z"
   },
   {
    "duration": 13,
    "start_time": "2024-12-27T23:47:56.905Z"
   },
   {
    "duration": 3,
    "start_time": "2024-12-27T23:48:28.535Z"
   },
   {
    "duration": 14,
    "start_time": "2024-12-27T23:48:33.070Z"
   },
   {
    "duration": 3,
    "start_time": "2024-12-27T23:56:51.981Z"
   },
   {
    "duration": 9,
    "start_time": "2024-12-27T23:57:27.441Z"
   },
   {
    "duration": 407,
    "start_time": "2024-12-28T00:00:04.065Z"
   },
   {
    "duration": 39,
    "start_time": "2024-12-28T00:00:07.683Z"
   },
   {
    "duration": 4,
    "start_time": "2024-12-28T00:00:15.835Z"
   },
   {
    "duration": 7,
    "start_time": "2024-12-28T00:00:31.863Z"
   },
   {
    "duration": 9,
    "start_time": "2024-12-28T00:00:58.339Z"
   },
   {
    "duration": 3,
    "start_time": "2024-12-28T00:01:13.620Z"
   },
   {
    "duration": 9,
    "start_time": "2024-12-28T00:01:15.491Z"
   },
   {
    "duration": 2,
    "start_time": "2024-12-28T00:03:12.112Z"
   },
   {
    "duration": 113,
    "start_time": "2024-12-28T00:03:31.549Z"
   },
   {
    "duration": 7,
    "start_time": "2024-12-28T00:03:44.263Z"
   },
   {
    "duration": 178,
    "start_time": "2024-12-28T00:04:05.232Z"
   },
   {
    "duration": 6,
    "start_time": "2024-12-28T00:04:24.449Z"
   },
   {
    "duration": 3,
    "start_time": "2024-12-28T00:04:36.497Z"
   },
   {
    "duration": 7,
    "start_time": "2024-12-28T00:13:07.602Z"
   },
   {
    "duration": 2,
    "start_time": "2024-12-28T00:13:55.907Z"
   },
   {
    "duration": 14,
    "start_time": "2024-12-28T00:14:14.856Z"
   },
   {
    "duration": 7,
    "start_time": "2024-12-28T00:14:24.243Z"
   },
   {
    "duration": 3,
    "start_time": "2024-12-28T00:14:53.911Z"
   },
   {
    "duration": 8,
    "start_time": "2024-12-28T00:15:26.142Z"
   },
   {
    "duration": 7,
    "start_time": "2024-12-28T00:15:43.355Z"
   },
   {
    "duration": 2,
    "start_time": "2024-12-28T00:16:30.419Z"
   },
   {
    "duration": 8,
    "start_time": "2024-12-28T00:16:47.846Z"
   },
   {
    "duration": 8,
    "start_time": "2024-12-28T00:17:02.406Z"
   },
   {
    "duration": 165,
    "start_time": "2024-12-28T00:17:18.409Z"
   },
   {
    "duration": 7,
    "start_time": "2024-12-28T00:17:26.685Z"
   },
   {
    "duration": 13,
    "start_time": "2024-12-28T00:19:33.313Z"
   },
   {
    "duration": 8,
    "start_time": "2024-12-28T00:19:38.103Z"
   },
   {
    "duration": 14,
    "start_time": "2024-12-28T00:19:46.008Z"
   },
   {
    "duration": 4,
    "start_time": "2024-12-28T00:20:00.957Z"
   },
   {
    "duration": 4,
    "start_time": "2024-12-28T00:21:21.480Z"
   },
   {
    "duration": 15,
    "start_time": "2024-12-28T00:31:15.657Z"
   },
   {
    "duration": 8,
    "start_time": "2024-12-28T00:31:31.692Z"
   },
   {
    "duration": 4,
    "start_time": "2024-12-28T00:33:57.636Z"
   },
   {
    "duration": 159,
    "start_time": "2024-12-28T00:34:51.333Z"
   },
   {
    "duration": 4,
    "start_time": "2024-12-28T00:39:14.608Z"
   },
   {
    "duration": 14,
    "start_time": "2024-12-28T00:45:10.829Z"
   },
   {
    "duration": 2,
    "start_time": "2024-12-28T00:50:52.338Z"
   },
   {
    "duration": 2533,
    "start_time": "2024-12-28T10:22:59.390Z"
   },
   {
    "duration": 61,
    "start_time": "2024-12-28T10:23:01.925Z"
   },
   {
    "duration": 14,
    "start_time": "2024-12-28T10:23:01.987Z"
   },
   {
    "duration": 3,
    "start_time": "2024-12-28T10:23:02.003Z"
   },
   {
    "duration": 43,
    "start_time": "2024-12-28T10:23:02.008Z"
   },
   {
    "duration": 9,
    "start_time": "2024-12-28T10:23:02.053Z"
   },
   {
    "duration": 34,
    "start_time": "2024-12-28T10:23:02.063Z"
   },
   {
    "duration": 13,
    "start_time": "2024-12-28T10:23:02.099Z"
   },
   {
    "duration": 27,
    "start_time": "2024-12-28T10:23:02.114Z"
   },
   {
    "duration": 13,
    "start_time": "2024-12-28T10:23:02.145Z"
   },
   {
    "duration": 36,
    "start_time": "2024-12-28T10:23:02.159Z"
   },
   {
    "duration": 10,
    "start_time": "2024-12-28T10:23:02.196Z"
   },
   {
    "duration": 7,
    "start_time": "2024-12-28T10:23:02.207Z"
   },
   {
    "duration": 7,
    "start_time": "2024-12-28T10:23:02.216Z"
   },
   {
    "duration": 13,
    "start_time": "2024-12-28T10:23:02.225Z"
   },
   {
    "duration": 4,
    "start_time": "2024-12-28T10:23:02.240Z"
   },
   {
    "duration": 41,
    "start_time": "2024-12-28T10:23:02.245Z"
   },
   {
    "duration": 3,
    "start_time": "2024-12-28T10:23:02.289Z"
   },
   {
    "duration": 15,
    "start_time": "2024-12-28T10:23:02.294Z"
   },
   {
    "duration": 3,
    "start_time": "2024-12-28T10:23:02.311Z"
   },
   {
    "duration": 192,
    "start_time": "2024-12-28T10:23:02.315Z"
   },
   {
    "duration": 3,
    "start_time": "2024-12-28T10:23:02.509Z"
   },
   {
    "duration": 174,
    "start_time": "2024-12-28T10:23:02.514Z"
   },
   {
    "duration": 3,
    "start_time": "2024-12-28T10:23:02.690Z"
   },
   {
    "duration": 10,
    "start_time": "2024-12-28T10:23:02.694Z"
   },
   {
    "duration": 6,
    "start_time": "2024-12-28T10:23:02.705Z"
   },
   {
    "duration": 190,
    "start_time": "2024-12-28T10:23:02.712Z"
   },
   {
    "duration": 7,
    "start_time": "2024-12-28T10:23:02.906Z"
   },
   {
    "duration": 8,
    "start_time": "2024-12-28T10:23:02.915Z"
   },
   {
    "duration": 250,
    "start_time": "2024-12-28T10:23:02.925Z"
   },
   {
    "duration": 0,
    "start_time": "2024-12-28T10:23:03.177Z"
   },
   {
    "duration": 0,
    "start_time": "2024-12-28T10:23:03.178Z"
   },
   {
    "duration": 0,
    "start_time": "2024-12-28T10:23:03.179Z"
   },
   {
    "duration": 0,
    "start_time": "2024-12-28T10:23:03.179Z"
   },
   {
    "duration": 0,
    "start_time": "2024-12-28T10:23:03.180Z"
   },
   {
    "duration": 0,
    "start_time": "2024-12-28T10:23:03.180Z"
   },
   {
    "duration": 14,
    "start_time": "2024-12-28T10:28:16.897Z"
   },
   {
    "duration": 17,
    "start_time": "2024-12-28T10:28:23.765Z"
   },
   {
    "duration": 3,
    "start_time": "2024-12-28T10:28:26.365Z"
   },
   {
    "duration": 44,
    "start_time": "2024-12-28T10:28:26.370Z"
   },
   {
    "duration": 12,
    "start_time": "2024-12-28T10:28:26.416Z"
   },
   {
    "duration": 3,
    "start_time": "2024-12-28T10:28:26.429Z"
   },
   {
    "duration": 62,
    "start_time": "2024-12-28T10:28:26.435Z"
   },
   {
    "duration": 9,
    "start_time": "2024-12-28T10:28:26.499Z"
   },
   {
    "duration": 10,
    "start_time": "2024-12-28T10:28:26.509Z"
   },
   {
    "duration": 10,
    "start_time": "2024-12-28T10:28:26.521Z"
   },
   {
    "duration": 24,
    "start_time": "2024-12-28T10:28:26.532Z"
   },
   {
    "duration": 38,
    "start_time": "2024-12-28T10:28:26.558Z"
   },
   {
    "duration": 10,
    "start_time": "2024-12-28T10:28:26.598Z"
   },
   {
    "duration": 10,
    "start_time": "2024-12-28T10:28:26.610Z"
   },
   {
    "duration": 5,
    "start_time": "2024-12-28T10:28:26.622Z"
   },
   {
    "duration": 9,
    "start_time": "2024-12-28T10:28:26.630Z"
   },
   {
    "duration": 48,
    "start_time": "2024-12-28T10:28:26.640Z"
   },
   {
    "duration": 4,
    "start_time": "2024-12-28T10:28:26.690Z"
   },
   {
    "duration": 8,
    "start_time": "2024-12-28T10:28:26.695Z"
   },
   {
    "duration": 4,
    "start_time": "2024-12-28T10:28:26.705Z"
   },
   {
    "duration": 15,
    "start_time": "2024-12-28T10:28:26.711Z"
   },
   {
    "duration": 3,
    "start_time": "2024-12-28T10:28:26.727Z"
   },
   {
    "duration": 198,
    "start_time": "2024-12-28T10:28:26.732Z"
   },
   {
    "duration": 4,
    "start_time": "2024-12-28T10:28:26.932Z"
   },
   {
    "duration": 166,
    "start_time": "2024-12-28T10:28:26.938Z"
   },
   {
    "duration": 3,
    "start_time": "2024-12-28T10:28:27.106Z"
   },
   {
    "duration": 10,
    "start_time": "2024-12-28T10:28:27.110Z"
   },
   {
    "duration": 6,
    "start_time": "2024-12-28T10:28:27.121Z"
   },
   {
    "duration": 249,
    "start_time": "2024-12-28T10:28:27.129Z"
   },
   {
    "duration": 8,
    "start_time": "2024-12-28T10:28:27.381Z"
   },
   {
    "duration": 8,
    "start_time": "2024-12-28T10:28:27.391Z"
   },
   {
    "duration": 14,
    "start_time": "2024-12-28T10:28:27.401Z"
   },
   {
    "duration": 0,
    "start_time": "2024-12-28T10:28:27.417Z"
   },
   {
    "duration": 0,
    "start_time": "2024-12-28T10:28:27.419Z"
   },
   {
    "duration": 0,
    "start_time": "2024-12-28T10:28:27.420Z"
   },
   {
    "duration": 0,
    "start_time": "2024-12-28T10:28:27.421Z"
   },
   {
    "duration": 0,
    "start_time": "2024-12-28T10:28:27.423Z"
   },
   {
    "duration": 0,
    "start_time": "2024-12-28T10:28:27.424Z"
   },
   {
    "duration": 0,
    "start_time": "2024-12-28T10:28:27.425Z"
   },
   {
    "duration": 9,
    "start_time": "2024-12-28T10:29:56.838Z"
   },
   {
    "duration": 14,
    "start_time": "2024-12-28T10:30:05.773Z"
   },
   {
    "duration": 7,
    "start_time": "2024-12-28T10:30:35.566Z"
   },
   {
    "duration": 4,
    "start_time": "2024-12-28T10:31:09.918Z"
   },
   {
    "duration": 6,
    "start_time": "2024-12-28T10:31:29.614Z"
   },
   {
    "duration": 3,
    "start_time": "2024-12-28T10:31:32.890Z"
   },
   {
    "duration": 4,
    "start_time": "2024-12-28T10:31:46.493Z"
   },
   {
    "duration": 3,
    "start_time": "2024-12-28T10:31:48.160Z"
   },
   {
    "duration": 6,
    "start_time": "2024-12-28T10:31:49.707Z"
   },
   {
    "duration": 168,
    "start_time": "2024-12-28T10:31:53.153Z"
   },
   {
    "duration": 7,
    "start_time": "2024-12-28T10:31:57.469Z"
   },
   {
    "duration": 4,
    "start_time": "2024-12-28T10:31:59.826Z"
   },
   {
    "duration": 159,
    "start_time": "2024-12-28T10:32:02.037Z"
   },
   {
    "duration": 4,
    "start_time": "2024-12-28T10:32:09.708Z"
   },
   {
    "duration": 5,
    "start_time": "2024-12-28T10:32:59.492Z"
   },
   {
    "duration": 8,
    "start_time": "2024-12-28T10:33:27.521Z"
   },
   {
    "duration": 6,
    "start_time": "2024-12-28T10:33:32.549Z"
   },
   {
    "duration": 7,
    "start_time": "2024-12-28T10:33:59.339Z"
   },
   {
    "duration": 9,
    "start_time": "2024-12-28T10:34:22.532Z"
   },
   {
    "duration": 8,
    "start_time": "2024-12-28T10:34:33.811Z"
   },
   {
    "duration": 2413,
    "start_time": "2024-12-28T10:34:39.026Z"
   },
   {
    "duration": 157,
    "start_time": "2024-12-28T10:35:51.315Z"
   },
   {
    "duration": 160,
    "start_time": "2024-12-28T10:37:03.711Z"
   },
   {
    "duration": 8,
    "start_time": "2024-12-28T10:37:34.616Z"
   },
   {
    "duration": 219,
    "start_time": "2024-12-28T10:38:39.987Z"
   },
   {
    "duration": 214,
    "start_time": "2024-12-28T10:39:00.272Z"
   },
   {
    "duration": 9,
    "start_time": "2024-12-28T10:40:31.816Z"
   },
   {
    "duration": 8,
    "start_time": "2024-12-28T10:45:26.230Z"
   },
   {
    "duration": 7,
    "start_time": "2024-12-28T10:45:50.932Z"
   },
   {
    "duration": 9,
    "start_time": "2024-12-28T10:46:00.460Z"
   },
   {
    "duration": 10,
    "start_time": "2024-12-28T10:46:13.853Z"
   },
   {
    "duration": 14,
    "start_time": "2024-12-28T11:17:32.423Z"
   },
   {
    "duration": 24,
    "start_time": "2024-12-28T11:17:37.957Z"
   },
   {
    "duration": 21,
    "start_time": "2024-12-28T11:17:41.879Z"
   },
   {
    "duration": 19,
    "start_time": "2024-12-28T11:17:57.871Z"
   },
   {
    "duration": 31,
    "start_time": "2024-12-28T11:18:18.702Z"
   },
   {
    "duration": 104,
    "start_time": "2024-12-28T11:20:56.597Z"
   },
   {
    "duration": 12,
    "start_time": "2024-12-28T11:23:01.620Z"
   },
   {
    "duration": 6,
    "start_time": "2024-12-28T11:28:59.808Z"
   },
   {
    "duration": 4,
    "start_time": "2024-12-28T11:29:27.648Z"
   },
   {
    "duration": 10,
    "start_time": "2024-12-28T11:30:05.978Z"
   },
   {
    "duration": 9,
    "start_time": "2024-12-28T11:30:12.328Z"
   },
   {
    "duration": 10,
    "start_time": "2024-12-28T11:30:35.201Z"
   },
   {
    "duration": 4,
    "start_time": "2024-12-28T11:30:40.884Z"
   },
   {
    "duration": 7,
    "start_time": "2024-12-28T11:32:44.440Z"
   },
   {
    "duration": 2458,
    "start_time": "2024-12-28T13:26:18.996Z"
   },
   {
    "duration": 61,
    "start_time": "2024-12-28T13:26:21.456Z"
   },
   {
    "duration": 15,
    "start_time": "2024-12-28T13:26:21.518Z"
   },
   {
    "duration": 3,
    "start_time": "2024-12-28T13:26:21.535Z"
   },
   {
    "duration": 44,
    "start_time": "2024-12-28T13:26:21.541Z"
   },
   {
    "duration": 25,
    "start_time": "2024-12-28T13:26:21.587Z"
   },
   {
    "duration": 12,
    "start_time": "2024-12-28T13:26:21.613Z"
   },
   {
    "duration": 11,
    "start_time": "2024-12-28T13:26:21.626Z"
   },
   {
    "duration": 26,
    "start_time": "2024-12-28T13:26:21.639Z"
   },
   {
    "duration": 43,
    "start_time": "2024-12-28T13:26:21.666Z"
   },
   {
    "duration": 11,
    "start_time": "2024-12-28T13:26:21.710Z"
   },
   {
    "duration": 9,
    "start_time": "2024-12-28T13:26:21.722Z"
   },
   {
    "duration": 9,
    "start_time": "2024-12-28T13:26:21.733Z"
   },
   {
    "duration": 7,
    "start_time": "2024-12-28T13:26:21.745Z"
   },
   {
    "duration": 14,
    "start_time": "2024-12-28T13:26:21.754Z"
   },
   {
    "duration": 4,
    "start_time": "2024-12-28T13:26:21.769Z"
   },
   {
    "duration": 37,
    "start_time": "2024-12-28T13:26:21.774Z"
   },
   {
    "duration": 4,
    "start_time": "2024-12-28T13:26:21.812Z"
   },
   {
    "duration": 16,
    "start_time": "2024-12-28T13:26:21.818Z"
   },
   {
    "duration": 3,
    "start_time": "2024-12-28T13:26:21.835Z"
   },
   {
    "duration": 189,
    "start_time": "2024-12-28T13:26:21.840Z"
   },
   {
    "duration": 3,
    "start_time": "2024-12-28T13:26:22.031Z"
   },
   {
    "duration": 174,
    "start_time": "2024-12-28T13:26:22.036Z"
   },
   {
    "duration": 3,
    "start_time": "2024-12-28T13:26:22.212Z"
   },
   {
    "duration": 9,
    "start_time": "2024-12-28T13:26:22.217Z"
   },
   {
    "duration": 6,
    "start_time": "2024-12-28T13:26:22.227Z"
   },
   {
    "duration": 191,
    "start_time": "2024-12-28T13:26:22.234Z"
   },
   {
    "duration": 6,
    "start_time": "2024-12-28T13:26:22.427Z"
   },
   {
    "duration": 8,
    "start_time": "2024-12-28T13:26:22.435Z"
   },
   {
    "duration": 3,
    "start_time": "2024-12-28T13:26:22.444Z"
   },
   {
    "duration": 3,
    "start_time": "2024-12-28T13:26:22.449Z"
   },
   {
    "duration": 5,
    "start_time": "2024-12-28T13:26:22.454Z"
   },
   {
    "duration": 200,
    "start_time": "2024-12-28T13:26:22.460Z"
   },
   {
    "duration": 7,
    "start_time": "2024-12-28T13:26:22.662Z"
   },
   {
    "duration": 4,
    "start_time": "2024-12-28T13:26:22.671Z"
   },
   {
    "duration": 181,
    "start_time": "2024-12-28T13:26:22.676Z"
   },
   {
    "duration": 5,
    "start_time": "2024-12-28T13:26:22.858Z"
   },
   {
    "duration": 9,
    "start_time": "2024-12-28T13:26:22.865Z"
   },
   {
    "duration": 49,
    "start_time": "2024-12-28T13:26:22.875Z"
   },
   {
    "duration": 11,
    "start_time": "2024-12-28T13:26:22.925Z"
   },
   {
    "duration": 8,
    "start_time": "2024-12-28T13:26:22.939Z"
   },
   {
    "duration": 4,
    "start_time": "2024-12-28T13:26:22.948Z"
   },
   {
    "duration": 323,
    "start_time": "2024-12-28T13:31:14.832Z"
   },
   {
    "duration": 314,
    "start_time": "2024-12-28T13:32:13.972Z"
   },
   {
    "duration": 308,
    "start_time": "2024-12-28T13:34:05.768Z"
   },
   {
    "duration": 366,
    "start_time": "2024-12-28T13:34:19.464Z"
   },
   {
    "duration": 290,
    "start_time": "2024-12-28T13:34:32.231Z"
   },
   {
    "duration": 327,
    "start_time": "2024-12-28T13:34:51.382Z"
   },
   {
    "duration": 280,
    "start_time": "2024-12-28T13:35:48.761Z"
   },
   {
    "duration": 5,
    "start_time": "2024-12-28T13:39:48.396Z"
   },
   {
    "duration": 10,
    "start_time": "2024-12-28T13:39:51.662Z"
   },
   {
    "duration": 10,
    "start_time": "2024-12-28T13:39:53.803Z"
   },
   {
    "duration": 5,
    "start_time": "2024-12-28T13:39:56.339Z"
   },
   {
    "duration": 294,
    "start_time": "2024-12-28T13:39:57.861Z"
   },
   {
    "duration": 577,
    "start_time": "2024-12-28T13:41:13.908Z"
   },
   {
    "duration": 31,
    "start_time": "2024-12-28T13:49:42.264Z"
   },
   {
    "duration": 11,
    "start_time": "2024-12-28T13:49:47.064Z"
   },
   {
    "duration": 5,
    "start_time": "2024-12-28T13:51:52.907Z"
   },
   {
    "duration": 333,
    "start_time": "2024-12-28T13:51:55.503Z"
   },
   {
    "duration": 44,
    "start_time": "2024-12-28T13:51:58.117Z"
   },
   {
    "duration": 62,
    "start_time": "2024-12-28T14:02:42.192Z"
   },
   {
    "duration": 17,
    "start_time": "2024-12-28T14:05:40.709Z"
   },
   {
    "duration": 292,
    "start_time": "2024-12-28T14:06:20.714Z"
   },
   {
    "duration": 43,
    "start_time": "2024-12-28T14:09:08.351Z"
   },
   {
    "duration": 17,
    "start_time": "2024-12-28T14:09:28.834Z"
   },
   {
    "duration": 13,
    "start_time": "2024-12-28T14:09:38.839Z"
   },
   {
    "duration": 19,
    "start_time": "2024-12-28T14:09:52.398Z"
   },
   {
    "duration": 14,
    "start_time": "2024-12-28T14:10:00.751Z"
   },
   {
    "duration": 13,
    "start_time": "2024-12-28T14:11:55.734Z"
   },
   {
    "duration": 13,
    "start_time": "2024-12-28T14:12:00.831Z"
   },
   {
    "duration": 13,
    "start_time": "2024-12-28T14:12:44.307Z"
   },
   {
    "duration": 14,
    "start_time": "2024-12-28T14:12:56.870Z"
   },
   {
    "duration": 13,
    "start_time": "2024-12-28T14:13:09.811Z"
   },
   {
    "duration": 21,
    "start_time": "2024-12-28T14:14:22.980Z"
   },
   {
    "duration": 9,
    "start_time": "2024-12-28T14:14:56.599Z"
   },
   {
    "duration": 18,
    "start_time": "2024-12-28T14:15:01.356Z"
   },
   {
    "duration": 6,
    "start_time": "2024-12-28T14:15:10.893Z"
   },
   {
    "duration": 9,
    "start_time": "2024-12-28T14:15:14.739Z"
   },
   {
    "duration": 4,
    "start_time": "2024-12-28T14:15:17.108Z"
   },
   {
    "duration": 12,
    "start_time": "2024-12-28T14:17:05.579Z"
   },
   {
    "duration": 7,
    "start_time": "2024-12-28T14:17:11.962Z"
   },
   {
    "duration": 12,
    "start_time": "2024-12-28T14:17:17.677Z"
   },
   {
    "duration": 11,
    "start_time": "2024-12-28T14:17:22.210Z"
   },
   {
    "duration": 5,
    "start_time": "2024-12-28T14:17:25.914Z"
   },
   {
    "duration": 302,
    "start_time": "2024-12-28T14:19:40.816Z"
   },
   {
    "duration": 157,
    "start_time": "2024-12-28T14:46:39.245Z"
   },
   {
    "duration": 2558,
    "start_time": "2024-12-28T14:46:45.548Z"
   },
   {
    "duration": 55,
    "start_time": "2024-12-28T14:46:48.109Z"
   },
   {
    "duration": 14,
    "start_time": "2024-12-28T14:46:48.166Z"
   },
   {
    "duration": 3,
    "start_time": "2024-12-28T14:46:48.183Z"
   },
   {
    "duration": 43,
    "start_time": "2024-12-28T14:46:48.188Z"
   },
   {
    "duration": 9,
    "start_time": "2024-12-28T14:46:48.232Z"
   },
   {
    "duration": 11,
    "start_time": "2024-12-28T14:46:48.243Z"
   },
   {
    "duration": 11,
    "start_time": "2024-12-28T14:46:48.256Z"
   },
   {
    "duration": 50,
    "start_time": "2024-12-28T14:46:48.269Z"
   },
   {
    "duration": 14,
    "start_time": "2024-12-28T14:46:48.323Z"
   },
   {
    "duration": 11,
    "start_time": "2024-12-28T14:46:48.338Z"
   },
   {
    "duration": 9,
    "start_time": "2024-12-28T14:46:48.350Z"
   },
   {
    "duration": 6,
    "start_time": "2024-12-28T14:46:48.361Z"
   },
   {
    "duration": 9,
    "start_time": "2024-12-28T14:46:48.370Z"
   },
   {
    "duration": 13,
    "start_time": "2024-12-28T14:46:48.410Z"
   },
   {
    "duration": 4,
    "start_time": "2024-12-28T14:46:48.424Z"
   },
   {
    "duration": 9,
    "start_time": "2024-12-28T14:46:48.429Z"
   },
   {
    "duration": 4,
    "start_time": "2024-12-28T14:46:48.439Z"
   },
   {
    "duration": 16,
    "start_time": "2024-12-28T14:46:48.444Z"
   },
   {
    "duration": 3,
    "start_time": "2024-12-28T14:46:48.462Z"
   },
   {
    "duration": 206,
    "start_time": "2024-12-28T14:46:48.467Z"
   },
   {
    "duration": 3,
    "start_time": "2024-12-28T14:46:48.675Z"
   },
   {
    "duration": 170,
    "start_time": "2024-12-28T14:46:48.681Z"
   },
   {
    "duration": 3,
    "start_time": "2024-12-28T14:46:48.853Z"
   },
   {
    "duration": 9,
    "start_time": "2024-12-28T14:46:48.858Z"
   },
   {
    "duration": 5,
    "start_time": "2024-12-28T14:46:48.869Z"
   },
   {
    "duration": 253,
    "start_time": "2024-12-28T14:46:48.876Z"
   },
   {
    "duration": 7,
    "start_time": "2024-12-28T14:46:49.133Z"
   },
   {
    "duration": 7,
    "start_time": "2024-12-28T14:46:49.143Z"
   },
   {
    "duration": 4,
    "start_time": "2024-12-28T14:46:49.151Z"
   },
   {
    "duration": 3,
    "start_time": "2024-12-28T14:46:49.156Z"
   },
   {
    "duration": 6,
    "start_time": "2024-12-28T14:46:49.160Z"
   },
   {
    "duration": 203,
    "start_time": "2024-12-28T14:46:49.168Z"
   },
   {
    "duration": 8,
    "start_time": "2024-12-28T14:46:49.374Z"
   },
   {
    "duration": 4,
    "start_time": "2024-12-28T14:46:49.384Z"
   },
   {
    "duration": 185,
    "start_time": "2024-12-28T14:46:49.389Z"
   },
   {
    "duration": 5,
    "start_time": "2024-12-28T14:46:49.575Z"
   },
   {
    "duration": 9,
    "start_time": "2024-12-28T14:46:49.582Z"
   },
   {
    "duration": 28,
    "start_time": "2024-12-28T14:46:49.609Z"
   },
   {
    "duration": 10,
    "start_time": "2024-12-28T14:46:49.639Z"
   },
   {
    "duration": 8,
    "start_time": "2024-12-28T14:46:49.651Z"
   },
   {
    "duration": 4,
    "start_time": "2024-12-28T14:46:49.661Z"
   },
   {
    "duration": 374,
    "start_time": "2024-12-28T14:46:49.667Z"
   },
   {
    "duration": 11,
    "start_time": "2024-12-28T14:46:50.043Z"
   },
   {
    "duration": 10,
    "start_time": "2024-12-28T14:46:50.056Z"
   },
   {
    "duration": 5,
    "start_time": "2024-12-28T14:46:50.067Z"
   },
   {
    "duration": 349,
    "start_time": "2024-12-28T14:46:50.074Z"
   },
   {
    "duration": 14,
    "start_time": "2024-12-28T14:46:50.425Z"
   },
   {
    "duration": 10,
    "start_time": "2024-12-28T14:46:50.441Z"
   },
   {
    "duration": 5,
    "start_time": "2024-12-28T14:46:50.453Z"
   },
   {
    "duration": 300,
    "start_time": "2024-12-28T14:48:26.533Z"
   },
   {
    "duration": 317,
    "start_time": "2024-12-28T14:48:37.904Z"
   },
   {
    "duration": 11,
    "start_time": "2024-12-28T15:08:22.072Z"
   },
   {
    "duration": 14,
    "start_time": "2024-12-28T15:08:22.207Z"
   },
   {
    "duration": 117,
    "start_time": "2024-12-28T15:12:57.348Z"
   },
   {
    "duration": 19,
    "start_time": "2024-12-28T15:13:07.567Z"
   },
   {
    "duration": 389,
    "start_time": "2024-12-28T15:13:26.310Z"
   },
   {
    "duration": 53,
    "start_time": "2024-12-28T15:13:43.918Z"
   },
   {
    "duration": 44,
    "start_time": "2024-12-28T15:16:18.611Z"
   },
   {
    "duration": 6,
    "start_time": "2024-12-28T15:16:48.985Z"
   },
   {
    "duration": 8,
    "start_time": "2024-12-28T15:16:50.191Z"
   },
   {
    "duration": 8,
    "start_time": "2024-12-28T15:16:52.230Z"
   },
   {
    "duration": 14,
    "start_time": "2024-12-28T15:16:55.197Z"
   },
   {
    "duration": 4,
    "start_time": "2024-12-28T15:17:00.309Z"
   },
   {
    "duration": 8,
    "start_time": "2024-12-28T15:17:02.541Z"
   },
   {
    "duration": 4,
    "start_time": "2024-12-28T15:17:07.533Z"
   },
   {
    "duration": 5,
    "start_time": "2024-12-28T15:17:13.777Z"
   },
   {
    "duration": 122,
    "start_time": "2024-12-28T15:17:47.237Z"
   },
   {
    "duration": 112,
    "start_time": "2024-12-28T15:17:59.756Z"
   },
   {
    "duration": 144,
    "start_time": "2024-12-28T15:33:02.946Z"
   },
   {
    "duration": 2,
    "start_time": "2024-12-28T15:33:31.167Z"
   },
   {
    "duration": 189,
    "start_time": "2024-12-28T15:33:56.789Z"
   },
   {
    "duration": 98,
    "start_time": "2024-12-28T15:34:20.287Z"
   },
   {
    "duration": 10,
    "start_time": "2024-12-28T15:34:26.855Z"
   },
   {
    "duration": 6,
    "start_time": "2024-12-28T15:36:29.855Z"
   },
   {
    "duration": 98,
    "start_time": "2024-12-28T15:36:45.285Z"
   },
   {
    "duration": 5,
    "start_time": "2024-12-28T15:37:36.247Z"
   },
   {
    "duration": 4,
    "start_time": "2024-12-28T15:39:18.491Z"
   },
   {
    "duration": 4,
    "start_time": "2024-12-28T15:39:40.408Z"
   },
   {
    "duration": 4,
    "start_time": "2024-12-28T15:39:45.093Z"
   },
   {
    "duration": 4,
    "start_time": "2024-12-28T15:40:30.574Z"
   },
   {
    "duration": 74,
    "start_time": "2024-12-28T15:41:56.988Z"
   },
   {
    "duration": 5,
    "start_time": "2024-12-28T15:42:38.351Z"
   },
   {
    "duration": 11,
    "start_time": "2024-12-28T15:43:24.707Z"
   },
   {
    "duration": 119,
    "start_time": "2024-12-28T15:44:24.458Z"
   },
   {
    "duration": 110,
    "start_time": "2024-12-28T15:44:42.677Z"
   },
   {
    "duration": 115,
    "start_time": "2024-12-28T15:52:16.944Z"
   },
   {
    "duration": 9,
    "start_time": "2024-12-28T15:52:23.704Z"
   },
   {
    "duration": 5,
    "start_time": "2024-12-28T15:55:18.215Z"
   },
   {
    "duration": 10,
    "start_time": "2024-12-28T15:55:22.047Z"
   },
   {
    "duration": 13,
    "start_time": "2024-12-28T15:55:47.151Z"
   },
   {
    "duration": 8,
    "start_time": "2024-12-28T15:56:03.606Z"
   },
   {
    "duration": 8,
    "start_time": "2024-12-28T15:56:05.542Z"
   },
   {
    "duration": 5,
    "start_time": "2024-12-28T15:56:10.038Z"
   },
   {
    "duration": 15,
    "start_time": "2024-12-28T16:22:30.823Z"
   },
   {
    "duration": 12,
    "start_time": "2024-12-28T16:22:42.054Z"
   },
   {
    "duration": 14,
    "start_time": "2024-12-28T16:22:50.952Z"
   },
   {
    "duration": 109,
    "start_time": "2024-12-28T16:23:02.368Z"
   },
   {
    "duration": 15,
    "start_time": "2024-12-28T16:24:17.967Z"
   },
   {
    "duration": 15,
    "start_time": "2024-12-28T16:30:08.222Z"
   },
   {
    "duration": 12,
    "start_time": "2024-12-28T16:30:14.580Z"
   },
   {
    "duration": 6,
    "start_time": "2024-12-28T16:30:45.131Z"
   },
   {
    "duration": 11,
    "start_time": "2024-12-28T16:30:51.621Z"
   },
   {
    "duration": 18,
    "start_time": "2024-12-28T16:31:16.490Z"
   },
   {
    "duration": 15,
    "start_time": "2024-12-28T16:31:22.587Z"
   },
   {
    "duration": 5,
    "start_time": "2024-12-28T16:31:31.325Z"
   },
   {
    "duration": 6,
    "start_time": "2024-12-28T16:31:33.051Z"
   },
   {
    "duration": 15,
    "start_time": "2024-12-28T16:31:34.668Z"
   },
   {
    "duration": 18,
    "start_time": "2024-12-28T16:31:50.706Z"
   },
   {
    "duration": 7,
    "start_time": "2024-12-28T16:32:37.715Z"
   },
   {
    "duration": 15,
    "start_time": "2024-12-28T16:32:39.810Z"
   },
   {
    "duration": 17,
    "start_time": "2024-12-28T16:32:48.977Z"
   },
   {
    "duration": 6,
    "start_time": "2024-12-28T16:32:54.274Z"
   },
   {
    "duration": 15,
    "start_time": "2024-12-28T16:32:56.875Z"
   },
   {
    "duration": 5,
    "start_time": "2024-12-28T16:33:36.084Z"
   },
   {
    "duration": 5,
    "start_time": "2024-12-28T16:33:45.082Z"
   },
   {
    "duration": 15,
    "start_time": "2024-12-28T16:33:47.018Z"
   },
   {
    "duration": 306,
    "start_time": "2024-12-28T16:34:16.378Z"
   },
   {
    "duration": 48,
    "start_time": "2024-12-28T16:39:02.383Z"
   },
   {
    "duration": 21,
    "start_time": "2024-12-28T16:39:44.011Z"
   },
   {
    "duration": 32,
    "start_time": "2024-12-28T16:39:51.856Z"
   },
   {
    "duration": 17,
    "start_time": "2024-12-28T16:40:12.832Z"
   },
   {
    "duration": 163,
    "start_time": "2024-12-28T16:40:19.489Z"
   },
   {
    "duration": 19,
    "start_time": "2024-12-28T16:45:27.564Z"
   },
   {
    "duration": 18,
    "start_time": "2024-12-28T16:45:30.973Z"
   },
   {
    "duration": 10,
    "start_time": "2024-12-28T16:45:55.535Z"
   },
   {
    "duration": 120,
    "start_time": "2024-12-28T16:45:58.550Z"
   },
   {
    "duration": 19,
    "start_time": "2024-12-28T16:46:10.526Z"
   },
   {
    "duration": 3,
    "start_time": "2024-12-28T16:56:22.506Z"
   },
   {
    "duration": 46,
    "start_time": "2024-12-28T16:56:39.186Z"
   },
   {
    "duration": 17,
    "start_time": "2024-12-28T16:57:01.127Z"
   },
   {
    "duration": 49,
    "start_time": "2024-12-28T16:57:09.906Z"
   },
   {
    "duration": 21,
    "start_time": "2024-12-28T16:58:27.277Z"
   },
   {
    "duration": 27,
    "start_time": "2024-12-28T16:58:37.554Z"
   },
   {
    "duration": 2536,
    "start_time": "2024-12-28T17:25:29.135Z"
   },
   {
    "duration": 56,
    "start_time": "2024-12-28T17:25:31.673Z"
   },
   {
    "duration": 14,
    "start_time": "2024-12-28T17:25:31.730Z"
   },
   {
    "duration": 3,
    "start_time": "2024-12-28T17:25:31.747Z"
   },
   {
    "duration": 43,
    "start_time": "2024-12-28T17:25:31.751Z"
   },
   {
    "duration": 9,
    "start_time": "2024-12-28T17:25:31.795Z"
   },
   {
    "duration": 10,
    "start_time": "2024-12-28T17:25:31.806Z"
   },
   {
    "duration": 26,
    "start_time": "2024-12-28T17:25:31.817Z"
   },
   {
    "duration": 26,
    "start_time": "2024-12-28T17:25:31.845Z"
   },
   {
    "duration": 13,
    "start_time": "2024-12-28T17:25:31.874Z"
   },
   {
    "duration": 10,
    "start_time": "2024-12-28T17:25:31.889Z"
   },
   {
    "duration": 9,
    "start_time": "2024-12-28T17:25:31.901Z"
   },
   {
    "duration": 38,
    "start_time": "2024-12-28T17:25:31.912Z"
   },
   {
    "duration": 8,
    "start_time": "2024-12-28T17:25:31.951Z"
   },
   {
    "duration": 14,
    "start_time": "2024-12-28T17:25:31.961Z"
   },
   {
    "duration": 3,
    "start_time": "2024-12-28T17:25:31.977Z"
   },
   {
    "duration": 8,
    "start_time": "2024-12-28T17:25:31.982Z"
   },
   {
    "duration": 4,
    "start_time": "2024-12-28T17:25:31.991Z"
   },
   {
    "duration": 48,
    "start_time": "2024-12-28T17:25:31.997Z"
   },
   {
    "duration": 3,
    "start_time": "2024-12-28T17:25:32.047Z"
   },
   {
    "duration": 178,
    "start_time": "2024-12-28T17:25:32.051Z"
   },
   {
    "duration": 3,
    "start_time": "2024-12-28T17:25:32.231Z"
   },
   {
    "duration": 161,
    "start_time": "2024-12-28T17:25:32.243Z"
   },
   {
    "duration": 2,
    "start_time": "2024-12-28T17:25:32.406Z"
   },
   {
    "duration": 9,
    "start_time": "2024-12-28T17:25:32.410Z"
   },
   {
    "duration": 22,
    "start_time": "2024-12-28T17:25:32.421Z"
   },
   {
    "duration": 190,
    "start_time": "2024-12-28T17:25:32.444Z"
   },
   {
    "duration": 6,
    "start_time": "2024-12-28T17:25:32.643Z"
   },
   {
    "duration": 8,
    "start_time": "2024-12-28T17:25:32.651Z"
   },
   {
    "duration": 3,
    "start_time": "2024-12-28T17:25:32.660Z"
   },
   {
    "duration": 3,
    "start_time": "2024-12-28T17:25:32.666Z"
   },
   {
    "duration": 7,
    "start_time": "2024-12-28T17:25:32.671Z"
   },
   {
    "duration": 195,
    "start_time": "2024-12-28T17:25:32.679Z"
   },
   {
    "duration": 8,
    "start_time": "2024-12-28T17:25:32.876Z"
   },
   {
    "duration": 4,
    "start_time": "2024-12-28T17:25:32.885Z"
   },
   {
    "duration": 191,
    "start_time": "2024-12-28T17:25:32.890Z"
   },
   {
    "duration": 4,
    "start_time": "2024-12-28T17:25:33.084Z"
   },
   {
    "duration": 9,
    "start_time": "2024-12-28T17:25:33.090Z"
   },
   {
    "duration": 94,
    "start_time": "2024-12-28T17:25:33.101Z"
   },
   {
    "duration": 7,
    "start_time": "2024-12-28T17:25:33.196Z"
   },
   {
    "duration": 12,
    "start_time": "2024-12-28T17:25:33.204Z"
   },
   {
    "duration": 28,
    "start_time": "2024-12-28T17:25:33.217Z"
   },
   {
    "duration": 8,
    "start_time": "2024-12-28T17:25:33.247Z"
   },
   {
    "duration": 5,
    "start_time": "2024-12-28T17:25:33.256Z"
   },
   {
    "duration": 324,
    "start_time": "2024-12-28T17:25:33.262Z"
   },
   {
    "duration": 12,
    "start_time": "2024-12-28T17:25:33.588Z"
   },
   {
    "duration": 8,
    "start_time": "2024-12-28T17:25:33.601Z"
   },
   {
    "duration": 4,
    "start_time": "2024-12-28T17:25:33.611Z"
   },
   {
    "duration": 333,
    "start_time": "2024-12-28T17:25:33.617Z"
   },
   {
    "duration": 11,
    "start_time": "2024-12-28T17:25:33.952Z"
   },
   {
    "duration": 9,
    "start_time": "2024-12-28T17:25:33.965Z"
   },
   {
    "duration": 4,
    "start_time": "2024-12-28T17:25:33.976Z"
   },
   {
    "duration": 330,
    "start_time": "2024-12-28T17:25:33.982Z"
   },
   {
    "duration": 5,
    "start_time": "2024-12-28T17:25:34.314Z"
   },
   {
    "duration": 121,
    "start_time": "2024-12-28T17:25:34.321Z"
   },
   {
    "duration": 6,
    "start_time": "2024-12-28T17:25:34.444Z"
   },
   {
    "duration": 105,
    "start_time": "2024-12-28T17:25:34.452Z"
   },
   {
    "duration": 4,
    "start_time": "2024-12-28T17:25:34.558Z"
   },
   {
    "duration": 4,
    "start_time": "2024-12-28T17:25:34.563Z"
   },
   {
    "duration": 5,
    "start_time": "2024-12-28T17:25:34.569Z"
   },
   {
    "duration": 112,
    "start_time": "2024-12-28T17:25:34.576Z"
   },
   {
    "duration": 5,
    "start_time": "2024-12-28T17:25:34.690Z"
   },
   {
    "duration": 10,
    "start_time": "2024-12-28T17:25:34.697Z"
   },
   {
    "duration": 35,
    "start_time": "2024-12-28T17:25:34.709Z"
   },
   {
    "duration": 119,
    "start_time": "2024-12-28T17:25:34.745Z"
   },
   {
    "duration": 13,
    "start_time": "2024-12-28T17:25:34.866Z"
   },
   {
    "duration": 128,
    "start_time": "2024-12-28T17:25:34.881Z"
   },
   {
    "duration": 33,
    "start_time": "2024-12-28T17:25:35.010Z"
   },
   {
    "duration": 283,
    "start_time": "2024-12-28T17:26:22.278Z"
   },
   {
    "duration": 22,
    "start_time": "2024-12-28T17:26:33.432Z"
   },
   {
    "duration": 14,
    "start_time": "2024-12-28T17:29:16.780Z"
   },
   {
    "duration": 13,
    "start_time": "2024-12-28T17:29:20.405Z"
   },
   {
    "duration": 10,
    "start_time": "2024-12-28T17:29:24.387Z"
   },
   {
    "duration": 2,
    "start_time": "2024-12-28T17:29:44.773Z"
   },
   {
    "duration": 4,
    "start_time": "2024-12-28T17:29:48.532Z"
   },
   {
    "duration": 8,
    "start_time": "2024-12-28T17:30:03.680Z"
   },
   {
    "duration": 9,
    "start_time": "2024-12-28T17:30:52.348Z"
   },
   {
    "duration": 5,
    "start_time": "2024-12-28T17:31:05.147Z"
   },
   {
    "duration": 5,
    "start_time": "2024-12-28T17:31:56.133Z"
   },
   {
    "duration": 10,
    "start_time": "2024-12-28T17:42:05.817Z"
   },
   {
    "duration": 24,
    "start_time": "2024-12-28T17:42:59.975Z"
   },
   {
    "duration": 3,
    "start_time": "2024-12-28T17:43:28.885Z"
   },
   {
    "duration": 13,
    "start_time": "2024-12-28T17:43:33.419Z"
   },
   {
    "duration": 5,
    "start_time": "2024-12-28T17:44:19.323Z"
   },
   {
    "duration": 2574,
    "start_time": "2024-12-28T20:51:09.167Z"
   },
   {
    "duration": 57,
    "start_time": "2024-12-28T20:51:11.743Z"
   },
   {
    "duration": 17,
    "start_time": "2024-12-28T20:51:11.801Z"
   },
   {
    "duration": 3,
    "start_time": "2024-12-28T20:51:11.821Z"
   },
   {
    "duration": 43,
    "start_time": "2024-12-28T20:51:11.826Z"
   },
   {
    "duration": 8,
    "start_time": "2024-12-28T20:51:11.871Z"
   },
   {
    "duration": 27,
    "start_time": "2024-12-28T20:51:11.880Z"
   },
   {
    "duration": 11,
    "start_time": "2024-12-28T20:51:11.908Z"
   },
   {
    "duration": 27,
    "start_time": "2024-12-28T20:51:11.920Z"
   },
   {
    "duration": 12,
    "start_time": "2024-12-28T20:51:11.952Z"
   },
   {
    "duration": 39,
    "start_time": "2024-12-28T20:51:11.966Z"
   },
   {
    "duration": 10,
    "start_time": "2024-12-28T20:51:12.007Z"
   },
   {
    "duration": 9,
    "start_time": "2024-12-28T20:51:12.019Z"
   },
   {
    "duration": 8,
    "start_time": "2024-12-28T20:51:12.029Z"
   },
   {
    "duration": 13,
    "start_time": "2024-12-28T20:51:12.039Z"
   },
   {
    "duration": 4,
    "start_time": "2024-12-28T20:51:12.053Z"
   },
   {
    "duration": 9,
    "start_time": "2024-12-28T20:51:12.058Z"
   },
   {
    "duration": 39,
    "start_time": "2024-12-28T20:51:12.068Z"
   },
   {
    "duration": 16,
    "start_time": "2024-12-28T20:51:12.108Z"
   },
   {
    "duration": 4,
    "start_time": "2024-12-28T20:51:12.125Z"
   },
   {
    "duration": 188,
    "start_time": "2024-12-28T20:51:12.130Z"
   },
   {
    "duration": 3,
    "start_time": "2024-12-28T20:51:12.320Z"
   },
   {
    "duration": 192,
    "start_time": "2024-12-28T20:51:12.325Z"
   },
   {
    "duration": 3,
    "start_time": "2024-12-28T20:51:12.519Z"
   },
   {
    "duration": 9,
    "start_time": "2024-12-28T20:51:12.524Z"
   },
   {
    "duration": 5,
    "start_time": "2024-12-28T20:51:12.536Z"
   },
   {
    "duration": 194,
    "start_time": "2024-12-28T20:51:12.543Z"
   },
   {
    "duration": 6,
    "start_time": "2024-12-28T20:51:12.741Z"
   },
   {
    "duration": 7,
    "start_time": "2024-12-28T20:51:12.749Z"
   },
   {
    "duration": 4,
    "start_time": "2024-12-28T20:51:12.757Z"
   },
   {
    "duration": 3,
    "start_time": "2024-12-28T20:51:12.762Z"
   },
   {
    "duration": 6,
    "start_time": "2024-12-28T20:51:12.766Z"
   },
   {
    "duration": 176,
    "start_time": "2024-12-28T20:51:12.804Z"
   },
   {
    "duration": 6,
    "start_time": "2024-12-28T20:51:12.982Z"
   },
   {
    "duration": 17,
    "start_time": "2024-12-28T20:51:12.990Z"
   },
   {
    "duration": 172,
    "start_time": "2024-12-28T20:51:13.008Z"
   },
   {
    "duration": 4,
    "start_time": "2024-12-28T20:51:13.182Z"
   },
   {
    "duration": 26,
    "start_time": "2024-12-28T20:51:13.188Z"
   },
   {
    "duration": 30,
    "start_time": "2024-12-28T20:51:13.216Z"
   },
   {
    "duration": 5,
    "start_time": "2024-12-28T20:51:13.248Z"
   },
   {
    "duration": 12,
    "start_time": "2024-12-28T20:51:13.255Z"
   },
   {
    "duration": 6,
    "start_time": "2024-12-28T20:51:13.269Z"
   },
   {
    "duration": 12,
    "start_time": "2024-12-28T20:51:13.306Z"
   },
   {
    "duration": 6,
    "start_time": "2024-12-28T20:51:13.320Z"
   },
   {
    "duration": 379,
    "start_time": "2024-12-28T20:51:13.327Z"
   },
   {
    "duration": 11,
    "start_time": "2024-12-28T20:51:13.708Z"
   },
   {
    "duration": 8,
    "start_time": "2024-12-28T20:51:13.720Z"
   },
   {
    "duration": 4,
    "start_time": "2024-12-28T20:51:13.731Z"
   },
   {
    "duration": 299,
    "start_time": "2024-12-28T20:51:13.737Z"
   },
   {
    "duration": 13,
    "start_time": "2024-12-28T20:51:14.038Z"
   },
   {
    "duration": 10,
    "start_time": "2024-12-28T20:51:14.053Z"
   },
   {
    "duration": 5,
    "start_time": "2024-12-28T20:51:14.064Z"
   },
   {
    "duration": 364,
    "start_time": "2024-12-28T20:51:14.070Z"
   },
   {
    "duration": 6,
    "start_time": "2024-12-28T20:51:14.435Z"
   },
   {
    "duration": 115,
    "start_time": "2024-12-28T20:51:14.443Z"
   },
   {
    "duration": 7,
    "start_time": "2024-12-28T20:51:14.560Z"
   },
   {
    "duration": 112,
    "start_time": "2024-12-28T20:51:14.568Z"
   },
   {
    "duration": 4,
    "start_time": "2024-12-28T20:51:14.682Z"
   },
   {
    "duration": 17,
    "start_time": "2024-12-28T20:51:14.688Z"
   },
   {
    "duration": 5,
    "start_time": "2024-12-28T20:51:14.706Z"
   },
   {
    "duration": 73,
    "start_time": "2024-12-28T20:51:14.712Z"
   },
   {
    "duration": 18,
    "start_time": "2024-12-28T20:51:14.787Z"
   },
   {
    "duration": 11,
    "start_time": "2024-12-28T20:51:14.807Z"
   },
   {
    "duration": 14,
    "start_time": "2024-12-28T20:51:14.820Z"
   },
   {
    "duration": 133,
    "start_time": "2024-12-28T20:51:14.835Z"
   },
   {
    "duration": 13,
    "start_time": "2024-12-28T20:51:14.971Z"
   },
   {
    "duration": 130,
    "start_time": "2024-12-28T20:51:14.986Z"
   },
   {
    "duration": 28,
    "start_time": "2024-12-28T20:51:15.119Z"
   },
   {
    "duration": 11,
    "start_time": "2024-12-28T20:51:15.149Z"
   },
   {
    "duration": 10,
    "start_time": "2024-12-28T20:51:15.161Z"
   },
   {
    "duration": 33,
    "start_time": "2024-12-28T20:51:15.172Z"
   },
   {
    "duration": 6,
    "start_time": "2024-12-28T20:51:15.207Z"
   },
   {
    "duration": 15,
    "start_time": "2024-12-28T20:51:15.215Z"
   },
   {
    "duration": 7,
    "start_time": "2024-12-28T20:57:37.838Z"
   },
   {
    "duration": 20,
    "start_time": "2024-12-28T20:58:23.932Z"
   },
   {
    "duration": 8478,
    "start_time": "2024-12-28T21:05:39.411Z"
   },
   {
    "duration": 303,
    "start_time": "2024-12-28T21:06:13.859Z"
   },
   {
    "duration": 15,
    "start_time": "2024-12-28T21:06:18.372Z"
   },
   {
    "duration": 16,
    "start_time": "2024-12-28T21:08:31.623Z"
   },
   {
    "duration": 159,
    "start_time": "2024-12-28T21:08:35.609Z"
   },
   {
    "duration": 3,
    "start_time": "2024-12-28T21:09:02.777Z"
   },
   {
    "duration": 11,
    "start_time": "2024-12-28T21:09:22.942Z"
   },
   {
    "duration": 2,
    "start_time": "2024-12-28T21:13:37.685Z"
   },
   {
    "duration": 3,
    "start_time": "2024-12-28T21:14:28.577Z"
   },
   {
    "duration": 2,
    "start_time": "2024-12-28T21:58:03.086Z"
   },
   {
    "duration": 2578,
    "start_time": "2024-12-29T22:05:29.278Z"
   },
   {
    "duration": 58,
    "start_time": "2024-12-29T22:05:31.858Z"
   },
   {
    "duration": 15,
    "start_time": "2024-12-29T22:05:31.918Z"
   },
   {
    "duration": 3,
    "start_time": "2024-12-29T22:05:31.936Z"
   },
   {
    "duration": 43,
    "start_time": "2024-12-29T22:05:31.940Z"
   },
   {
    "duration": 25,
    "start_time": "2024-12-29T22:05:31.985Z"
   },
   {
    "duration": 11,
    "start_time": "2024-12-29T22:05:32.012Z"
   },
   {
    "duration": 10,
    "start_time": "2024-12-29T22:05:32.025Z"
   },
   {
    "duration": 30,
    "start_time": "2024-12-29T22:05:32.037Z"
   },
   {
    "duration": 43,
    "start_time": "2024-12-29T22:05:32.071Z"
   },
   {
    "duration": 12,
    "start_time": "2024-12-29T22:05:32.116Z"
   },
   {
    "duration": 10,
    "start_time": "2024-12-29T22:05:32.129Z"
   },
   {
    "duration": 8,
    "start_time": "2024-12-29T22:05:32.140Z"
   },
   {
    "duration": 8,
    "start_time": "2024-12-29T22:05:32.150Z"
   },
   {
    "duration": 13,
    "start_time": "2024-12-29T22:05:32.159Z"
   },
   {
    "duration": 33,
    "start_time": "2024-12-29T22:05:32.174Z"
   },
   {
    "duration": 9,
    "start_time": "2024-12-29T22:05:32.210Z"
   },
   {
    "duration": 4,
    "start_time": "2024-12-29T22:05:32.221Z"
   },
   {
    "duration": 17,
    "start_time": "2024-12-29T22:05:32.227Z"
   },
   {
    "duration": 3,
    "start_time": "2024-12-29T22:05:32.245Z"
   },
   {
    "duration": 214,
    "start_time": "2024-12-29T22:05:32.250Z"
   },
   {
    "duration": 3,
    "start_time": "2024-12-29T22:05:32.466Z"
   },
   {
    "duration": 184,
    "start_time": "2024-12-29T22:05:32.471Z"
   },
   {
    "duration": 2,
    "start_time": "2024-12-29T22:05:32.657Z"
   },
   {
    "duration": 10,
    "start_time": "2024-12-29T22:05:32.661Z"
   },
   {
    "duration": 6,
    "start_time": "2024-12-29T22:05:32.673Z"
   },
   {
    "duration": 208,
    "start_time": "2024-12-29T22:05:32.680Z"
   },
   {
    "duration": 15,
    "start_time": "2024-12-29T22:05:32.894Z"
   },
   {
    "duration": 10,
    "start_time": "2024-12-29T22:05:32.911Z"
   },
   {
    "duration": 3,
    "start_time": "2024-12-29T22:05:32.923Z"
   },
   {
    "duration": 4,
    "start_time": "2024-12-29T22:05:32.928Z"
   },
   {
    "duration": 5,
    "start_time": "2024-12-29T22:05:32.934Z"
   },
   {
    "duration": 189,
    "start_time": "2024-12-29T22:05:32.940Z"
   },
   {
    "duration": 8,
    "start_time": "2024-12-29T22:05:33.130Z"
   },
   {
    "duration": 3,
    "start_time": "2024-12-29T22:05:33.140Z"
   },
   {
    "duration": 182,
    "start_time": "2024-12-29T22:05:33.145Z"
   },
   {
    "duration": 4,
    "start_time": "2024-12-29T22:05:33.329Z"
   },
   {
    "duration": 9,
    "start_time": "2024-12-29T22:05:33.335Z"
   },
   {
    "duration": 28,
    "start_time": "2024-12-29T22:05:33.346Z"
   },
   {
    "duration": 32,
    "start_time": "2024-12-29T22:05:33.376Z"
   },
   {
    "duration": 13,
    "start_time": "2024-12-29T22:05:33.410Z"
   },
   {
    "duration": 7,
    "start_time": "2024-12-29T22:05:33.425Z"
   },
   {
    "duration": 9,
    "start_time": "2024-12-29T22:05:33.434Z"
   },
   {
    "duration": 5,
    "start_time": "2024-12-29T22:05:33.445Z"
   },
   {
    "duration": 392,
    "start_time": "2024-12-29T22:05:33.452Z"
   },
   {
    "duration": 11,
    "start_time": "2024-12-29T22:05:33.846Z"
   },
   {
    "duration": 9,
    "start_time": "2024-12-29T22:05:33.859Z"
   },
   {
    "duration": 4,
    "start_time": "2024-12-29T22:05:33.870Z"
   },
   {
    "duration": 377,
    "start_time": "2024-12-29T22:05:33.875Z"
   },
   {
    "duration": 12,
    "start_time": "2024-12-29T22:05:34.254Z"
   },
   {
    "duration": 8,
    "start_time": "2024-12-29T22:05:34.267Z"
   },
   {
    "duration": 4,
    "start_time": "2024-12-29T22:05:34.277Z"
   },
   {
    "duration": 337,
    "start_time": "2024-12-29T22:05:34.283Z"
   },
   {
    "duration": 6,
    "start_time": "2024-12-29T22:05:34.622Z"
   },
   {
    "duration": 117,
    "start_time": "2024-12-29T22:05:34.630Z"
   },
   {
    "duration": 6,
    "start_time": "2024-12-29T22:05:34.749Z"
   },
   {
    "duration": 113,
    "start_time": "2024-12-29T22:05:34.756Z"
   },
   {
    "duration": 4,
    "start_time": "2024-12-29T22:05:34.871Z"
   },
   {
    "duration": 4,
    "start_time": "2024-12-29T22:05:34.877Z"
   },
   {
    "duration": 23,
    "start_time": "2024-12-29T22:05:34.883Z"
   },
   {
    "duration": 75,
    "start_time": "2024-12-29T22:05:34.908Z"
   },
   {
    "duration": 20,
    "start_time": "2024-12-29T22:05:34.985Z"
   },
   {
    "duration": 10,
    "start_time": "2024-12-29T22:05:35.006Z"
   },
   {
    "duration": 14,
    "start_time": "2024-12-29T22:05:35.018Z"
   },
   {
    "duration": 131,
    "start_time": "2024-12-29T22:05:35.034Z"
   },
   {
    "duration": 13,
    "start_time": "2024-12-29T22:05:35.167Z"
   },
   {
    "duration": 133,
    "start_time": "2024-12-29T22:05:35.182Z"
   },
   {
    "duration": 144,
    "start_time": "2024-12-29T22:05:35.317Z"
   },
   {
    "duration": 27,
    "start_time": "2024-12-29T22:05:35.462Z"
   },
   {
    "duration": 21,
    "start_time": "2024-12-29T22:05:35.491Z"
   },
   {
    "duration": 9,
    "start_time": "2024-12-29T22:05:35.514Z"
   },
   {
    "duration": 4,
    "start_time": "2024-12-29T22:05:35.525Z"
   },
   {
    "duration": 6,
    "start_time": "2024-12-29T22:05:35.531Z"
   },
   {
    "duration": 13,
    "start_time": "2024-12-29T22:05:35.539Z"
   },
   {
    "duration": 2541,
    "start_time": "2024-12-30T11:19:22.965Z"
   },
   {
    "duration": 62,
    "start_time": "2024-12-30T11:19:25.508Z"
   },
   {
    "duration": 17,
    "start_time": "2024-12-30T11:19:25.571Z"
   },
   {
    "duration": 3,
    "start_time": "2024-12-30T11:19:25.591Z"
   },
   {
    "duration": 44,
    "start_time": "2024-12-30T11:19:25.596Z"
   },
   {
    "duration": 34,
    "start_time": "2024-12-30T11:19:25.642Z"
   },
   {
    "duration": 16,
    "start_time": "2024-12-30T11:19:25.678Z"
   },
   {
    "duration": 15,
    "start_time": "2024-12-30T11:19:25.696Z"
   },
   {
    "duration": 39,
    "start_time": "2024-12-30T11:19:25.712Z"
   },
   {
    "duration": 23,
    "start_time": "2024-12-30T11:19:25.774Z"
   },
   {
    "duration": 15,
    "start_time": "2024-12-30T11:19:25.800Z"
   },
   {
    "duration": 9,
    "start_time": "2024-12-30T11:19:25.817Z"
   },
   {
    "duration": 8,
    "start_time": "2024-12-30T11:19:25.828Z"
   },
   {
    "duration": 32,
    "start_time": "2024-12-30T11:19:25.838Z"
   },
   {
    "duration": 17,
    "start_time": "2024-12-30T11:19:25.872Z"
   },
   {
    "duration": 4,
    "start_time": "2024-12-30T11:19:25.891Z"
   },
   {
    "duration": 10,
    "start_time": "2024-12-30T11:19:25.897Z"
   },
   {
    "duration": 4,
    "start_time": "2024-12-30T11:19:25.909Z"
   },
   {
    "duration": 24,
    "start_time": "2024-12-30T11:19:25.915Z"
   },
   {
    "duration": 3,
    "start_time": "2024-12-30T11:19:25.971Z"
   },
   {
    "duration": 201,
    "start_time": "2024-12-30T11:19:25.976Z"
   },
   {
    "duration": 4,
    "start_time": "2024-12-30T11:19:26.179Z"
   },
   {
    "duration": 189,
    "start_time": "2024-12-30T11:19:26.185Z"
   },
   {
    "duration": 3,
    "start_time": "2024-12-30T11:19:26.376Z"
   },
   {
    "duration": 10,
    "start_time": "2024-12-30T11:19:26.380Z"
   },
   {
    "duration": 7,
    "start_time": "2024-12-30T11:19:26.392Z"
   },
   {
    "duration": 240,
    "start_time": "2024-12-30T11:19:26.400Z"
   },
   {
    "duration": 7,
    "start_time": "2024-12-30T11:19:26.645Z"
   },
   {
    "duration": 20,
    "start_time": "2024-12-30T11:19:26.655Z"
   },
   {
    "duration": 5,
    "start_time": "2024-12-30T11:19:26.677Z"
   },
   {
    "duration": 3,
    "start_time": "2024-12-30T11:19:26.684Z"
   },
   {
    "duration": 6,
    "start_time": "2024-12-30T11:19:26.689Z"
   },
   {
    "duration": 194,
    "start_time": "2024-12-30T11:19:26.696Z"
   },
   {
    "duration": 8,
    "start_time": "2024-12-30T11:19:26.892Z"
   },
   {
    "duration": 4,
    "start_time": "2024-12-30T11:19:26.901Z"
   },
   {
    "duration": 186,
    "start_time": "2024-12-30T11:19:26.906Z"
   },
   {
    "duration": 4,
    "start_time": "2024-12-30T11:19:27.094Z"
   },
   {
    "duration": 9,
    "start_time": "2024-12-30T11:19:27.100Z"
   },
   {
    "duration": 116,
    "start_time": "2024-12-30T11:19:27.111Z"
   },
   {
    "duration": 7,
    "start_time": "2024-12-30T11:19:27.229Z"
   },
   {
    "duration": 12,
    "start_time": "2024-12-30T11:19:27.237Z"
   },
   {
    "duration": 28,
    "start_time": "2024-12-30T11:19:27.250Z"
   },
   {
    "duration": 10,
    "start_time": "2024-12-30T11:19:27.279Z"
   },
   {
    "duration": 4,
    "start_time": "2024-12-30T11:19:27.290Z"
   },
   {
    "duration": 319,
    "start_time": "2024-12-30T11:19:27.296Z"
   },
   {
    "duration": 15,
    "start_time": "2024-12-30T11:19:27.617Z"
   },
   {
    "duration": 10,
    "start_time": "2024-12-30T11:19:27.635Z"
   },
   {
    "duration": 23,
    "start_time": "2024-12-30T11:19:27.647Z"
   },
   {
    "duration": 327,
    "start_time": "2024-12-30T11:19:27.673Z"
   },
   {
    "duration": 14,
    "start_time": "2024-12-30T11:19:28.003Z"
   },
   {
    "duration": 10,
    "start_time": "2024-12-30T11:19:28.018Z"
   },
   {
    "duration": 6,
    "start_time": "2024-12-30T11:19:28.031Z"
   },
   {
    "duration": 355,
    "start_time": "2024-12-30T11:19:28.040Z"
   },
   {
    "duration": 5,
    "start_time": "2024-12-30T11:19:28.398Z"
   },
   {
    "duration": 148,
    "start_time": "2024-12-30T11:19:28.405Z"
   },
   {
    "duration": 17,
    "start_time": "2024-12-30T11:19:28.555Z"
   },
   {
    "duration": 106,
    "start_time": "2024-12-30T11:19:28.574Z"
   },
   {
    "duration": 4,
    "start_time": "2024-12-30T11:19:28.683Z"
   },
   {
    "duration": 5,
    "start_time": "2024-12-30T11:19:28.689Z"
   },
   {
    "duration": 5,
    "start_time": "2024-12-30T11:19:28.695Z"
   },
   {
    "duration": 97,
    "start_time": "2024-12-30T11:19:28.702Z"
   },
   {
    "duration": 7,
    "start_time": "2024-12-30T11:19:28.801Z"
   },
   {
    "duration": 14,
    "start_time": "2024-12-30T11:19:28.809Z"
   },
   {
    "duration": 17,
    "start_time": "2024-12-30T11:19:28.825Z"
   },
   {
    "duration": 180,
    "start_time": "2024-12-30T11:19:28.845Z"
   },
   {
    "duration": 14,
    "start_time": "2024-12-30T11:19:29.026Z"
   },
   {
    "duration": 133,
    "start_time": "2024-12-30T11:19:29.042Z"
   },
   {
    "duration": 140,
    "start_time": "2024-12-30T11:19:29.177Z"
   },
   {
    "duration": 28,
    "start_time": "2024-12-30T11:19:29.319Z"
   },
   {
    "duration": 27,
    "start_time": "2024-12-30T11:19:29.349Z"
   },
   {
    "duration": 10,
    "start_time": "2024-12-30T11:19:29.378Z"
   },
   {
    "duration": 5,
    "start_time": "2024-12-30T11:19:29.389Z"
   },
   {
    "duration": 6,
    "start_time": "2024-12-30T11:19:29.395Z"
   },
   {
    "duration": 13,
    "start_time": "2024-12-30T11:19:29.403Z"
   },
   {
    "duration": 5,
    "start_time": "2024-12-30T11:20:04.614Z"
   },
   {
    "duration": 6,
    "start_time": "2024-12-30T11:21:47.878Z"
   },
   {
    "duration": 5,
    "start_time": "2024-12-30T11:28:35.281Z"
   },
   {
    "duration": 5,
    "start_time": "2024-12-30T12:29:34.675Z"
   },
   {
    "duration": 2584,
    "start_time": "2024-12-30T14:54:43.781Z"
   },
   {
    "duration": 58,
    "start_time": "2024-12-30T14:54:46.370Z"
   },
   {
    "duration": 15,
    "start_time": "2024-12-30T14:54:46.429Z"
   },
   {
    "duration": 3,
    "start_time": "2024-12-30T14:54:46.447Z"
   },
   {
    "duration": 42,
    "start_time": "2024-12-30T14:54:46.452Z"
   },
   {
    "duration": 10,
    "start_time": "2024-12-30T14:54:46.496Z"
   },
   {
    "duration": 10,
    "start_time": "2024-12-30T14:54:46.508Z"
   },
   {
    "duration": 12,
    "start_time": "2024-12-30T14:54:46.520Z"
   },
   {
    "duration": 59,
    "start_time": "2024-12-30T14:54:46.534Z"
   },
   {
    "duration": 14,
    "start_time": "2024-12-30T14:54:46.597Z"
   },
   {
    "duration": 11,
    "start_time": "2024-12-30T14:54:46.613Z"
   },
   {
    "duration": 10,
    "start_time": "2024-12-30T14:54:46.626Z"
   },
   {
    "duration": 8,
    "start_time": "2024-12-30T14:54:46.637Z"
   },
   {
    "duration": 31,
    "start_time": "2024-12-30T14:54:46.646Z"
   },
   {
    "duration": 15,
    "start_time": "2024-12-30T14:54:46.679Z"
   },
   {
    "duration": 4,
    "start_time": "2024-12-30T14:54:46.696Z"
   },
   {
    "duration": 8,
    "start_time": "2024-12-30T14:54:46.703Z"
   },
   {
    "duration": 4,
    "start_time": "2024-12-30T14:54:46.712Z"
   },
   {
    "duration": 52,
    "start_time": "2024-12-30T14:54:46.719Z"
   },
   {
    "duration": 4,
    "start_time": "2024-12-30T14:54:46.773Z"
   },
   {
    "duration": 186,
    "start_time": "2024-12-30T14:54:46.778Z"
   },
   {
    "duration": 3,
    "start_time": "2024-12-30T14:54:46.970Z"
   },
   {
    "duration": 170,
    "start_time": "2024-12-30T14:54:46.975Z"
   },
   {
    "duration": 5,
    "start_time": "2024-12-30T14:54:47.147Z"
   },
   {
    "duration": 17,
    "start_time": "2024-12-30T14:54:47.153Z"
   },
   {
    "duration": 18,
    "start_time": "2024-12-30T14:54:47.176Z"
   },
   {
    "duration": 5,
    "start_time": "2024-12-30T14:54:47.196Z"
   },
   {
    "duration": 184,
    "start_time": "2024-12-30T14:54:47.206Z"
   },
   {
    "duration": 7,
    "start_time": "2024-12-30T14:54:47.391Z"
   },
   {
    "duration": 7,
    "start_time": "2024-12-30T14:54:47.400Z"
   },
   {
    "duration": 3,
    "start_time": "2024-12-30T14:54:47.408Z"
   },
   {
    "duration": 3,
    "start_time": "2024-12-30T14:54:47.413Z"
   },
   {
    "duration": 6,
    "start_time": "2024-12-30T14:54:47.417Z"
   },
   {
    "duration": 247,
    "start_time": "2024-12-30T14:54:47.424Z"
   },
   {
    "duration": 8,
    "start_time": "2024-12-30T14:54:47.673Z"
   },
   {
    "duration": 3,
    "start_time": "2024-12-30T14:54:47.682Z"
   },
   {
    "duration": 185,
    "start_time": "2024-12-30T14:54:47.687Z"
   },
   {
    "duration": 5,
    "start_time": "2024-12-30T14:54:47.874Z"
   },
   {
    "duration": 10,
    "start_time": "2024-12-30T14:54:47.880Z"
   },
   {
    "duration": 28,
    "start_time": "2024-12-30T14:54:47.891Z"
   },
   {
    "duration": 6,
    "start_time": "2024-12-30T14:54:47.921Z"
   },
   {
    "duration": 42,
    "start_time": "2024-12-30T14:54:47.929Z"
   },
   {
    "duration": 7,
    "start_time": "2024-12-30T14:54:47.973Z"
   },
   {
    "duration": 8,
    "start_time": "2024-12-30T14:54:47.982Z"
   },
   {
    "duration": 4,
    "start_time": "2024-12-30T14:54:47.991Z"
   },
   {
    "duration": 350,
    "start_time": "2024-12-30T14:54:47.997Z"
   },
   {
    "duration": 11,
    "start_time": "2024-12-30T14:54:48.349Z"
   },
   {
    "duration": 15,
    "start_time": "2024-12-30T14:54:48.362Z"
   },
   {
    "duration": 7,
    "start_time": "2024-12-30T14:54:48.379Z"
   },
   {
    "duration": 301,
    "start_time": "2024-12-30T14:54:48.388Z"
   },
   {
    "duration": 12,
    "start_time": "2024-12-30T14:54:48.691Z"
   },
   {
    "duration": 8,
    "start_time": "2024-12-30T14:54:48.704Z"
   },
   {
    "duration": 4,
    "start_time": "2024-12-30T14:54:48.714Z"
   },
   {
    "duration": 353,
    "start_time": "2024-12-30T14:54:48.719Z"
   },
   {
    "duration": 5,
    "start_time": "2024-12-30T14:54:49.075Z"
   },
   {
    "duration": 120,
    "start_time": "2024-12-30T14:54:49.082Z"
   },
   {
    "duration": 7,
    "start_time": "2024-12-30T14:54:49.204Z"
   },
   {
    "duration": 114,
    "start_time": "2024-12-30T14:54:49.212Z"
   },
   {
    "duration": 3,
    "start_time": "2024-12-30T14:54:49.328Z"
   },
   {
    "duration": 5,
    "start_time": "2024-12-30T14:54:49.333Z"
   },
   {
    "duration": 4,
    "start_time": "2024-12-30T14:54:49.340Z"
   },
   {
    "duration": 95,
    "start_time": "2024-12-30T14:54:49.346Z"
   },
   {
    "duration": 5,
    "start_time": "2024-12-30T14:54:49.443Z"
   },
   {
    "duration": 27,
    "start_time": "2024-12-30T14:54:49.450Z"
   },
   {
    "duration": 13,
    "start_time": "2024-12-30T14:54:49.479Z"
   },
   {
    "duration": 120,
    "start_time": "2024-12-30T14:54:49.494Z"
   },
   {
    "duration": 12,
    "start_time": "2024-12-30T14:54:49.616Z"
   },
   {
    "duration": 203,
    "start_time": "2024-12-30T14:54:49.630Z"
   },
   {
    "duration": 141,
    "start_time": "2024-12-30T14:54:49.835Z"
   },
   {
    "duration": 25,
    "start_time": "2024-12-30T14:54:49.978Z"
   },
   {
    "duration": 11,
    "start_time": "2024-12-30T14:54:50.005Z"
   },
   {
    "duration": 9,
    "start_time": "2024-12-30T14:54:50.017Z"
   },
   {
    "duration": 6,
    "start_time": "2024-12-30T14:54:50.028Z"
   },
   {
    "duration": 34,
    "start_time": "2024-12-30T14:54:50.036Z"
   },
   {
    "duration": 12,
    "start_time": "2024-12-30T14:54:50.072Z"
   }
  ],
  "kernelspec": {
   "display_name": "Python 3 (ipykernel)",
   "language": "python",
   "name": "python3"
  },
  "language_info": {
   "codemirror_mode": {
    "name": "ipython",
    "version": 3
   },
   "file_extension": ".py",
   "mimetype": "text/x-python",
   "name": "python",
   "nbconvert_exporter": "python",
   "pygments_lexer": "ipython3",
   "version": "3.9.19"
  },
  "toc": {
   "base_numbering": 1,
   "nav_menu": {},
   "number_sections": true,
   "sideBar": true,
   "skip_h1_title": true,
   "title_cell": "Table of Contents",
   "title_sidebar": "Contents",
   "toc_cell": false,
   "toc_position": {},
   "toc_section_display": true,
   "toc_window_display": false
  }
 },
 "nbformat": 4,
 "nbformat_minor": 2
}
